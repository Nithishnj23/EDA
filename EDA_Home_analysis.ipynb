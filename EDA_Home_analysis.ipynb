{
  "nbformat": 4,
  "nbformat_minor": 0,
  "metadata": {
    "colab": {
      "name": "EDA-Home analysis",
      "provenance": [],
      "toc_visible": true,
      "authorship_tag": "ABX9TyMF9mIzh1mKtWPh+z6tNXyX",
      "include_colab_link": true
    },
    "kernelspec": {
      "name": "python3",
      "display_name": "Python 3"
    },
    "language_info": {
      "name": "python"
    }
  },
  "cells": [
    {
      "cell_type": "markdown",
      "metadata": {
        "id": "view-in-github",
        "colab_type": "text"
      },
      "source": [
        "<a href=\"https://colab.research.google.com/github/Nithishnj23/nj/blob/main/EDA_Home_analysis.ipynb\" target=\"_parent\"><img src=\"https://colab.research.google.com/assets/colab-badge.svg\" alt=\"Open In Colab\"/></a>"
      ]
    },
    {
      "cell_type": "markdown",
      "source": [
        "**Importing libraries**"
      ],
      "metadata": {
        "id": "Svv0RBsuuh7S"
      }
    },
    {
      "cell_type": "code",
      "source": [
        "import pandas as pd\n",
        "import numpy as np\n",
        "import matplotlib.pyplot as plt\n",
        "import seaborn as sns"
      ],
      "metadata": {
        "id": "j3qYHLLNoSmr"
      },
      "execution_count": 1,
      "outputs": []
    },
    {
      "cell_type": "markdown",
      "source": [
        "**Loading datasets**"
      ],
      "metadata": {
        "id": "9eCfBretudkp"
      }
    },
    {
      "cell_type": "code",
      "source": [
        "from google.colab import files \n",
        "uploaded = files.upload()"
      ],
      "metadata": {
        "colab": {
          "resources": {
            "http://localhost:8080/nbextensions/google.colab/files.js": {
              "data": "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",
              "ok": true,
              "headers": [
                [
                  "content-type",
                  "application/javascript"
                ]
              ],
              "status": 200,
              "status_text": ""
            }
          },
          "base_uri": "https://localhost:8080/",
          "height": 73
        },
        "id": "HCqrau41oeb-",
        "outputId": "b070fe92-d38b-44d8-8dab-791fb12f7790"
      },
      "execution_count": 2,
      "outputs": [
        {
          "output_type": "display_data",
          "data": {
            "text/plain": [
              "<IPython.core.display.HTML object>"
            ],
            "text/html": [
              "\n",
              "     <input type=\"file\" id=\"files-3db06dcc-7089-41b7-833a-ea58608c9ef9\" name=\"files[]\" multiple disabled\n",
              "        style=\"border:none\" />\n",
              "     <output id=\"result-3db06dcc-7089-41b7-833a-ea58608c9ef9\">\n",
              "      Upload widget is only available when the cell has been executed in the\n",
              "      current browser session. Please rerun this cell to enable.\n",
              "      </output>\n",
              "      <script src=\"/nbextensions/google.colab/files.js\"></script> "
            ]
          },
          "metadata": {}
        },
        {
          "output_type": "stream",
          "name": "stdout",
          "text": [
            "Saving train.csv to train.csv\n"
          ]
        }
      ]
    },
    {
      "cell_type": "code",
      "source": [
        "from google.colab import files \n",
        "uploaded = files.upload()"
      ],
      "metadata": {
        "colab": {
          "resources": {
            "http://localhost:8080/nbextensions/google.colab/files.js": {
              "data": "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",
              "ok": true,
              "headers": [
                [
                  "content-type",
                  "application/javascript"
                ]
              ],
              "status": 200,
              "status_text": ""
            }
          },
          "base_uri": "https://localhost:8080/",
          "height": 73
        },
        "id": "rYXf5Aydo-_5",
        "outputId": "e64d6e0d-bc3e-4dfe-f0dc-27db44640402"
      },
      "execution_count": 3,
      "outputs": [
        {
          "output_type": "display_data",
          "data": {
            "text/plain": [
              "<IPython.core.display.HTML object>"
            ],
            "text/html": [
              "\n",
              "     <input type=\"file\" id=\"files-ae677832-14b3-4138-8f99-7ee430ce80b8\" name=\"files[]\" multiple disabled\n",
              "        style=\"border:none\" />\n",
              "     <output id=\"result-ae677832-14b3-4138-8f99-7ee430ce80b8\">\n",
              "      Upload widget is only available when the cell has been executed in the\n",
              "      current browser session. Please rerun this cell to enable.\n",
              "      </output>\n",
              "      <script src=\"/nbextensions/google.colab/files.js\"></script> "
            ]
          },
          "metadata": {}
        },
        {
          "output_type": "stream",
          "name": "stdout",
          "text": [
            "Saving test.csv to test.csv\n"
          ]
        }
      ]
    },
    {
      "cell_type": "code",
      "source": [
        "train.describe(include='all')"
      ],
      "metadata": {
        "colab": {
          "base_uri": "https://localhost:8080/",
          "height": 487
        },
        "id": "PQpyanOxqjPI",
        "outputId": "61343352-1b74-44b0-a256-bd14a7dd2e3f"
      },
      "execution_count": 10,
      "outputs": [
        {
          "output_type": "execute_result",
          "data": {
            "text/plain": [
              "                 Id   MSSubClass MSZoning  LotFrontage        LotArea Street  \\\n",
              "count   1460.000000  1460.000000     1460  1201.000000    1460.000000   1460   \n",
              "unique          NaN          NaN        5          NaN            NaN      2   \n",
              "top             NaN          NaN       RL          NaN            NaN   Pave   \n",
              "freq            NaN          NaN     1151          NaN            NaN   1454   \n",
              "mean     730.500000    56.897260      NaN    70.049958   10516.828082    NaN   \n",
              "std      421.610009    42.300571      NaN    24.284752    9981.264932    NaN   \n",
              "min        1.000000    20.000000      NaN    21.000000    1300.000000    NaN   \n",
              "25%      365.750000    20.000000      NaN    59.000000    7553.500000    NaN   \n",
              "50%      730.500000    50.000000      NaN    69.000000    9478.500000    NaN   \n",
              "75%     1095.250000    70.000000      NaN    80.000000   11601.500000    NaN   \n",
              "max     1460.000000   190.000000      NaN   313.000000  215245.000000    NaN   \n",
              "\n",
              "       Alley LotShape LandContour Utilities  ...     PoolArea PoolQC  Fence  \\\n",
              "count     91     1460        1460      1460  ...  1460.000000      7    281   \n",
              "unique     2        4           4         2  ...          NaN      3      4   \n",
              "top     Grvl      Reg         Lvl    AllPub  ...          NaN     Gd  MnPrv   \n",
              "freq      50      925        1311      1459  ...          NaN      3    157   \n",
              "mean     NaN      NaN         NaN       NaN  ...     2.758904    NaN    NaN   \n",
              "std      NaN      NaN         NaN       NaN  ...    40.177307    NaN    NaN   \n",
              "min      NaN      NaN         NaN       NaN  ...     0.000000    NaN    NaN   \n",
              "25%      NaN      NaN         NaN       NaN  ...     0.000000    NaN    NaN   \n",
              "50%      NaN      NaN         NaN       NaN  ...     0.000000    NaN    NaN   \n",
              "75%      NaN      NaN         NaN       NaN  ...     0.000000    NaN    NaN   \n",
              "max      NaN      NaN         NaN       NaN  ...   738.000000    NaN    NaN   \n",
              "\n",
              "       MiscFeature       MiscVal       MoSold       YrSold  SaleType  \\\n",
              "count           54   1460.000000  1460.000000  1460.000000      1460   \n",
              "unique           4           NaN          NaN          NaN         9   \n",
              "top           Shed           NaN          NaN          NaN        WD   \n",
              "freq            49           NaN          NaN          NaN      1267   \n",
              "mean           NaN     43.489041     6.321918  2007.815753       NaN   \n",
              "std            NaN    496.123024     2.703626     1.328095       NaN   \n",
              "min            NaN      0.000000     1.000000  2006.000000       NaN   \n",
              "25%            NaN      0.000000     5.000000  2007.000000       NaN   \n",
              "50%            NaN      0.000000     6.000000  2008.000000       NaN   \n",
              "75%            NaN      0.000000     8.000000  2009.000000       NaN   \n",
              "max            NaN  15500.000000    12.000000  2010.000000       NaN   \n",
              "\n",
              "        SaleCondition      SalePrice  \n",
              "count            1460    1460.000000  \n",
              "unique              6            NaN  \n",
              "top            Normal            NaN  \n",
              "freq             1198            NaN  \n",
              "mean              NaN  180921.195890  \n",
              "std               NaN   79442.502883  \n",
              "min               NaN   34900.000000  \n",
              "25%               NaN  129975.000000  \n",
              "50%               NaN  163000.000000  \n",
              "75%               NaN  214000.000000  \n",
              "max               NaN  755000.000000  \n",
              "\n",
              "[11 rows x 81 columns]"
            ],
            "text/html": [
              "\n",
              "  <div id=\"df-da6f7ae5-0089-49f8-bc94-70dca6861faf\">\n",
              "    <div class=\"colab-df-container\">\n",
              "      <div>\n",
              "<style scoped>\n",
              "    .dataframe tbody tr th:only-of-type {\n",
              "        vertical-align: middle;\n",
              "    }\n",
              "\n",
              "    .dataframe tbody tr th {\n",
              "        vertical-align: top;\n",
              "    }\n",
              "\n",
              "    .dataframe thead th {\n",
              "        text-align: right;\n",
              "    }\n",
              "</style>\n",
              "<table border=\"1\" class=\"dataframe\">\n",
              "  <thead>\n",
              "    <tr style=\"text-align: right;\">\n",
              "      <th></th>\n",
              "      <th>Id</th>\n",
              "      <th>MSSubClass</th>\n",
              "      <th>MSZoning</th>\n",
              "      <th>LotFrontage</th>\n",
              "      <th>LotArea</th>\n",
              "      <th>Street</th>\n",
              "      <th>Alley</th>\n",
              "      <th>LotShape</th>\n",
              "      <th>LandContour</th>\n",
              "      <th>Utilities</th>\n",
              "      <th>...</th>\n",
              "      <th>PoolArea</th>\n",
              "      <th>PoolQC</th>\n",
              "      <th>Fence</th>\n",
              "      <th>MiscFeature</th>\n",
              "      <th>MiscVal</th>\n",
              "      <th>MoSold</th>\n",
              "      <th>YrSold</th>\n",
              "      <th>SaleType</th>\n",
              "      <th>SaleCondition</th>\n",
              "      <th>SalePrice</th>\n",
              "    </tr>\n",
              "  </thead>\n",
              "  <tbody>\n",
              "    <tr>\n",
              "      <th>count</th>\n",
              "      <td>1460.000000</td>\n",
              "      <td>1460.000000</td>\n",
              "      <td>1460</td>\n",
              "      <td>1201.000000</td>\n",
              "      <td>1460.000000</td>\n",
              "      <td>1460</td>\n",
              "      <td>91</td>\n",
              "      <td>1460</td>\n",
              "      <td>1460</td>\n",
              "      <td>1460</td>\n",
              "      <td>...</td>\n",
              "      <td>1460.000000</td>\n",
              "      <td>7</td>\n",
              "      <td>281</td>\n",
              "      <td>54</td>\n",
              "      <td>1460.000000</td>\n",
              "      <td>1460.000000</td>\n",
              "      <td>1460.000000</td>\n",
              "      <td>1460</td>\n",
              "      <td>1460</td>\n",
              "      <td>1460.000000</td>\n",
              "    </tr>\n",
              "    <tr>\n",
              "      <th>unique</th>\n",
              "      <td>NaN</td>\n",
              "      <td>NaN</td>\n",
              "      <td>5</td>\n",
              "      <td>NaN</td>\n",
              "      <td>NaN</td>\n",
              "      <td>2</td>\n",
              "      <td>2</td>\n",
              "      <td>4</td>\n",
              "      <td>4</td>\n",
              "      <td>2</td>\n",
              "      <td>...</td>\n",
              "      <td>NaN</td>\n",
              "      <td>3</td>\n",
              "      <td>4</td>\n",
              "      <td>4</td>\n",
              "      <td>NaN</td>\n",
              "      <td>NaN</td>\n",
              "      <td>NaN</td>\n",
              "      <td>9</td>\n",
              "      <td>6</td>\n",
              "      <td>NaN</td>\n",
              "    </tr>\n",
              "    <tr>\n",
              "      <th>top</th>\n",
              "      <td>NaN</td>\n",
              "      <td>NaN</td>\n",
              "      <td>RL</td>\n",
              "      <td>NaN</td>\n",
              "      <td>NaN</td>\n",
              "      <td>Pave</td>\n",
              "      <td>Grvl</td>\n",
              "      <td>Reg</td>\n",
              "      <td>Lvl</td>\n",
              "      <td>AllPub</td>\n",
              "      <td>...</td>\n",
              "      <td>NaN</td>\n",
              "      <td>Gd</td>\n",
              "      <td>MnPrv</td>\n",
              "      <td>Shed</td>\n",
              "      <td>NaN</td>\n",
              "      <td>NaN</td>\n",
              "      <td>NaN</td>\n",
              "      <td>WD</td>\n",
              "      <td>Normal</td>\n",
              "      <td>NaN</td>\n",
              "    </tr>\n",
              "    <tr>\n",
              "      <th>freq</th>\n",
              "      <td>NaN</td>\n",
              "      <td>NaN</td>\n",
              "      <td>1151</td>\n",
              "      <td>NaN</td>\n",
              "      <td>NaN</td>\n",
              "      <td>1454</td>\n",
              "      <td>50</td>\n",
              "      <td>925</td>\n",
              "      <td>1311</td>\n",
              "      <td>1459</td>\n",
              "      <td>...</td>\n",
              "      <td>NaN</td>\n",
              "      <td>3</td>\n",
              "      <td>157</td>\n",
              "      <td>49</td>\n",
              "      <td>NaN</td>\n",
              "      <td>NaN</td>\n",
              "      <td>NaN</td>\n",
              "      <td>1267</td>\n",
              "      <td>1198</td>\n",
              "      <td>NaN</td>\n",
              "    </tr>\n",
              "    <tr>\n",
              "      <th>mean</th>\n",
              "      <td>730.500000</td>\n",
              "      <td>56.897260</td>\n",
              "      <td>NaN</td>\n",
              "      <td>70.049958</td>\n",
              "      <td>10516.828082</td>\n",
              "      <td>NaN</td>\n",
              "      <td>NaN</td>\n",
              "      <td>NaN</td>\n",
              "      <td>NaN</td>\n",
              "      <td>NaN</td>\n",
              "      <td>...</td>\n",
              "      <td>2.758904</td>\n",
              "      <td>NaN</td>\n",
              "      <td>NaN</td>\n",
              "      <td>NaN</td>\n",
              "      <td>43.489041</td>\n",
              "      <td>6.321918</td>\n",
              "      <td>2007.815753</td>\n",
              "      <td>NaN</td>\n",
              "      <td>NaN</td>\n",
              "      <td>180921.195890</td>\n",
              "    </tr>\n",
              "    <tr>\n",
              "      <th>std</th>\n",
              "      <td>421.610009</td>\n",
              "      <td>42.300571</td>\n",
              "      <td>NaN</td>\n",
              "      <td>24.284752</td>\n",
              "      <td>9981.264932</td>\n",
              "      <td>NaN</td>\n",
              "      <td>NaN</td>\n",
              "      <td>NaN</td>\n",
              "      <td>NaN</td>\n",
              "      <td>NaN</td>\n",
              "      <td>...</td>\n",
              "      <td>40.177307</td>\n",
              "      <td>NaN</td>\n",
              "      <td>NaN</td>\n",
              "      <td>NaN</td>\n",
              "      <td>496.123024</td>\n",
              "      <td>2.703626</td>\n",
              "      <td>1.328095</td>\n",
              "      <td>NaN</td>\n",
              "      <td>NaN</td>\n",
              "      <td>79442.502883</td>\n",
              "    </tr>\n",
              "    <tr>\n",
              "      <th>min</th>\n",
              "      <td>1.000000</td>\n",
              "      <td>20.000000</td>\n",
              "      <td>NaN</td>\n",
              "      <td>21.000000</td>\n",
              "      <td>1300.000000</td>\n",
              "      <td>NaN</td>\n",
              "      <td>NaN</td>\n",
              "      <td>NaN</td>\n",
              "      <td>NaN</td>\n",
              "      <td>NaN</td>\n",
              "      <td>...</td>\n",
              "      <td>0.000000</td>\n",
              "      <td>NaN</td>\n",
              "      <td>NaN</td>\n",
              "      <td>NaN</td>\n",
              "      <td>0.000000</td>\n",
              "      <td>1.000000</td>\n",
              "      <td>2006.000000</td>\n",
              "      <td>NaN</td>\n",
              "      <td>NaN</td>\n",
              "      <td>34900.000000</td>\n",
              "    </tr>\n",
              "    <tr>\n",
              "      <th>25%</th>\n",
              "      <td>365.750000</td>\n",
              "      <td>20.000000</td>\n",
              "      <td>NaN</td>\n",
              "      <td>59.000000</td>\n",
              "      <td>7553.500000</td>\n",
              "      <td>NaN</td>\n",
              "      <td>NaN</td>\n",
              "      <td>NaN</td>\n",
              "      <td>NaN</td>\n",
              "      <td>NaN</td>\n",
              "      <td>...</td>\n",
              "      <td>0.000000</td>\n",
              "      <td>NaN</td>\n",
              "      <td>NaN</td>\n",
              "      <td>NaN</td>\n",
              "      <td>0.000000</td>\n",
              "      <td>5.000000</td>\n",
              "      <td>2007.000000</td>\n",
              "      <td>NaN</td>\n",
              "      <td>NaN</td>\n",
              "      <td>129975.000000</td>\n",
              "    </tr>\n",
              "    <tr>\n",
              "      <th>50%</th>\n",
              "      <td>730.500000</td>\n",
              "      <td>50.000000</td>\n",
              "      <td>NaN</td>\n",
              "      <td>69.000000</td>\n",
              "      <td>9478.500000</td>\n",
              "      <td>NaN</td>\n",
              "      <td>NaN</td>\n",
              "      <td>NaN</td>\n",
              "      <td>NaN</td>\n",
              "      <td>NaN</td>\n",
              "      <td>...</td>\n",
              "      <td>0.000000</td>\n",
              "      <td>NaN</td>\n",
              "      <td>NaN</td>\n",
              "      <td>NaN</td>\n",
              "      <td>0.000000</td>\n",
              "      <td>6.000000</td>\n",
              "      <td>2008.000000</td>\n",
              "      <td>NaN</td>\n",
              "      <td>NaN</td>\n",
              "      <td>163000.000000</td>\n",
              "    </tr>\n",
              "    <tr>\n",
              "      <th>75%</th>\n",
              "      <td>1095.250000</td>\n",
              "      <td>70.000000</td>\n",
              "      <td>NaN</td>\n",
              "      <td>80.000000</td>\n",
              "      <td>11601.500000</td>\n",
              "      <td>NaN</td>\n",
              "      <td>NaN</td>\n",
              "      <td>NaN</td>\n",
              "      <td>NaN</td>\n",
              "      <td>NaN</td>\n",
              "      <td>...</td>\n",
              "      <td>0.000000</td>\n",
              "      <td>NaN</td>\n",
              "      <td>NaN</td>\n",
              "      <td>NaN</td>\n",
              "      <td>0.000000</td>\n",
              "      <td>8.000000</td>\n",
              "      <td>2009.000000</td>\n",
              "      <td>NaN</td>\n",
              "      <td>NaN</td>\n",
              "      <td>214000.000000</td>\n",
              "    </tr>\n",
              "    <tr>\n",
              "      <th>max</th>\n",
              "      <td>1460.000000</td>\n",
              "      <td>190.000000</td>\n",
              "      <td>NaN</td>\n",
              "      <td>313.000000</td>\n",
              "      <td>215245.000000</td>\n",
              "      <td>NaN</td>\n",
              "      <td>NaN</td>\n",
              "      <td>NaN</td>\n",
              "      <td>NaN</td>\n",
              "      <td>NaN</td>\n",
              "      <td>...</td>\n",
              "      <td>738.000000</td>\n",
              "      <td>NaN</td>\n",
              "      <td>NaN</td>\n",
              "      <td>NaN</td>\n",
              "      <td>15500.000000</td>\n",
              "      <td>12.000000</td>\n",
              "      <td>2010.000000</td>\n",
              "      <td>NaN</td>\n",
              "      <td>NaN</td>\n",
              "      <td>755000.000000</td>\n",
              "    </tr>\n",
              "  </tbody>\n",
              "</table>\n",
              "<p>11 rows × 81 columns</p>\n",
              "</div>\n",
              "      <button class=\"colab-df-convert\" onclick=\"convertToInteractive('df-da6f7ae5-0089-49f8-bc94-70dca6861faf')\"\n",
              "              title=\"Convert this dataframe to an interactive table.\"\n",
              "              style=\"display:none;\">\n",
              "        \n",
              "  <svg xmlns=\"http://www.w3.org/2000/svg\" height=\"24px\"viewBox=\"0 0 24 24\"\n",
              "       width=\"24px\">\n",
              "    <path d=\"M0 0h24v24H0V0z\" fill=\"none\"/>\n",
              "    <path d=\"M18.56 5.44l.94 2.06.94-2.06 2.06-.94-2.06-.94-.94-2.06-.94 2.06-2.06.94zm-11 1L8.5 8.5l.94-2.06 2.06-.94-2.06-.94L8.5 2.5l-.94 2.06-2.06.94zm10 10l.94 2.06.94-2.06 2.06-.94-2.06-.94-.94-2.06-.94 2.06-2.06.94z\"/><path d=\"M17.41 7.96l-1.37-1.37c-.4-.4-.92-.59-1.43-.59-.52 0-1.04.2-1.43.59L10.3 9.45l-7.72 7.72c-.78.78-.78 2.05 0 2.83L4 21.41c.39.39.9.59 1.41.59.51 0 1.02-.2 1.41-.59l7.78-7.78 2.81-2.81c.8-.78.8-2.07 0-2.86zM5.41 20L4 18.59l7.72-7.72 1.47 1.35L5.41 20z\"/>\n",
              "  </svg>\n",
              "      </button>\n",
              "      \n",
              "  <style>\n",
              "    .colab-df-container {\n",
              "      display:flex;\n",
              "      flex-wrap:wrap;\n",
              "      gap: 12px;\n",
              "    }\n",
              "\n",
              "    .colab-df-convert {\n",
              "      background-color: #E8F0FE;\n",
              "      border: none;\n",
              "      border-radius: 50%;\n",
              "      cursor: pointer;\n",
              "      display: none;\n",
              "      fill: #1967D2;\n",
              "      height: 32px;\n",
              "      padding: 0 0 0 0;\n",
              "      width: 32px;\n",
              "    }\n",
              "\n",
              "    .colab-df-convert:hover {\n",
              "      background-color: #E2EBFA;\n",
              "      box-shadow: 0px 1px 2px rgba(60, 64, 67, 0.3), 0px 1px 3px 1px rgba(60, 64, 67, 0.15);\n",
              "      fill: #174EA6;\n",
              "    }\n",
              "\n",
              "    [theme=dark] .colab-df-convert {\n",
              "      background-color: #3B4455;\n",
              "      fill: #D2E3FC;\n",
              "    }\n",
              "\n",
              "    [theme=dark] .colab-df-convert:hover {\n",
              "      background-color: #434B5C;\n",
              "      box-shadow: 0px 1px 3px 1px rgba(0, 0, 0, 0.15);\n",
              "      filter: drop-shadow(0px 1px 2px rgba(0, 0, 0, 0.3));\n",
              "      fill: #FFFFFF;\n",
              "    }\n",
              "  </style>\n",
              "\n",
              "      <script>\n",
              "        const buttonEl =\n",
              "          document.querySelector('#df-da6f7ae5-0089-49f8-bc94-70dca6861faf button.colab-df-convert');\n",
              "        buttonEl.style.display =\n",
              "          google.colab.kernel.accessAllowed ? 'block' : 'none';\n",
              "\n",
              "        async function convertToInteractive(key) {\n",
              "          const element = document.querySelector('#df-da6f7ae5-0089-49f8-bc94-70dca6861faf');\n",
              "          const dataTable =\n",
              "            await google.colab.kernel.invokeFunction('convertToInteractive',\n",
              "                                                     [key], {});\n",
              "          if (!dataTable) return;\n",
              "\n",
              "          const docLinkHtml = 'Like what you see? Visit the ' +\n",
              "            '<a target=\"_blank\" href=https://colab.research.google.com/notebooks/data_table.ipynb>data table notebook</a>'\n",
              "            + ' to learn more about interactive tables.';\n",
              "          element.innerHTML = '';\n",
              "          dataTable['output_type'] = 'display_data';\n",
              "          await google.colab.output.renderOutput(dataTable, element);\n",
              "          const docLink = document.createElement('div');\n",
              "          docLink.innerHTML = docLinkHtml;\n",
              "          element.appendChild(docLink);\n",
              "        }\n",
              "      </script>\n",
              "    </div>\n",
              "  </div>\n",
              "  "
            ]
          },
          "metadata": {},
          "execution_count": 10
        }
      ]
    },
    {
      "cell_type": "code",
      "source": [
        "train.shape"
      ],
      "metadata": {
        "colab": {
          "base_uri": "https://localhost:8080/"
        },
        "id": "nuQ7P5gVqpwA",
        "outputId": "ba9a3598-690d-4551-f202-9704dac4eb44"
      },
      "execution_count": 11,
      "outputs": [
        {
          "output_type": "execute_result",
          "data": {
            "text/plain": [
              "(1460, 81)"
            ]
          },
          "metadata": {},
          "execution_count": 11
        }
      ]
    },
    {
      "cell_type": "code",
      "source": [
        "train.isnull().sum().sort_values(ascending= False).head(20)"
      ],
      "metadata": {
        "colab": {
          "base_uri": "https://localhost:8080/"
        },
        "id": "qm0UWDdGqsID",
        "outputId": "11b4cd47-37fc-4198-eb14-9faeaff61d4e"
      },
      "execution_count": 12,
      "outputs": [
        {
          "output_type": "execute_result",
          "data": {
            "text/plain": [
              "PoolQC          1453\n",
              "MiscFeature     1406\n",
              "Alley           1369\n",
              "Fence           1179\n",
              "FireplaceQu      690\n",
              "LotFrontage      259\n",
              "GarageYrBlt       81\n",
              "GarageCond        81\n",
              "GarageType        81\n",
              "GarageFinish      81\n",
              "GarageQual        81\n",
              "BsmtFinType2      38\n",
              "BsmtExposure      38\n",
              "BsmtQual          37\n",
              "BsmtCond          37\n",
              "BsmtFinType1      37\n",
              "MasVnrArea         8\n",
              "MasVnrType         8\n",
              "Electrical         1\n",
              "Id                 0\n",
              "dtype: int64"
            ]
          },
          "metadata": {},
          "execution_count": 12
        }
      ]
    },
    {
      "cell_type": "markdown",
      "source": [
        "**#Dropping the column with plenty of missing data**"
      ],
      "metadata": {
        "id": "NKkbqoAgqvXw"
      }
    },
    {
      "cell_type": "code",
      "source": [
        "train.drop(['PoolQC','MiscFeature','Alley','Fence','LotFrontage'],axis=1)\n",
        "test.drop(['PoolQC','MiscFeature','Alley','Fence','LotFrontage'],axis=1)"
      ],
      "metadata": {
        "colab": {
          "base_uri": "https://localhost:8080/",
          "height": 487
        },
        "id": "nAVAjgZ9qs4k",
        "outputId": "51c4d731-b796-4e5f-ffa3-d897e968fd32"
      },
      "execution_count": 13,
      "outputs": [
        {
          "output_type": "execute_result",
          "data": {
            "text/plain": [
              "        Id  MSSubClass MSZoning  LotArea Street LotShape LandContour  \\\n",
              "0     1461          20       RH    11622   Pave      Reg         Lvl   \n",
              "1     1462          20       RL    14267   Pave      IR1         Lvl   \n",
              "2     1463          60       RL    13830   Pave      IR1         Lvl   \n",
              "3     1464          60       RL     9978   Pave      IR1         Lvl   \n",
              "4     1465         120       RL     5005   Pave      IR1         HLS   \n",
              "...    ...         ...      ...      ...    ...      ...         ...   \n",
              "1454  2915         160       RM     1936   Pave      Reg         Lvl   \n",
              "1455  2916         160       RM     1894   Pave      Reg         Lvl   \n",
              "1456  2917          20       RL    20000   Pave      Reg         Lvl   \n",
              "1457  2918          85       RL    10441   Pave      Reg         Lvl   \n",
              "1458  2919          60       RL     9627   Pave      Reg         Lvl   \n",
              "\n",
              "     Utilities LotConfig LandSlope  ... OpenPorchSF EnclosedPorch 3SsnPorch  \\\n",
              "0       AllPub    Inside       Gtl  ...           0             0         0   \n",
              "1       AllPub    Corner       Gtl  ...          36             0         0   \n",
              "2       AllPub    Inside       Gtl  ...          34             0         0   \n",
              "3       AllPub    Inside       Gtl  ...          36             0         0   \n",
              "4       AllPub    Inside       Gtl  ...          82             0         0   \n",
              "...        ...       ...       ...  ...         ...           ...       ...   \n",
              "1454    AllPub    Inside       Gtl  ...           0             0         0   \n",
              "1455    AllPub    Inside       Gtl  ...          24             0         0   \n",
              "1456    AllPub    Inside       Gtl  ...           0             0         0   \n",
              "1457    AllPub    Inside       Gtl  ...          32             0         0   \n",
              "1458    AllPub    Inside       Mod  ...          48             0         0   \n",
              "\n",
              "     ScreenPorch PoolArea  MiscVal  MoSold  YrSold  SaleType SaleCondition  \n",
              "0            120        0        0       6    2010        WD        Normal  \n",
              "1              0        0    12500       6    2010        WD        Normal  \n",
              "2              0        0        0       3    2010        WD        Normal  \n",
              "3              0        0        0       6    2010        WD        Normal  \n",
              "4            144        0        0       1    2010        WD        Normal  \n",
              "...          ...      ...      ...     ...     ...       ...           ...  \n",
              "1454           0        0        0       6    2006        WD        Normal  \n",
              "1455           0        0        0       4    2006        WD       Abnorml  \n",
              "1456           0        0        0       9    2006        WD       Abnorml  \n",
              "1457           0        0      700       7    2006        WD        Normal  \n",
              "1458           0        0        0      11    2006        WD        Normal  \n",
              "\n",
              "[1459 rows x 75 columns]"
            ],
            "text/html": [
              "\n",
              "  <div id=\"df-8123f866-5d0e-4be3-9bdb-cecc2252ab26\">\n",
              "    <div class=\"colab-df-container\">\n",
              "      <div>\n",
              "<style scoped>\n",
              "    .dataframe tbody tr th:only-of-type {\n",
              "        vertical-align: middle;\n",
              "    }\n",
              "\n",
              "    .dataframe tbody tr th {\n",
              "        vertical-align: top;\n",
              "    }\n",
              "\n",
              "    .dataframe thead th {\n",
              "        text-align: right;\n",
              "    }\n",
              "</style>\n",
              "<table border=\"1\" class=\"dataframe\">\n",
              "  <thead>\n",
              "    <tr style=\"text-align: right;\">\n",
              "      <th></th>\n",
              "      <th>Id</th>\n",
              "      <th>MSSubClass</th>\n",
              "      <th>MSZoning</th>\n",
              "      <th>LotArea</th>\n",
              "      <th>Street</th>\n",
              "      <th>LotShape</th>\n",
              "      <th>LandContour</th>\n",
              "      <th>Utilities</th>\n",
              "      <th>LotConfig</th>\n",
              "      <th>LandSlope</th>\n",
              "      <th>...</th>\n",
              "      <th>OpenPorchSF</th>\n",
              "      <th>EnclosedPorch</th>\n",
              "      <th>3SsnPorch</th>\n",
              "      <th>ScreenPorch</th>\n",
              "      <th>PoolArea</th>\n",
              "      <th>MiscVal</th>\n",
              "      <th>MoSold</th>\n",
              "      <th>YrSold</th>\n",
              "      <th>SaleType</th>\n",
              "      <th>SaleCondition</th>\n",
              "    </tr>\n",
              "  </thead>\n",
              "  <tbody>\n",
              "    <tr>\n",
              "      <th>0</th>\n",
              "      <td>1461</td>\n",
              "      <td>20</td>\n",
              "      <td>RH</td>\n",
              "      <td>11622</td>\n",
              "      <td>Pave</td>\n",
              "      <td>Reg</td>\n",
              "      <td>Lvl</td>\n",
              "      <td>AllPub</td>\n",
              "      <td>Inside</td>\n",
              "      <td>Gtl</td>\n",
              "      <td>...</td>\n",
              "      <td>0</td>\n",
              "      <td>0</td>\n",
              "      <td>0</td>\n",
              "      <td>120</td>\n",
              "      <td>0</td>\n",
              "      <td>0</td>\n",
              "      <td>6</td>\n",
              "      <td>2010</td>\n",
              "      <td>WD</td>\n",
              "      <td>Normal</td>\n",
              "    </tr>\n",
              "    <tr>\n",
              "      <th>1</th>\n",
              "      <td>1462</td>\n",
              "      <td>20</td>\n",
              "      <td>RL</td>\n",
              "      <td>14267</td>\n",
              "      <td>Pave</td>\n",
              "      <td>IR1</td>\n",
              "      <td>Lvl</td>\n",
              "      <td>AllPub</td>\n",
              "      <td>Corner</td>\n",
              "      <td>Gtl</td>\n",
              "      <td>...</td>\n",
              "      <td>36</td>\n",
              "      <td>0</td>\n",
              "      <td>0</td>\n",
              "      <td>0</td>\n",
              "      <td>0</td>\n",
              "      <td>12500</td>\n",
              "      <td>6</td>\n",
              "      <td>2010</td>\n",
              "      <td>WD</td>\n",
              "      <td>Normal</td>\n",
              "    </tr>\n",
              "    <tr>\n",
              "      <th>2</th>\n",
              "      <td>1463</td>\n",
              "      <td>60</td>\n",
              "      <td>RL</td>\n",
              "      <td>13830</td>\n",
              "      <td>Pave</td>\n",
              "      <td>IR1</td>\n",
              "      <td>Lvl</td>\n",
              "      <td>AllPub</td>\n",
              "      <td>Inside</td>\n",
              "      <td>Gtl</td>\n",
              "      <td>...</td>\n",
              "      <td>34</td>\n",
              "      <td>0</td>\n",
              "      <td>0</td>\n",
              "      <td>0</td>\n",
              "      <td>0</td>\n",
              "      <td>0</td>\n",
              "      <td>3</td>\n",
              "      <td>2010</td>\n",
              "      <td>WD</td>\n",
              "      <td>Normal</td>\n",
              "    </tr>\n",
              "    <tr>\n",
              "      <th>3</th>\n",
              "      <td>1464</td>\n",
              "      <td>60</td>\n",
              "      <td>RL</td>\n",
              "      <td>9978</td>\n",
              "      <td>Pave</td>\n",
              "      <td>IR1</td>\n",
              "      <td>Lvl</td>\n",
              "      <td>AllPub</td>\n",
              "      <td>Inside</td>\n",
              "      <td>Gtl</td>\n",
              "      <td>...</td>\n",
              "      <td>36</td>\n",
              "      <td>0</td>\n",
              "      <td>0</td>\n",
              "      <td>0</td>\n",
              "      <td>0</td>\n",
              "      <td>0</td>\n",
              "      <td>6</td>\n",
              "      <td>2010</td>\n",
              "      <td>WD</td>\n",
              "      <td>Normal</td>\n",
              "    </tr>\n",
              "    <tr>\n",
              "      <th>4</th>\n",
              "      <td>1465</td>\n",
              "      <td>120</td>\n",
              "      <td>RL</td>\n",
              "      <td>5005</td>\n",
              "      <td>Pave</td>\n",
              "      <td>IR1</td>\n",
              "      <td>HLS</td>\n",
              "      <td>AllPub</td>\n",
              "      <td>Inside</td>\n",
              "      <td>Gtl</td>\n",
              "      <td>...</td>\n",
              "      <td>82</td>\n",
              "      <td>0</td>\n",
              "      <td>0</td>\n",
              "      <td>144</td>\n",
              "      <td>0</td>\n",
              "      <td>0</td>\n",
              "      <td>1</td>\n",
              "      <td>2010</td>\n",
              "      <td>WD</td>\n",
              "      <td>Normal</td>\n",
              "    </tr>\n",
              "    <tr>\n",
              "      <th>...</th>\n",
              "      <td>...</td>\n",
              "      <td>...</td>\n",
              "      <td>...</td>\n",
              "      <td>...</td>\n",
              "      <td>...</td>\n",
              "      <td>...</td>\n",
              "      <td>...</td>\n",
              "      <td>...</td>\n",
              "      <td>...</td>\n",
              "      <td>...</td>\n",
              "      <td>...</td>\n",
              "      <td>...</td>\n",
              "      <td>...</td>\n",
              "      <td>...</td>\n",
              "      <td>...</td>\n",
              "      <td>...</td>\n",
              "      <td>...</td>\n",
              "      <td>...</td>\n",
              "      <td>...</td>\n",
              "      <td>...</td>\n",
              "      <td>...</td>\n",
              "    </tr>\n",
              "    <tr>\n",
              "      <th>1454</th>\n",
              "      <td>2915</td>\n",
              "      <td>160</td>\n",
              "      <td>RM</td>\n",
              "      <td>1936</td>\n",
              "      <td>Pave</td>\n",
              "      <td>Reg</td>\n",
              "      <td>Lvl</td>\n",
              "      <td>AllPub</td>\n",
              "      <td>Inside</td>\n",
              "      <td>Gtl</td>\n",
              "      <td>...</td>\n",
              "      <td>0</td>\n",
              "      <td>0</td>\n",
              "      <td>0</td>\n",
              "      <td>0</td>\n",
              "      <td>0</td>\n",
              "      <td>0</td>\n",
              "      <td>6</td>\n",
              "      <td>2006</td>\n",
              "      <td>WD</td>\n",
              "      <td>Normal</td>\n",
              "    </tr>\n",
              "    <tr>\n",
              "      <th>1455</th>\n",
              "      <td>2916</td>\n",
              "      <td>160</td>\n",
              "      <td>RM</td>\n",
              "      <td>1894</td>\n",
              "      <td>Pave</td>\n",
              "      <td>Reg</td>\n",
              "      <td>Lvl</td>\n",
              "      <td>AllPub</td>\n",
              "      <td>Inside</td>\n",
              "      <td>Gtl</td>\n",
              "      <td>...</td>\n",
              "      <td>24</td>\n",
              "      <td>0</td>\n",
              "      <td>0</td>\n",
              "      <td>0</td>\n",
              "      <td>0</td>\n",
              "      <td>0</td>\n",
              "      <td>4</td>\n",
              "      <td>2006</td>\n",
              "      <td>WD</td>\n",
              "      <td>Abnorml</td>\n",
              "    </tr>\n",
              "    <tr>\n",
              "      <th>1456</th>\n",
              "      <td>2917</td>\n",
              "      <td>20</td>\n",
              "      <td>RL</td>\n",
              "      <td>20000</td>\n",
              "      <td>Pave</td>\n",
              "      <td>Reg</td>\n",
              "      <td>Lvl</td>\n",
              "      <td>AllPub</td>\n",
              "      <td>Inside</td>\n",
              "      <td>Gtl</td>\n",
              "      <td>...</td>\n",
              "      <td>0</td>\n",
              "      <td>0</td>\n",
              "      <td>0</td>\n",
              "      <td>0</td>\n",
              "      <td>0</td>\n",
              "      <td>0</td>\n",
              "      <td>9</td>\n",
              "      <td>2006</td>\n",
              "      <td>WD</td>\n",
              "      <td>Abnorml</td>\n",
              "    </tr>\n",
              "    <tr>\n",
              "      <th>1457</th>\n",
              "      <td>2918</td>\n",
              "      <td>85</td>\n",
              "      <td>RL</td>\n",
              "      <td>10441</td>\n",
              "      <td>Pave</td>\n",
              "      <td>Reg</td>\n",
              "      <td>Lvl</td>\n",
              "      <td>AllPub</td>\n",
              "      <td>Inside</td>\n",
              "      <td>Gtl</td>\n",
              "      <td>...</td>\n",
              "      <td>32</td>\n",
              "      <td>0</td>\n",
              "      <td>0</td>\n",
              "      <td>0</td>\n",
              "      <td>0</td>\n",
              "      <td>700</td>\n",
              "      <td>7</td>\n",
              "      <td>2006</td>\n",
              "      <td>WD</td>\n",
              "      <td>Normal</td>\n",
              "    </tr>\n",
              "    <tr>\n",
              "      <th>1458</th>\n",
              "      <td>2919</td>\n",
              "      <td>60</td>\n",
              "      <td>RL</td>\n",
              "      <td>9627</td>\n",
              "      <td>Pave</td>\n",
              "      <td>Reg</td>\n",
              "      <td>Lvl</td>\n",
              "      <td>AllPub</td>\n",
              "      <td>Inside</td>\n",
              "      <td>Mod</td>\n",
              "      <td>...</td>\n",
              "      <td>48</td>\n",
              "      <td>0</td>\n",
              "      <td>0</td>\n",
              "      <td>0</td>\n",
              "      <td>0</td>\n",
              "      <td>0</td>\n",
              "      <td>11</td>\n",
              "      <td>2006</td>\n",
              "      <td>WD</td>\n",
              "      <td>Normal</td>\n",
              "    </tr>\n",
              "  </tbody>\n",
              "</table>\n",
              "<p>1459 rows × 75 columns</p>\n",
              "</div>\n",
              "      <button class=\"colab-df-convert\" onclick=\"convertToInteractive('df-8123f866-5d0e-4be3-9bdb-cecc2252ab26')\"\n",
              "              title=\"Convert this dataframe to an interactive table.\"\n",
              "              style=\"display:none;\">\n",
              "        \n",
              "  <svg xmlns=\"http://www.w3.org/2000/svg\" height=\"24px\"viewBox=\"0 0 24 24\"\n",
              "       width=\"24px\">\n",
              "    <path d=\"M0 0h24v24H0V0z\" fill=\"none\"/>\n",
              "    <path d=\"M18.56 5.44l.94 2.06.94-2.06 2.06-.94-2.06-.94-.94-2.06-.94 2.06-2.06.94zm-11 1L8.5 8.5l.94-2.06 2.06-.94-2.06-.94L8.5 2.5l-.94 2.06-2.06.94zm10 10l.94 2.06.94-2.06 2.06-.94-2.06-.94-.94-2.06-.94 2.06-2.06.94z\"/><path d=\"M17.41 7.96l-1.37-1.37c-.4-.4-.92-.59-1.43-.59-.52 0-1.04.2-1.43.59L10.3 9.45l-7.72 7.72c-.78.78-.78 2.05 0 2.83L4 21.41c.39.39.9.59 1.41.59.51 0 1.02-.2 1.41-.59l7.78-7.78 2.81-2.81c.8-.78.8-2.07 0-2.86zM5.41 20L4 18.59l7.72-7.72 1.47 1.35L5.41 20z\"/>\n",
              "  </svg>\n",
              "      </button>\n",
              "      \n",
              "  <style>\n",
              "    .colab-df-container {\n",
              "      display:flex;\n",
              "      flex-wrap:wrap;\n",
              "      gap: 12px;\n",
              "    }\n",
              "\n",
              "    .colab-df-convert {\n",
              "      background-color: #E8F0FE;\n",
              "      border: none;\n",
              "      border-radius: 50%;\n",
              "      cursor: pointer;\n",
              "      display: none;\n",
              "      fill: #1967D2;\n",
              "      height: 32px;\n",
              "      padding: 0 0 0 0;\n",
              "      width: 32px;\n",
              "    }\n",
              "\n",
              "    .colab-df-convert:hover {\n",
              "      background-color: #E2EBFA;\n",
              "      box-shadow: 0px 1px 2px rgba(60, 64, 67, 0.3), 0px 1px 3px 1px rgba(60, 64, 67, 0.15);\n",
              "      fill: #174EA6;\n",
              "    }\n",
              "\n",
              "    [theme=dark] .colab-df-convert {\n",
              "      background-color: #3B4455;\n",
              "      fill: #D2E3FC;\n",
              "    }\n",
              "\n",
              "    [theme=dark] .colab-df-convert:hover {\n",
              "      background-color: #434B5C;\n",
              "      box-shadow: 0px 1px 3px 1px rgba(0, 0, 0, 0.15);\n",
              "      filter: drop-shadow(0px 1px 2px rgba(0, 0, 0, 0.3));\n",
              "      fill: #FFFFFF;\n",
              "    }\n",
              "  </style>\n",
              "\n",
              "      <script>\n",
              "        const buttonEl =\n",
              "          document.querySelector('#df-8123f866-5d0e-4be3-9bdb-cecc2252ab26 button.colab-df-convert');\n",
              "        buttonEl.style.display =\n",
              "          google.colab.kernel.accessAllowed ? 'block' : 'none';\n",
              "\n",
              "        async function convertToInteractive(key) {\n",
              "          const element = document.querySelector('#df-8123f866-5d0e-4be3-9bdb-cecc2252ab26');\n",
              "          const dataTable =\n",
              "            await google.colab.kernel.invokeFunction('convertToInteractive',\n",
              "                                                     [key], {});\n",
              "          if (!dataTable) return;\n",
              "\n",
              "          const docLinkHtml = 'Like what you see? Visit the ' +\n",
              "            '<a target=\"_blank\" href=https://colab.research.google.com/notebooks/data_table.ipynb>data table notebook</a>'\n",
              "            + ' to learn more about interactive tables.';\n",
              "          element.innerHTML = '';\n",
              "          dataTable['output_type'] = 'display_data';\n",
              "          await google.colab.output.renderOutput(dataTable, element);\n",
              "          const docLink = document.createElement('div');\n",
              "          docLink.innerHTML = docLinkHtml;\n",
              "          element.appendChild(docLink);\n",
              "        }\n",
              "      </script>\n",
              "    </div>\n",
              "  </div>\n",
              "  "
            ]
          },
          "metadata": {},
          "execution_count": 13
        }
      ]
    },
    {
      "cell_type": "markdown",
      "source": [
        "**#Detecting outliers**"
      ],
      "metadata": {
        "id": "3GPFToJTq5zB"
      }
    },
    {
      "cell_type": "code",
      "source": [
        "print(train.shape)\n",
        "sns.scatterplot(y=\"SalePrice\", x=\"GrLivArea\", data=train)"
      ],
      "metadata": {
        "colab": {
          "base_uri": "https://localhost:8080/",
          "height": 314
        },
        "id": "Mx-aVmmiq4Ur",
        "outputId": "4e46aa13-17cb-4b55-aba2-eaa1d0af76f1"
      },
      "execution_count": 14,
      "outputs": [
        {
          "output_type": "stream",
          "name": "stdout",
          "text": [
            "(1460, 81)\n"
          ]
        },
        {
          "output_type": "execute_result",
          "data": {
            "text/plain": [
              "<matplotlib.axes._subplots.AxesSubplot at 0x7fd663cad210>"
            ]
          },
          "metadata": {},
          "execution_count": 14
        },
        {
          "output_type": "display_data",
          "data": {
            "text/plain": [
              "<Figure size 432x288 with 1 Axes>"
            ],
            "image/png": "[encoded data removed]"
          },
          "metadata": {
            "needs_background": "light"
          }
        }
      ]
    },
    {
      "cell_type": "code",
      "source": [
        "train.drop(train[(train['GrLivArea']>4000) & (train['SalePrice']<200000)].index, inplace=True)\n",
        "print('Rows and columns after dropping outliers :' , train.shape )"
      ],
      "metadata": {
        "colab": {
          "base_uri": "https://localhost:8080/"
        },
        "id": "bcQhv8SWrA4t",
        "outputId": "82499f83-4076-430d-ce65-882bb6934e06"
      },
      "execution_count": 15,
      "outputs": [
        {
          "output_type": "stream",
          "name": "stdout",
          "text": [
            "Rows and columns after dropping outliers : (1458, 81)\n"
          ]
        }
      ]
    },
    {
      "cell_type": "markdown",
      "source": [
        "**#MSSubClass : It identifies the type of dwelling involved in the sale.**"
      ],
      "metadata": {
        "id": "jgMXidpKrD9F"
      }
    },
    {
      "cell_type": "code",
      "source": [
        "sns.countplot(x=\"MSSubClass\",data=train)\n",
        "plt.title('MSSubClass Count')\n",
        "# It contains pretty imbalanced data and I can't get any good insights from it ,so neglecting its effect.  "
      ],
      "metadata": {
        "colab": {
          "base_uri": "https://localhost:8080/",
          "height": 312
        },
        "id": "39q2A-cOrFfo",
        "outputId": "d084585d-cf27-4d6f-9686-a035b7946f7f"
      },
      "execution_count": 16,
      "outputs": [
        {
          "output_type": "execute_result",
          "data": {
            "text/plain": [
              "Text(0.5, 1.0, 'MSSubClass Count')"
            ]
          },
          "metadata": {},
          "execution_count": 16
        },
        {
          "output_type": "display_data",
          "data": {
            "text/plain": [
              "<Figure size 432x288 with 1 Axes>"
            ],
            "image/png": "[encoded data removed]"
          },
          "metadata": {
            "needs_background": "light"
          }
        }
      ]
    },
    {
      "cell_type": "code",
      "source": [
        "cols = ['MSSubClass', 'MSZoning', 'LotFrontage', 'LotArea', 'Street',\n",
        "       'Alley', 'LotShape', 'LandContour', 'Utilities', 'LotConfig',\n",
        "       'LandSlope', 'Neighborhood', 'Condition1', 'Condition2', 'BldgType',\n",
        "       'HouseStyle', 'OverallQual', 'OverallCond', 'YearBuilt', 'YearRemodAdd',\n",
        "       'RoofStyle', 'RoofMatl', 'Exterior1st', 'Exterior2nd', 'MasVnrType',\n",
        "       'MasVnrArea', 'ExterQual', 'ExterCond', 'Foundation', 'BsmtQual',\n",
        "       'BsmtCond', 'BsmtExposure', 'BsmtFinType1', 'BsmtFinSF1',\n",
        "       'BsmtFinType2', 'BsmtFinSF2', 'BsmtUnfSF', 'TotalBsmtSF', 'Heating',\n",
        "       'HeatingQC', 'CentralAir', 'Electrical', '1stFlrSF', '2ndFlrSF',\n",
        "       'LowQualFinSF', 'GrLivArea', 'BsmtFullBath', 'BsmtHalfBath', 'FullBath',\n",
        "       'HalfBath', 'BedroomAbvGr', 'KitchenAbvGr', 'KitchenQual',\n",
        "       'TotRmsAbvGrd', 'Functional', 'Fireplaces', 'FireplaceQu', 'GarageType',\n",
        "       'GarageYrBlt', 'GarageFinish', 'GarageCars', 'GarageArea', 'GarageQual',\n",
        "       'GarageCond', 'PavedDrive', 'WoodDeckSF', 'OpenPorchSF',\n",
        "       'EnclosedPorch', '3SsnPorch', 'ScreenPorch', 'PoolArea', 'PoolQC',\n",
        "       'Fence', 'MiscFeature', 'MiscVal', 'MoSold', 'YrSold', 'SaleType',\n",
        "       'SaleCondition', 'SalePrice']\n",
        "features=[]\n",
        "obj_col=[]\n",
        "for col in cols:\n",
        "    if (train[col].dtype) == object :\n",
        "        obj_col.append(col)\n",
        "obj_col        "
      ],
      "metadata": {
        "colab": {
          "base_uri": "https://localhost:8080/"
        },
        "id": "yn0m3AZJrNRH",
        "outputId": "e828c282-f978-4975-90b8-038697a4b9f7"
      },
      "execution_count": 17,
      "outputs": [
        {
          "output_type": "execute_result",
          "data": {
            "text/plain": [
              "['MSZoning',\n",
              " 'Street',\n",
              " 'Alley',\n",
              " 'LotShape',\n",
              " 'LandContour',\n",
              " 'Utilities',\n",
              " 'LotConfig',\n",
              " 'LandSlope',\n",
              " 'Neighborhood',\n",
              " 'Condition1',\n",
              " 'Condition2',\n",
              " 'BldgType',\n",
              " 'HouseStyle',\n",
              " 'RoofStyle',\n",
              " 'RoofMatl',\n",
              " 'Exterior1st',\n",
              " 'Exterior2nd',\n",
              " 'MasVnrType',\n",
              " 'ExterQual',\n",
              " 'ExterCond',\n",
              " 'Foundation',\n",
              " 'BsmtQual',\n",
              " 'BsmtCond',\n",
              " 'BsmtExposure',\n",
              " 'BsmtFinType1',\n",
              " 'BsmtFinType2',\n",
              " 'Heating',\n",
              " 'HeatingQC',\n",
              " 'CentralAir',\n",
              " 'Electrical',\n",
              " 'KitchenQual',\n",
              " 'Functional',\n",
              " 'FireplaceQu',\n",
              " 'GarageType',\n",
              " 'GarageFinish',\n",
              " 'GarageQual',\n",
              " 'GarageCond',\n",
              " 'PavedDrive',\n",
              " 'PoolQC',\n",
              " 'Fence',\n",
              " 'MiscFeature',\n",
              " 'SaleType',\n",
              " 'SaleCondition']"
            ]
          },
          "metadata": {},
          "execution_count": 17
        }
      ]
    },
    {
      "cell_type": "markdown",
      "source": [
        "**#Plotting**"
      ],
      "metadata": {
        "id": "FGCpuHR2rUK9"
      }
    },
    {
      "cell_type": "code",
      "source": [
        "def plotting(col):\n",
        "    sns.countplot(x=col,data=train)\n",
        "    plt.title('CountPlot for '+ col)\n",
        "    print('No. of missing values are : ')\n",
        "    print(train[col].isnull().sum())\n",
        "    "
      ],
      "metadata": {
        "id": "B5Ge1iGkrXFh"
      },
      "execution_count": 18,
      "outputs": []
    },
    {
      "cell_type": "markdown",
      "source": [
        "**#Zoning Classification :  Identifies the general zoning classification of the sale.**"
      ],
      "metadata": {
        "id": "EazN3DHLrade"
      }
    },
    {
      "cell_type": "code",
      "source": [
        "plotting('MSZoning')\n",
        "#It contains pretty imbalanced data and I can't get any good insights from it ,so neglecting its effect. "
      ],
      "metadata": {
        "colab": {
          "base_uri": "https://localhost:8080/",
          "height": 330
        },
        "id": "cZFDE3PCrbsT",
        "outputId": "f86fb8a3-ac75-4ba8-9586-d2688d831c77"
      },
      "execution_count": 19,
      "outputs": [
        {
          "output_type": "stream",
          "name": "stdout",
          "text": [
            "No. of missing values are : \n",
            "0\n"
          ]
        },
        {
          "output_type": "display_data",
          "data": {
            "text/plain": [
              "<Figure size 432x288 with 1 Axes>"
            ],
            "image/png": "[encoded data removed]"
          },
          "metadata": {
            "needs_background": "light"
          }
        }
      ]
    },
    {
      "cell_type": "code",
      "source": [
        "#Street : Type of road access to property\n",
        "plotting('Street')\n",
        "#It contains pretty imbalanced data and I can't get any good insights from it ,so neglecting its effect. "
      ],
      "metadata": {
        "colab": {
          "base_uri": "https://localhost:8080/",
          "height": 330
        },
        "id": "SHXi-rTyrj27",
        "outputId": "4fd3ac1c-08cd-4385-caeb-7b55eda705e6"
      },
      "execution_count": 20,
      "outputs": [
        {
          "output_type": "stream",
          "name": "stdout",
          "text": [
            "No. of missing values are : \n",
            "0\n"
          ]
        },
        {
          "output_type": "display_data",
          "data": {
            "text/plain": [
              "<Figure size 432x288 with 1 Axes>"
            ],
            "image/png": "[encoded data removed]"
          },
          "metadata": {
            "needs_background": "light"
          }
        }
      ]
    },
    {
      "cell_type": "code",
      "source": [
        "# Lot Shape : General shape of property\n",
        "plotting('LotShape')\n",
        "features.append('LotShape')\n",
        "# It looks bit fine for considering this feature for final prediction.\n",
        "# Mapping its values\n",
        "train.LotShape=train.LotShape.replace({'Reg':1,'IR1':2,'IR2':3,'IR3':4})\n",
        "test.LotShape=test.LotShape.replace({'Reg':1,'IR1':2,'IR2':3,'IR3':4})"
      ],
      "metadata": {
        "colab": {
          "base_uri": "https://localhost:8080/",
          "height": 330
        },
        "id": "qgDqnsnGrmam",
        "outputId": "8d1d3ced-abdf-418f-ccdf-471d39b5b4aa"
      },
      "execution_count": 21,
      "outputs": [
        {
          "output_type": "stream",
          "name": "stdout",
          "text": [
            "No. of missing values are : \n",
            "0\n"
          ]
        },
        {
          "output_type": "display_data",
          "data": {
            "text/plain": [
              "<Figure size 432x288 with 1 Axes>"
            ],
            "image/png": "[encoded data removed]"
          },
          "metadata": {
            "needs_background": "light"
          }
        }
      ]
    },
    {
      "cell_type": "code",
      "source": [
        "#LandContour: Flatness of the property\n",
        "plotting('LandContour')\n",
        "#It is biased towards only one category so it should be avoided"
      ],
      "metadata": {
        "colab": {
          "base_uri": "https://localhost:8080/",
          "height": 330
        },
        "id": "HEvpnBV5rpay",
        "outputId": "8ceef624-13db-41c7-ec0b-64abc836ff13"
      },
      "execution_count": 22,
      "outputs": [
        {
          "output_type": "stream",
          "name": "stdout",
          "text": [
            "No. of missing values are : \n",
            "0\n"
          ]
        },
        {
          "output_type": "display_data",
          "data": {
            "text/plain": [
              "<Figure size 432x288 with 1 Axes>"
            ],
            "image/png": "[encoded data removed]"
          },
          "metadata": {
            "needs_background": "light"
          }
        }
      ]
    },
    {
      "cell_type": "code",
      "source": [
        "# Utilities: Type of utilities available\n",
        "plotting('Utilities')\n",
        "#Again a biased factor, so it should be avoided."
      ],
      "metadata": {
        "colab": {
          "base_uri": "https://localhost:8080/",
          "height": 330
        },
        "id": "zrTKG9TGrsQj",
        "outputId": "c016bbdf-d569-44b1-c090-b19ba1297a73"
      },
      "execution_count": 23,
      "outputs": [
        {
          "output_type": "stream",
          "name": "stdout",
          "text": [
            "No. of missing values are : \n",
            "0\n"
          ]
        },
        {
          "output_type": "display_data",
          "data": {
            "text/plain": [
              "<Figure size 432x288 with 1 Axes>"
            ],
            "image/png": "[encoded data removed]"
          },
          "metadata": {
            "needs_background": "light"
          }
        }
      ]
    },
    {
      "cell_type": "code",
      "source": [
        "#LotConfig: Lot configuration\n",
        "plotting('LotConfig')\n",
        "\n",
        "# Well it looks okayish as CornerLotConfig will surely boost the price.\n",
        "\n",
        "features.append('LotConfig')\n",
        "#Mapping the values to make this column suitable for model.\n",
        "train.LotConfig=train.LotConfig.replace({'Inside':1,'Corner':2,'CulDSac':3,'FR2':4,'FR3':5})\n",
        "test.LotConfig=test.LotConfig.replace({'Inside':1,'Corner':2,'CulDSac':3,'FR2':4,'FR3':5})"
      ],
      "metadata": {
        "colab": {
          "base_uri": "https://localhost:8080/",
          "height": 330
        },
        "id": "KpzS7RurrvLc",
        "outputId": "c7ce8534-9579-450f-ba98-0649ee5f8c98"
      },
      "execution_count": 24,
      "outputs": [
        {
          "output_type": "stream",
          "name": "stdout",
          "text": [
            "No. of missing values are : \n",
            "0\n"
          ]
        },
        {
          "output_type": "display_data",
          "data": {
            "text/plain": [
              "<Figure size 432x288 with 1 Axes>"
            ],
            "image/png": "[encoded data removed]"
          },
          "metadata": {
            "needs_background": "light"
          }
        }
      ]
    },
    {
      "cell_type": "code",
      "source": [
        ""
      ],
      "metadata": {
        "id": "LnSR3Mg_sBxJ"
      },
      "execution_count": null,
      "outputs": []
    },
    {
      "cell_type": "code",
      "source": [
        ""
      ],
      "metadata": {
        "id": "aFpr2Ac5sCva"
      },
      "execution_count": null,
      "outputs": []
    },
    {
      "cell_type": "code",
      "source": [
        "#LandSlope: Slope of property\n",
        "plotting('LandSlope')\n",
        "#This seems more biased towards Gentle Slope, so avoiding it."
      ],
      "metadata": {
        "colab": {
          "base_uri": "https://localhost:8080/",
          "height": 330
        },
        "id": "PLXbx8eDryJE",
        "outputId": "eb3ec01e-8127-418f-908b-1b0816b6ac8f"
      },
      "execution_count": 25,
      "outputs": [
        {
          "output_type": "stream",
          "name": "stdout",
          "text": [
            "No. of missing values are : \n",
            "0\n"
          ]
        },
        {
          "output_type": "display_data",
          "data": {
            "text/plain": [
              "<Figure size 432x288 with 1 Axes>"
            ],
            "image/png": "[encoded data removed]"
          },
          "metadata": {
            "needs_background": "light"
          }
        }
      ]
    },
    {
      "cell_type": "code",
      "source": [
        "#Neighborhood: Physical locations within Ames city limits\n",
        "\n",
        "train_neighbor=train.copy()\n",
        "print(train_neighbor[['Neighborhood','SalePrice']].groupby(['Neighborhood'],as_index=True).mean())\n",
        "plotting('Neighborhood')\n",
        "\n",
        "#This looks promising as Price varies from area to area and it can be seen through the mean of the prices of selected Neighborhood.\n",
        "\n",
        "features.append('Neighborhood')\n",
        "train.Neighborhood=train.Neighborhood.replace({'MeadowV':1,\n",
        "                                               'IDOTRR':2, 'BrDale':2,\n",
        "                                               'OldTown':3, 'Edwards':3, 'BrkSide':3,\n",
        "                                               'Sawyer':4, 'Blueste':4, 'SWISU':4, 'NAmes':4,\n",
        "                                               'NPkVill':5, 'Mitchel':5,\n",
        "                                               'SawyerW':6, 'Gilbert':6, 'NWAmes':6,\n",
        "                                               'Blmngtn':7, 'CollgCr':7, 'ClearCr':7, 'Crawfor':7,\n",
        "                                               'Veenker':8, 'Somerst':8, 'Timber':8,\n",
        "                                               'StoneBr':9,\n",
        "                                               'NoRidge':10, 'NridgHt':10})\n",
        "test.Neighborhood=test.Neighborhood.replace({'MeadowV':1,\n",
        "                                               'IDOTRR':2, 'BrDale':2,\n",
        "                                               'OldTown':3, 'Edwards':3, 'BrkSide':3,\n",
        "                                               'Sawyer':4, 'Blueste':4, 'SWISU':4, 'NAmes':4,\n",
        "                                               'NPkVill':5, 'Mitchel':5,\n",
        "                                               'SawyerW':6, 'Gilbert':6, 'NWAmes':6,\n",
        "                                               'Blmngtn':7, 'CollgCr':7, 'ClearCr':7, 'Crawfor':7,\n",
        "                                               'Veenker':8, 'Somerst':8, 'Timber':8,\n",
        "                                               'StoneBr':9,\n",
        "                                               'NoRidge':10, 'NridgHt':10})"
      ],
      "metadata": {
        "colab": {
          "base_uri": "https://localhost:8080/",
          "height": 798
        },
        "id": "EUlrFdgXr1WA",
        "outputId": "fa5b8f3d-919b-4adb-f2ce-0a16410c222c"
      },
      "execution_count": 26,
      "outputs": [
        {
          "output_type": "stream",
          "name": "stdout",
          "text": [
            "                  SalePrice\n",
            "Neighborhood               \n",
            "Blmngtn       194870.882353\n",
            "Blueste       137500.000000\n",
            "BrDale        104493.750000\n",
            "BrkSide       124834.051724\n",
            "ClearCr       212565.428571\n",
            "CollgCr       197965.773333\n",
            "Crawfor       210624.725490\n",
            "Edwards       127318.571429\n",
            "Gilbert       192854.506329\n",
            "IDOTRR        100123.783784\n",
            "MeadowV        98576.470588\n",
            "Mitchel       156270.122449\n",
            "NAmes         145847.080000\n",
            "NPkVill       142694.444444\n",
            "NWAmes        189050.068493\n",
            "NoRidge       335295.317073\n",
            "NridgHt       316270.623377\n",
            "OldTown       128225.300885\n",
            "SWISU         142591.360000\n",
            "Sawyer        136793.135135\n",
            "SawyerW       186555.796610\n",
            "Somerst       225379.837209\n",
            "StoneBr       310499.000000\n",
            "Timber        242247.447368\n",
            "Veenker       238772.727273\n",
            "No. of missing values are : \n",
            "0\n"
          ]
        },
        {
          "output_type": "display_data",
          "data": {
            "text/plain": [
              "<Figure size 432x288 with 1 Axes>"
            ],
            "image/png": "[encoded data removed]"
          },
          "metadata": {
            "needs_background": "light"
          }
        }
      ]
    },
    {
      "cell_type": "code",
      "source": [
        "#Condition1: Proximity to various conditions\n",
        "plotting('Condition1')\n",
        "#Oops ,this looks totally biased.      "
      ],
      "metadata": {
        "colab": {
          "base_uri": "https://localhost:8080/",
          "height": 330
        },
        "id": "dTjwPEDjsGvS",
        "outputId": "6209e6c5-6719-4739-96ed-81641b87ba5b"
      },
      "execution_count": 27,
      "outputs": [
        {
          "output_type": "stream",
          "name": "stdout",
          "text": [
            "No. of missing values are : \n",
            "0\n"
          ]
        },
        {
          "output_type": "display_data",
          "data": {
            "text/plain": [
              "<Figure size 432x288 with 1 Axes>"
            ],
            "image/png": "[encoded data removed]"
          },
          "metadata": {
            "needs_background": "light"
          }
        }
      ]
    },
    {
      "cell_type": "code",
      "source": [
        "#Condition2: Proximity to various conditions (if more than one is present)\n",
        "plotting('Condition2')\n",
        "#JUst like, again biased data."
      ],
      "metadata": {
        "colab": {
          "base_uri": "https://localhost:8080/",
          "height": 330
        },
        "id": "vs9_GGRXsLmN",
        "outputId": "1a86a697-6727-4817-a31f-aece94165f43"
      },
      "execution_count": 28,
      "outputs": [
        {
          "output_type": "stream",
          "name": "stdout",
          "text": [
            "No. of missing values are : \n",
            "0\n"
          ]
        },
        {
          "output_type": "display_data",
          "data": {
            "text/plain": [
              "<Figure size 432x288 with 1 Axes>"
            ],
            "image/png": "[encoded data removed]"
          },
          "metadata": {
            "needs_background": "light"
          }
        }
      ]
    },
    {
      "cell_type": "code",
      "source": [
        "#HouseStyle: Style of dwelling\n",
        "plotting('HouseStyle')\n",
        "plt.show()\n",
        "sns.lineplot(y='SalePrice',x='HouseStyle',data=train)\n",
        "#Clearly it can be seen from the plots that HouseStyle has big effect on Saleprice.\n",
        "features.append('HouseStyle')\n",
        "#Mapping values \n",
        "train.HouseStyle=train.HouseStyle.replace({'1.5Unf':1, \n",
        "                                           '1.5Fin':2, '2.5Unf':2, 'SFoyer':2, \n",
        "                                           '1Story':3, 'SLvl':3,\n",
        "                                           '2Story':4, '2.5Fin':4})\n",
        "test.HouseStyle=test.HouseStyle.replace({'1.5Unf':1, \n",
        "                                           '1.5Fin':2, '2.5Unf':2, 'SFoyer':2, \n",
        "                                           '1Story':3, 'SLvl':3,\n",
        "                                           '2Story':4, '2.5Fin':4})"
      ],
      "metadata": {
        "colab": {
          "base_uri": "https://localhost:8080/",
          "height": 592
        },
        "id": "Q8kW8FmpsPEy",
        "outputId": "4341c926-e1ba-4aa9-9282-f59c8e9ac5ca"
      },
      "execution_count": 29,
      "outputs": [
        {
          "output_type": "stream",
          "name": "stdout",
          "text": [
            "No. of missing values are : \n",
            "0\n"
          ]
        },
        {
          "output_type": "display_data",
          "data": {
            "text/plain": [
              "<Figure size 432x288 with 1 Axes>"
            ],
            "image/png": "[encoded data removed]"
          },
          "metadata": {
            "needs_background": "light"
          }
        },
        {
          "output_type": "display_data",
          "data": {
            "text/plain": [
              "<Figure size 432x288 with 1 Axes>"
            ],
            "image/png": "[encoded data removed]"
          },
          "metadata": {
            "needs_background": "light"
          }
        }
      ]
    },
    {
      "cell_type": "code",
      "source": [
        "#YearBuilt: Original construction\n",
        "plotting('YearBuilt')\n",
        "plt.show()\n",
        "sns.lineplot(y='SalePrice',x='YearBuilt',data=train)\n",
        "# It is clearly visible. So it should be part of our features variable.\n",
        "features.append('YearBuilt')"
      ],
      "metadata": {
        "colab": {
          "base_uri": "https://localhost:8080/",
          "height": 592
        },
        "id": "N2pOsJahsRAG",
        "outputId": "ca70271b-99d1-4add-a0d8-ef3cb6fcb5a1"
      },
      "execution_count": 30,
      "outputs": [
        {
          "output_type": "stream",
          "name": "stdout",
          "text": [
            "No. of missing values are : \n",
            "0\n"
          ]
        },
        {
          "output_type": "display_data",
          "data": {
            "text/plain": [
              "<Figure size 432x288 with 1 Axes>"
            ],
            "image/png": "[encoded data removed]"
          },
          "metadata": {
            "needs_background": "light"
          }
        },
        {
          "output_type": "display_data",
          "data": {
            "text/plain": [
              "<Figure size 432x288 with 1 Axes>"
            ],
            "image/png": "[encoded data removed]"
          },
          "metadata": {
            "needs_background": "light"
          }
        }
      ]
    },
    {
      "cell_type": "code",
      "source": [
        "#Roof Style : Type of roof\n",
        "plotting('RoofStyle')\n",
        "plt.show()\n",
        "#RoofMatl: Roof material\n",
        "plotting('RoofMatl')\n",
        "    \n",
        "#Both are biased.    "
      ],
      "metadata": {
        "colab": {
          "base_uri": "https://localhost:8080/",
          "height": 642
        },
        "id": "8vhWiYDRsYFP",
        "outputId": "b88c892e-9cf1-4650-f0d1-0df5f47f93f1"
      },
      "execution_count": 31,
      "outputs": [
        {
          "output_type": "stream",
          "name": "stdout",
          "text": [
            "No. of missing values are : \n",
            "0\n"
          ]
        },
        {
          "output_type": "display_data",
          "data": {
            "text/plain": [
              "<Figure size 432x288 with 1 Axes>"
            ],
            "image/png": "[encoded data removed]"
          },
          "metadata": {
            "needs_background": "light"
          }
        },
        {
          "output_type": "stream",
          "name": "stdout",
          "text": [
            "No. of missing values are : \n",
            "0\n"
          ]
        },
        {
          "output_type": "display_data",
          "data": {
            "text/plain": [
              "<Figure size 432x288 with 1 Axes>"
            ],
            "image/png": "[encoded data removed]"
          },
          "metadata": {
            "needs_background": "light"
          }
        }
      ]
    },
    {
      "cell_type": "code",
      "source": [
        "#Exteriors\n",
        "#Exterior1st: Exterior covering on house\n",
        "plotting('Exterior1st')\n",
        "plt.show()\n",
        "#Exterior2nd: Exterior covering on house (if more than one material)\n",
        "plotting('Exterior2nd')\n",
        "plt.show()\n",
        "\n",
        "train.Exterior1st=train.Exterior1st.replace({'BrkComm':1,\n",
        "                                             'AsphShn':2, 'CBlock':2, 'AsbShng':2,\n",
        "                                             'WdShing':3, 'Wd Sdng':3, 'MetalSd':3, 'Stucco':3, 'HdBoard':3,\n",
        "                                             'BrkFace':4, 'Plywood':4,\n",
        "                                             'VinylSd':5,\n",
        "                                             'CemntBd':6,\n",
        "                                             'Stone':7, 'ImStucc':7})\n",
        "\n",
        "test.Exterior1st=test.Exterior1st.replace({'BrkComm':1,\n",
        "                                             'AsphShn':2, 'CBlock':2, 'AsbShng':2,\n",
        "                                             'WdShing':3, 'Wd Sdng':3, 'MetalSd':3, 'Stucco':3, 'HdBoard':3,\n",
        "                                             'BrkFace':4, 'Plywood':4,\n",
        "                                             'VinylSd':5,\n",
        "                                             'CemntBd':6,\n",
        "                                            'Stone':7, 'ImStucc':7})\n",
        "\n",
        "features.append('Exterior1st')\n",
        "\n"
      ],
      "metadata": {
        "colab": {
          "base_uri": "https://localhost:8080/",
          "height": 642
        },
        "id": "GDL8KQewscVv",
        "outputId": "13872e26-1cf0-4bac-f533-ed5b5a19cf6e"
      },
      "execution_count": 32,
      "outputs": [
        {
          "output_type": "stream",
          "name": "stdout",
          "text": [
            "No. of missing values are : \n",
            "0\n"
          ]
        },
        {
          "output_type": "display_data",
          "data": {
            "text/plain": [
              "<Figure size 432x288 with 1 Axes>"
            ],
            "image/png": "[encoded data removed]"
          },
          "metadata": {
            "needs_background": "light"
          }
        },
        {
          "output_type": "stream",
          "name": "stdout",
          "text": [
            "No. of missing values are : \n",
            "0\n"
          ]
        },
        {
          "output_type": "display_data",
          "data": {
            "text/plain": [
              "<Figure size 432x288 with 1 Axes>"
            ],
            "image/png": "[encoded data removed]"
          },
          "metadata": {
            "needs_background": "light"
          }
        }
      ]
    },
    {
      "cell_type": "code",
      "source": [
        "#feetExterQual: Evaluates the quality of the material on the exterior \n",
        "\n",
        "plotting('ExterQual')\n",
        "plt.show()\n",
        "sns.lineplot(y='SalePrice',x='ExterQual',data=train)\n",
        "features.append('ExterQual')\n",
        "train.ExterQual = train.ExterQual.replace({'Fa':1, 'TA':2, 'Gd':3, 'Ex':4})\n",
        "test.ExterQual = test.ExterQual.replace({'Fa':1, 'TA':2, 'Gd':3, 'Ex':4})"
      ],
      "metadata": {
        "colab": {
          "base_uri": "https://localhost:8080/",
          "height": 592
        },
        "id": "rUNbrtGxsfp7",
        "outputId": "c9f4c6e6-91d4-4e48-87ac-21fa73ee29dc"
      },
      "execution_count": 33,
      "outputs": [
        {
          "output_type": "stream",
          "name": "stdout",
          "text": [
            "No. of missing values are : \n",
            "0\n"
          ]
        },
        {
          "output_type": "display_data",
          "data": {
            "text/plain": [
              "<Figure size 432x288 with 1 Axes>"
            ],
            "image/png": "[encoded data removed]"
          },
          "metadata": {
            "needs_background": "light"
          }
        },
        {
          "output_type": "display_data",
          "data": {
            "text/plain": [
              "<Figure size 432x288 with 1 Axes>"
            ],
            "image/png": "[encoded data removed]"
          },
          "metadata": {
            "needs_background": "light"
          }
        }
      ]
    },
    {
      "cell_type": "code",
      "source": [
        "#Foundation: Type of foundation\n",
        "plotting('Foundation')\n",
        "plt.show()\n",
        "sns.lineplot(y='SalePrice',x='Foundation',data=train)\n",
        "train.Foundation=train.Foundation.replace({'Slab':1, \n",
        "                                           'BrkTil':2, 'CBlock':2, 'Stone':2,\n",
        "                                           'Wood':3, 'PConc':4})\n",
        "test.Foundation=test.Foundation.replace({'Slab':1, \n",
        "                                           'BrkTil':2, 'CBlock':2, 'Stone':2,\n",
        "                                           'Wood':3, 'PConc':4})\n",
        "features.append('Foundation')"
      ],
      "metadata": {
        "colab": {
          "base_uri": "https://localhost:8080/",
          "height": 592
        },
        "id": "ty7wFUDSsiX9",
        "outputId": "eadf986f-be77-4770-9a8b-a07d0038e9eb"
      },
      "execution_count": 34,
      "outputs": [
        {
          "output_type": "stream",
          "name": "stdout",
          "text": [
            "No. of missing values are : \n",
            "0\n"
          ]
        },
        {
          "output_type": "display_data",
          "data": {
            "text/plain": [
              "<Figure size 432x288 with 1 Axes>"
            ],
            "image/png": "[encoded data removed]"
          },
          "metadata": {
            "needs_background": "light"
          }
        },
        {
          "output_type": "display_data",
          "data": {
            "text/plain": [
              "<Figure size 432x288 with 1 Axes>"
            ],
            "image/png": "[encoded data removed]"
          },
          "metadata": {
            "needs_background": "light"
          }
        }
      ]
    },
    {
      "cell_type": "code",
      "source": [
        "#BsmtQual: Evaluates the height of the basement\n",
        "plotting('BsmtQual')\n",
        "train.BsmtQual=train.BsmtQual.fillna('None').replace({'Fa':2, 'None':1, 'TA':3, 'Gd':4, 'Ex':5})\n",
        "test.BsmtQual=test.BsmtQual.fillna('None').replace({'Fa':2, 'None':1, 'TA':3, 'Gd':4, 'Ex':5})\n",
        "features.append('BsmtQual')"
      ],
      "metadata": {
        "colab": {
          "base_uri": "https://localhost:8080/",
          "height": 330
        },
        "id": "j0e8OfK_slZu",
        "outputId": "d81ef057-aedd-47df-ff2e-dbf2791c7d30"
      },
      "execution_count": 35,
      "outputs": [
        {
          "output_type": "stream",
          "name": "stdout",
          "text": [
            "No. of missing values are : \n",
            "37\n"
          ]
        },
        {
          "output_type": "display_data",
          "data": {
            "text/plain": [
              "<Figure size 432x288 with 1 Axes>"
            ],
            "image/png": "[encoded data removed]"
          },
          "metadata": {
            "needs_background": "light"
          }
        }
      ]
    },
    {
      "cell_type": "code",
      "source": [
        "#BsmtExposure: Refers to walkout or garden level walls\n",
        "plotting('BsmtExposure')\n",
        "train.BsmtExposure=train.BsmtExposure.fillna('None').replace({'None':1, 'No':2, 'Av':3, 'Mn':3, 'Gd':4})\n",
        "test.BsmtExposure=test.BsmtExposure.fillna('None').replace({'None':1, 'No':2, 'Av':3, 'Mn':3, 'Gd':4}) \n",
        "features.append('BsmtExposure')"
      ],
      "metadata": {
        "colab": {
          "base_uri": "https://localhost:8080/",
          "height": 330
        },
        "id": "zYgJH4G_sn65",
        "outputId": "7bcc1403-c4cc-4b67-f299-cb0c291cd733"
      },
      "execution_count": 36,
      "outputs": [
        {
          "output_type": "stream",
          "name": "stdout",
          "text": [
            "No. of missing values are : \n",
            "38\n"
          ]
        },
        {
          "output_type": "display_data",
          "data": {
            "text/plain": [
              "<Figure size 432x288 with 1 Axes>"
            ],
            "image/png": "[encoded data removed]"
          },
          "metadata": {
            "needs_background": "light"
          }
        }
      ]
    },
    {
      "cell_type": "code",
      "source": [
        "#HeatingQC :Heating quality and condition  \n",
        "plotting('HeatingQC')\n",
        "train.HeatingQC.replace({'Po':1, 'Fa':2, 'TA':3, 'Gd':4, 'Ex':5},inplace=True)\n",
        "test.HeatingQC.replace({'Po':1, 'Fa':2, 'TA':3, 'Gd':4, 'Ex':5},inplace=True)\n",
        "features.append('HeatingQC')"
      ],
      "metadata": {
        "colab": {
          "base_uri": "https://localhost:8080/",
          "height": 330
        },
        "id": "MGJePacesqVP",
        "outputId": "98b883e6-252d-4065-ef5b-0746f676c62d"
      },
      "execution_count": 37,
      "outputs": [
        {
          "output_type": "stream",
          "name": "stdout",
          "text": [
            "No. of missing values are : \n",
            "0\n"
          ]
        },
        {
          "output_type": "display_data",
          "data": {
            "text/plain": [
              "<Figure size 432x288 with 1 Axes>"
            ],
            "image/png": "[encoded data removed]"
          },
          "metadata": {
            "needs_background": "light"
          }
        }
      ]
    },
    {
      "cell_type": "code",
      "source": [
        "#KitchenQual: Kitchen quality\n",
        "plotting('KitchenQual')\n",
        "train.KitchenQual.replace({'Fa':1, 'TA':2, 'Gd':3, 'Ex':4},inplace=True)\n",
        "test.KitchenQual.replace({'Fa':1, 'TA':2, 'Gd':3, 'Ex':4},inplace=True)\n",
        "features.append('KitchenQual')\n",
        " "
      ],
      "metadata": {
        "colab": {
          "base_uri": "https://localhost:8080/",
          "height": 330
        },
        "id": "Wx3BPTt9ss8i",
        "outputId": "ad558d49-247b-407a-a9fc-1821f60dafb8"
      },
      "execution_count": 38,
      "outputs": [
        {
          "output_type": "stream",
          "name": "stdout",
          "text": [
            "No. of missing values are : \n",
            "0\n"
          ]
        },
        {
          "output_type": "display_data",
          "data": {
            "text/plain": [
              "<Figure size 432x288 with 1 Axes>"
            ],
            "image/png": "[encoded data removed]"
          },
          "metadata": {
            "needs_background": "light"
          }
        }
      ]
    },
    {
      "cell_type": "code",
      "source": [
        "#FireplaceQu: Fireplace quality\n",
        "plotting('FireplaceQu')\n",
        "train.FireplaceQu.fillna('None',inplace=True)\n",
        "train.FireplaceQu.replace({'None':1, 'Po':1, 'Fa':2, 'TA':3, 'Gd':4, 'Ex':5},inplace=True)\n",
        "test.FireplaceQu.fillna('None',inplace=True)\n",
        "test.FireplaceQu.replace({'None':1, 'Po':1, 'Fa':2, 'TA':3, 'Gd':4, 'Ex':5},inplace=True)\n",
        "features.append('FireplaceQu')"
      ],
      "metadata": {
        "colab": {
          "base_uri": "https://localhost:8080/",
          "height": 330
        },
        "id": "XOz-thu6svl0",
        "outputId": "1f1dae23-f6a9-437c-eee9-8906e717763e"
      },
      "execution_count": 39,
      "outputs": [
        {
          "output_type": "stream",
          "name": "stdout",
          "text": [
            "No. of missing values are : \n",
            "690\n"
          ]
        },
        {
          "output_type": "display_data",
          "data": {
            "text/plain": [
              "<Figure size 432x288 with 1 Axes>"
            ],
            "image/png": "[encoded data removed]"
          },
          "metadata": {
            "needs_background": "light"
          }
        }
      ]
    },
    {
      "cell_type": "code",
      "source": [
        "#GarageType: Garage location\n",
        "plotting('GarageType')\n",
        "train.GarageType.fillna('None',inplace=True)\n",
        "test.GarageType.fillna('None',inplace=True)\n",
        "train.GarageType.replace({'CarPort':1, 'None':1,\n",
        "                                           'Detchd':2,\n",
        "                                           '2Types':3, 'Basment':3,\n",
        "                                           'Attchd':4, 'BuiltIn':5},inplace=True)\n",
        "test.GarageType.replace({'CarPort':1, 'None':1,\n",
        "                                           'Detchd':2,\n",
        "                                           '2Types':3, 'Basment':3,\n",
        "                                           'Attchd':4, 'BuiltIn':5},inplace=True)\n",
        "features.append('GarageType')"
      ],
      "metadata": {
        "colab": {
          "base_uri": "https://localhost:8080/",
          "height": 330
        },
        "id": "RprDWU7BsyEl",
        "outputId": "885aea45-5312-437a-ef39-c363ddef80a8"
      },
      "execution_count": 40,
      "outputs": [
        {
          "output_type": "stream",
          "name": "stdout",
          "text": [
            "No. of missing values are : \n",
            "81\n"
          ]
        },
        {
          "output_type": "display_data",
          "data": {
            "text/plain": [
              "<Figure size 432x288 with 1 Axes>"
            ],
            "image/png": "[encoded data removed]"
          },
          "metadata": {
            "needs_background": "light"
          }
        }
      ]
    },
    {
      "cell_type": "code",
      "source": [
        "#GarageFinish: Interior finish of the garage\n",
        "plotting('GarageFinish')\n",
        "train.GarageFinish.fillna('None',inplace=True)\n",
        "test.GarageFinish.fillna('None',inplace=True)\n",
        "train.GarageFinish.replace({'None':1, 'Unf':2, 'RFn':3, 'Fin':4},inplace=True)\n",
        "test.GarageFinish.replace({'None':1, 'Unf':2, 'RFn':3, 'Fin':4},inplace=True)\n",
        "features.append('GarageFinish')"
      ],
      "metadata": {
        "colab": {
          "base_uri": "https://localhost:8080/",
          "height": 330
        },
        "id": "czhHt5RKs0sw",
        "outputId": "ccf77001-518b-487c-c1ab-0b44425b35df"
      },
      "execution_count": 41,
      "outputs": [
        {
          "output_type": "stream",
          "name": "stdout",
          "text": [
            "No. of missing values are : \n",
            "81\n"
          ]
        },
        {
          "output_type": "display_data",
          "data": {
            "text/plain": [
              "<Figure size 432x288 with 1 Axes>"
            ],
            "image/png": "[encoded data removed]"
          },
          "metadata": {
            "needs_background": "light"
          }
        }
      ]
    },
    {
      "cell_type": "code",
      "source": [
        "full=pd.concat([train,test],ignore_index=True)\n",
        "full.drop('Id',axis=1,inplace=True)\n",
        "full.shape"
      ],
      "metadata": {
        "colab": {
          "base_uri": "https://localhost:8080/"
        },
        "id": "LC6h8jMus3JA",
        "outputId": "d755d4ef-c970-4291-c800-8c34d1a756fc"
      },
      "execution_count": 42,
      "outputs": [
        {
          "output_type": "execute_result",
          "data": {
            "text/plain": [
              "(2917, 80)"
            ]
          },
          "metadata": {},
          "execution_count": 42
        }
      ]
    },
    {
      "cell_type": "code",
      "source": [
        "full.isnull().sum().sort_values(ascending=False)"
      ],
      "metadata": {
        "colab": {
          "base_uri": "https://localhost:8080/"
        },
        "id": "sLcDalEps5lV",
        "outputId": "a9dc473b-1edc-44c3-ec9e-14832df5ce68"
      },
      "execution_count": 43,
      "outputs": [
        {
          "output_type": "execute_result",
          "data": {
            "text/plain": [
              "PoolQC          2908\n",
              "MiscFeature     2812\n",
              "Alley           2719\n",
              "Fence           2346\n",
              "SalePrice       1459\n",
              "                ... \n",
              "HeatingQC          0\n",
              "1stFlrSF           0\n",
              "2ndFlrSF           0\n",
              "LowQualFinSF       0\n",
              "CentralAir         0\n",
              "Length: 80, dtype: int64"
            ]
          },
          "metadata": {},
          "execution_count": 43
        }
      ]
    },
    {
      "cell_type": "code",
      "source": [
        "train.groupby(['Neighborhood'])[['LotFrontage']].agg(['mean','median','count'])"
      ],
      "metadata": {
        "colab": {
          "base_uri": "https://localhost:8080/",
          "height": 425
        },
        "id": "xzCma3wCs8Ro",
        "outputId": "657ae4f6-8d00-45b8-c141-4c22bb7c06f1"
      },
      "execution_count": 44,
      "outputs": [
        {
          "output_type": "execute_result",
          "data": {
            "text/plain": [
              "             LotFrontage             \n",
              "                    mean median count\n",
              "Neighborhood                         \n",
              "1              27.800000   21.0    15\n",
              "2              49.400000   50.0    50\n",
              "3              62.440000   60.0   250\n",
              "4              74.123552   71.0   259\n",
              "5              63.930233   69.0    43\n",
              "6              77.409722   76.0   144\n",
              "7              70.726804   70.0   194\n",
              "8              68.400000   75.0   115\n",
              "9              62.700000   61.5    20\n",
              "10             84.908257   90.0   109"
            ],
            "text/html": [
              "\n",
              "  <div id=\"df-313626c5-7a76-43ca-bac5-5f46ff97a08e\">\n",
              "    <div class=\"colab-df-container\">\n",
              "      <div>\n",
              "<style scoped>\n",
              "    .dataframe tbody tr th:only-of-type {\n",
              "        vertical-align: middle;\n",
              "    }\n",
              "\n",
              "    .dataframe tbody tr th {\n",
              "        vertical-align: top;\n",
              "    }\n",
              "\n",
              "    .dataframe thead tr th {\n",
              "        text-align: left;\n",
              "    }\n",
              "\n",
              "    .dataframe thead tr:last-of-type th {\n",
              "        text-align: right;\n",
              "    }\n",
              "</style>\n",
              "<table border=\"1\" class=\"dataframe\">\n",
              "  <thead>\n",
              "    <tr>\n",
              "      <th></th>\n",
              "      <th colspan=\"3\" halign=\"left\">LotFrontage</th>\n",
              "    </tr>\n",
              "    <tr>\n",
              "      <th></th>\n",
              "      <th>mean</th>\n",
              "      <th>median</th>\n",
              "      <th>count</th>\n",
              "    </tr>\n",
              "    <tr>\n",
              "      <th>Neighborhood</th>\n",
              "      <th></th>\n",
              "      <th></th>\n",
              "      <th></th>\n",
              "    </tr>\n",
              "  </thead>\n",
              "  <tbody>\n",
              "    <tr>\n",
              "      <th>1</th>\n",
              "      <td>27.800000</td>\n",
              "      <td>21.0</td>\n",
              "      <td>15</td>\n",
              "    </tr>\n",
              "    <tr>\n",
              "      <th>2</th>\n",
              "      <td>49.400000</td>\n",
              "      <td>50.0</td>\n",
              "      <td>50</td>\n",
              "    </tr>\n",
              "    <tr>\n",
              "      <th>3</th>\n",
              "      <td>62.440000</td>\n",
              "      <td>60.0</td>\n",
              "      <td>250</td>\n",
              "    </tr>\n",
              "    <tr>\n",
              "      <th>4</th>\n",
              "      <td>74.123552</td>\n",
              "      <td>71.0</td>\n",
              "      <td>259</td>\n",
              "    </tr>\n",
              "    <tr>\n",
              "      <th>5</th>\n",
              "      <td>63.930233</td>\n",
              "      <td>69.0</td>\n",
              "      <td>43</td>\n",
              "    </tr>\n",
              "    <tr>\n",
              "      <th>6</th>\n",
              "      <td>77.409722</td>\n",
              "      <td>76.0</td>\n",
              "      <td>144</td>\n",
              "    </tr>\n",
              "    <tr>\n",
              "      <th>7</th>\n",
              "      <td>70.726804</td>\n",
              "      <td>70.0</td>\n",
              "      <td>194</td>\n",
              "    </tr>\n",
              "    <tr>\n",
              "      <th>8</th>\n",
              "      <td>68.400000</td>\n",
              "      <td>75.0</td>\n",
              "      <td>115</td>\n",
              "    </tr>\n",
              "    <tr>\n",
              "      <th>9</th>\n",
              "      <td>62.700000</td>\n",
              "      <td>61.5</td>\n",
              "      <td>20</td>\n",
              "    </tr>\n",
              "    <tr>\n",
              "      <th>10</th>\n",
              "      <td>84.908257</td>\n",
              "      <td>90.0</td>\n",
              "      <td>109</td>\n",
              "    </tr>\n",
              "  </tbody>\n",
              "</table>\n",
              "</div>\n",
              "      <button class=\"colab-df-convert\" onclick=\"convertToInteractive('df-313626c5-7a76-43ca-bac5-5f46ff97a08e')\"\n",
              "              title=\"Convert this dataframe to an interactive table.\"\n",
              "              style=\"display:none;\">\n",
              "        \n",
              "  <svg xmlns=\"http://www.w3.org/2000/svg\" height=\"24px\"viewBox=\"0 0 24 24\"\n",
              "       width=\"24px\">\n",
              "    <path d=\"M0 0h24v24H0V0z\" fill=\"none\"/>\n",
              "    <path d=\"M18.56 5.44l.94 2.06.94-2.06 2.06-.94-2.06-.94-.94-2.06-.94 2.06-2.06.94zm-11 1L8.5 8.5l.94-2.06 2.06-.94-2.06-.94L8.5 2.5l-.94 2.06-2.06.94zm10 10l.94 2.06.94-2.06 2.06-.94-2.06-.94-.94-2.06-.94 2.06-2.06.94z\"/><path d=\"M17.41 7.96l-1.37-1.37c-.4-.4-.92-.59-1.43-.59-.52 0-1.04.2-1.43.59L10.3 9.45l-7.72 7.72c-.78.78-.78 2.05 0 2.83L4 21.41c.39.39.9.59 1.41.59.51 0 1.02-.2 1.41-.59l7.78-7.78 2.81-2.81c.8-.78.8-2.07 0-2.86zM5.41 20L4 18.59l7.72-7.72 1.47 1.35L5.41 20z\"/>\n",
              "  </svg>\n",
              "      </button>\n",
              "      \n",
              "  <style>\n",
              "    .colab-df-container {\n",
              "      display:flex;\n",
              "      flex-wrap:wrap;\n",
              "      gap: 12px;\n",
              "    }\n",
              "\n",
              "    .colab-df-convert {\n",
              "      background-color: #E8F0FE;\n",
              "      border: none;\n",
              "      border-radius: 50%;\n",
              "      cursor: pointer;\n",
              "      display: none;\n",
              "      fill: #1967D2;\n",
              "      height: 32px;\n",
              "      padding: 0 0 0 0;\n",
              "      width: 32px;\n",
              "    }\n",
              "\n",
              "    .colab-df-convert:hover {\n",
              "      background-color: #E2EBFA;\n",
              "      box-shadow: 0px 1px 2px rgba(60, 64, 67, 0.3), 0px 1px 3px 1px rgba(60, 64, 67, 0.15);\n",
              "      fill: #174EA6;\n",
              "    }\n",
              "\n",
              "    [theme=dark] .colab-df-convert {\n",
              "      background-color: #3B4455;\n",
              "      fill: #D2E3FC;\n",
              "    }\n",
              "\n",
              "    [theme=dark] .colab-df-convert:hover {\n",
              "      background-color: #434B5C;\n",
              "      box-shadow: 0px 1px 3px 1px rgba(0, 0, 0, 0.15);\n",
              "      filter: drop-shadow(0px 1px 2px rgba(0, 0, 0, 0.3));\n",
              "      fill: #FFFFFF;\n",
              "    }\n",
              "  </style>\n",
              "\n",
              "      <script>\n",
              "        const buttonEl =\n",
              "          document.querySelector('#df-313626c5-7a76-43ca-bac5-5f46ff97a08e button.colab-df-convert');\n",
              "        buttonEl.style.display =\n",
              "          google.colab.kernel.accessAllowed ? 'block' : 'none';\n",
              "\n",
              "        async function convertToInteractive(key) {\n",
              "          const element = document.querySelector('#df-313626c5-7a76-43ca-bac5-5f46ff97a08e');\n",
              "          const dataTable =\n",
              "            await google.colab.kernel.invokeFunction('convertToInteractive',\n",
              "                                                     [key], {});\n",
              "          if (!dataTable) return;\n",
              "\n",
              "          const docLinkHtml = 'Like what you see? Visit the ' +\n",
              "            '<a target=\"_blank\" href=https://colab.research.google.com/notebooks/data_table.ipynb>data table notebook</a>'\n",
              "            + ' to learn more about interactive tables.';\n",
              "          element.innerHTML = '';\n",
              "          dataTable['output_type'] = 'display_data';\n",
              "          await google.colab.output.renderOutput(dataTable, element);\n",
              "          const docLink = document.createElement('div');\n",
              "          docLink.innerHTML = docLinkHtml;\n",
              "          element.appendChild(docLink);\n",
              "        }\n",
              "      </script>\n",
              "    </div>\n",
              "  </div>\n",
              "  "
            ]
          },
          "metadata": {},
          "execution_count": 44
        }
      ]
    },
    {
      "cell_type": "code",
      "source": [
        "train['LotAreaCut'] = pd.qcut(train.LotArea,10)\n",
        "\n",
        "train.groupby([train['LotAreaCut']])[['LotFrontage']].agg(['mean','median','count'])\n",
        "\n",
        "test['LotAreaCut'] = pd.qcut(test.LotArea,10)\n",
        "\n",
        "test.groupby([test['LotAreaCut']])[['LotFrontage']].agg(['mean','median','count'])"
      ],
      "metadata": {
        "colab": {
          "base_uri": "https://localhost:8080/",
          "height": 425
        },
        "id": "8WU0UeUWs_Ns",
        "outputId": "1511078d-eb62-49f8-f0d0-a79d25a0f037"
      },
      "execution_count": 45,
      "outputs": [
        {
          "output_type": "execute_result",
          "data": {
            "text/plain": [
              "                   LotFrontage             \n",
              "                          mean median count\n",
              "LotAreaCut                                 \n",
              "(1469.999, 4793.0]   34.259843   32.0   127\n",
              "(4793.0, 6958.4]     55.398551   52.0   138\n",
              "(6958.4, 7843.8]     61.534351   61.0   131\n",
              "(7843.8, 8640.0]     67.368000   65.0   125\n",
              "(8640.0, 9399.0]     69.694915   70.0   118\n",
              "(9399.0, 10125.8]    73.289062   75.0   128\n",
              "(10125.8, 10940.2]   73.395349   76.0   129\n",
              "(10940.2, 12194.4]   81.508929   80.5   112\n",
              "(12194.4, 14259.0]   85.067227   85.0   119\n",
              "(14259.0, 56600.0]   92.266667   90.0   105"
            ],
            "text/html": [
              "\n",
              "  <div id=\"df-c25710f7-f9d4-4b81-afdd-be4e21f76f17\">\n",
              "    <div class=\"colab-df-container\">\n",
              "      <div>\n",
              "<style scoped>\n",
              "    .dataframe tbody tr th:only-of-type {\n",
              "        vertical-align: middle;\n",
              "    }\n",
              "\n",
              "    .dataframe tbody tr th {\n",
              "        vertical-align: top;\n",
              "    }\n",
              "\n",
              "    .dataframe thead tr th {\n",
              "        text-align: left;\n",
              "    }\n",
              "\n",
              "    .dataframe thead tr:last-of-type th {\n",
              "        text-align: right;\n",
              "    }\n",
              "</style>\n",
              "<table border=\"1\" class=\"dataframe\">\n",
              "  <thead>\n",
              "    <tr>\n",
              "      <th></th>\n",
              "      <th colspan=\"3\" halign=\"left\">LotFrontage</th>\n",
              "    </tr>\n",
              "    <tr>\n",
              "      <th></th>\n",
              "      <th>mean</th>\n",
              "      <th>median</th>\n",
              "      <th>count</th>\n",
              "    </tr>\n",
              "    <tr>\n",
              "      <th>LotAreaCut</th>\n",
              "      <th></th>\n",
              "      <th></th>\n",
              "      <th></th>\n",
              "    </tr>\n",
              "  </thead>\n",
              "  <tbody>\n",
              "    <tr>\n",
              "      <th>(1469.999, 4793.0]</th>\n",
              "      <td>34.259843</td>\n",
              "      <td>32.0</td>\n",
              "      <td>127</td>\n",
              "    </tr>\n",
              "    <tr>\n",
              "      <th>(4793.0, 6958.4]</th>\n",
              "      <td>55.398551</td>\n",
              "      <td>52.0</td>\n",
              "      <td>138</td>\n",
              "    </tr>\n",
              "    <tr>\n",
              "      <th>(6958.4, 7843.8]</th>\n",
              "      <td>61.534351</td>\n",
              "      <td>61.0</td>\n",
              "      <td>131</td>\n",
              "    </tr>\n",
              "    <tr>\n",
              "      <th>(7843.8, 8640.0]</th>\n",
              "      <td>67.368000</td>\n",
              "      <td>65.0</td>\n",
              "      <td>125</td>\n",
              "    </tr>\n",
              "    <tr>\n",
              "      <th>(8640.0, 9399.0]</th>\n",
              "      <td>69.694915</td>\n",
              "      <td>70.0</td>\n",
              "      <td>118</td>\n",
              "    </tr>\n",
              "    <tr>\n",
              "      <th>(9399.0, 10125.8]</th>\n",
              "      <td>73.289062</td>\n",
              "      <td>75.0</td>\n",
              "      <td>128</td>\n",
              "    </tr>\n",
              "    <tr>\n",
              "      <th>(10125.8, 10940.2]</th>\n",
              "      <td>73.395349</td>\n",
              "      <td>76.0</td>\n",
              "      <td>129</td>\n",
              "    </tr>\n",
              "    <tr>\n",
              "      <th>(10940.2, 12194.4]</th>\n",
              "      <td>81.508929</td>\n",
              "      <td>80.5</td>\n",
              "      <td>112</td>\n",
              "    </tr>\n",
              "    <tr>\n",
              "      <th>(12194.4, 14259.0]</th>\n",
              "      <td>85.067227</td>\n",
              "      <td>85.0</td>\n",
              "      <td>119</td>\n",
              "    </tr>\n",
              "    <tr>\n",
              "      <th>(14259.0, 56600.0]</th>\n",
              "      <td>92.266667</td>\n",
              "      <td>90.0</td>\n",
              "      <td>105</td>\n",
              "    </tr>\n",
              "  </tbody>\n",
              "</table>\n",
              "</div>\n",
              "      <button class=\"colab-df-convert\" onclick=\"convertToInteractive('df-c25710f7-f9d4-4b81-afdd-be4e21f76f17')\"\n",
              "              title=\"Convert this dataframe to an interactive table.\"\n",
              "              style=\"display:none;\">\n",
              "        \n",
              "  <svg xmlns=\"http://www.w3.org/2000/svg\" height=\"24px\"viewBox=\"0 0 24 24\"\n",
              "       width=\"24px\">\n",
              "    <path d=\"M0 0h24v24H0V0z\" fill=\"none\"/>\n",
              "    <path d=\"M18.56 5.44l.94 2.06.94-2.06 2.06-.94-2.06-.94-.94-2.06-.94 2.06-2.06.94zm-11 1L8.5 8.5l.94-2.06 2.06-.94-2.06-.94L8.5 2.5l-.94 2.06-2.06.94zm10 10l.94 2.06.94-2.06 2.06-.94-2.06-.94-.94-2.06-.94 2.06-2.06.94z\"/><path d=\"M17.41 7.96l-1.37-1.37c-.4-.4-.92-.59-1.43-.59-.52 0-1.04.2-1.43.59L10.3 9.45l-7.72 7.72c-.78.78-.78 2.05 0 2.83L4 21.41c.39.39.9.59 1.41.59.51 0 1.02-.2 1.41-.59l7.78-7.78 2.81-2.81c.8-.78.8-2.07 0-2.86zM5.41 20L4 18.59l7.72-7.72 1.47 1.35L5.41 20z\"/>\n",
              "  </svg>\n",
              "      </button>\n",
              "      \n",
              "  <style>\n",
              "    .colab-df-container {\n",
              "      display:flex;\n",
              "      flex-wrap:wrap;\n",
              "      gap: 12px;\n",
              "    }\n",
              "\n",
              "    .colab-df-convert {\n",
              "      background-color: #E8F0FE;\n",
              "      border: none;\n",
              "      border-radius: 50%;\n",
              "      cursor: pointer;\n",
              "      display: none;\n",
              "      fill: #1967D2;\n",
              "      height: 32px;\n",
              "      padding: 0 0 0 0;\n",
              "      width: 32px;\n",
              "    }\n",
              "\n",
              "    .colab-df-convert:hover {\n",
              "      background-color: #E2EBFA;\n",
              "      box-shadow: 0px 1px 2px rgba(60, 64, 67, 0.3), 0px 1px 3px 1px rgba(60, 64, 67, 0.15);\n",
              "      fill: #174EA6;\n",
              "    }\n",
              "\n",
              "    [theme=dark] .colab-df-convert {\n",
              "      background-color: #3B4455;\n",
              "      fill: #D2E3FC;\n",
              "    }\n",
              "\n",
              "    [theme=dark] .colab-df-convert:hover {\n",
              "      background-color: #434B5C;\n",
              "      box-shadow: 0px 1px 3px 1px rgba(0, 0, 0, 0.15);\n",
              "      filter: drop-shadow(0px 1px 2px rgba(0, 0, 0, 0.3));\n",
              "      fill: #FFFFFF;\n",
              "    }\n",
              "  </style>\n",
              "\n",
              "      <script>\n",
              "        const buttonEl =\n",
              "          document.querySelector('#df-c25710f7-f9d4-4b81-afdd-be4e21f76f17 button.colab-df-convert');\n",
              "        buttonEl.style.display =\n",
              "          google.colab.kernel.accessAllowed ? 'block' : 'none';\n",
              "\n",
              "        async function convertToInteractive(key) {\n",
              "          const element = document.querySelector('#df-c25710f7-f9d4-4b81-afdd-be4e21f76f17');\n",
              "          const dataTable =\n",
              "            await google.colab.kernel.invokeFunction('convertToInteractive',\n",
              "                                                     [key], {});\n",
              "          if (!dataTable) return;\n",
              "\n",
              "          const docLinkHtml = 'Like what you see? Visit the ' +\n",
              "            '<a target=\"_blank\" href=https://colab.research.google.com/notebooks/data_table.ipynb>data table notebook</a>'\n",
              "            + ' to learn more about interactive tables.';\n",
              "          element.innerHTML = '';\n",
              "          dataTable['output_type'] = 'display_data';\n",
              "          await google.colab.output.renderOutput(dataTable, element);\n",
              "          const docLink = document.createElement('div');\n",
              "          docLink.innerHTML = docLinkHtml;\n",
              "          element.appendChild(docLink);\n",
              "        }\n",
              "      </script>\n",
              "    </div>\n",
              "  </div>\n",
              "  "
            ]
          },
          "metadata": {},
          "execution_count": 45
        }
      ]
    },
    {
      "cell_type": "code",
      "source": [
        "train['LotFrontage']= train.groupby(['LotAreaCut','Neighborhood'])['LotFrontage'].transform(lambda x : x.fillna(x.median()))\n",
        "test['LotFrontage']= test.groupby(['LotAreaCut'])['LotFrontage'].transform(lambda x : x.fillna(x.median()))"
      ],
      "metadata": {
        "id": "ouvOBlSZtEHl"
      },
      "execution_count": 46,
      "outputs": []
    },
    {
      "cell_type": "code",
      "source": [
        "columns = [\"MasVnrArea\", \"BsmtUnfSF\", \"TotalBsmtSF\", \"GarageCars\", \"BsmtFinSF2\", \"BsmtFinSF1\", \"GarageArea\"]\n",
        "for col in columns:\n",
        "    train[col].fillna(0,inplace= True)\n",
        "for col in columns:\n",
        "    test[col].fillna(0,inplace=True)"
      ],
      "metadata": {
        "id": "2mvQcfyntGO5"
      },
      "execution_count": 47,
      "outputs": []
    },
    {
      "cell_type": "code",
      "source": [
        "columns1 = [\"PoolQC\" , \"MiscFeature\", \"Alley\", \"Fence\", \"FireplaceQu\", \"GarageQual\", \"GarageCond\", \"GarageFinish\",\n",
        "\"GarageYrBlt\", \"GarageType\", \"BsmtExposure\", \"BsmtCond\", \"BsmtQual\", \"BsmtFinType2\", \"BsmtFinType1\", \"MasVnrType\"]\n",
        "for col1 in columns1:\n",
        "    train[col1].fillna('None',inplace = True)\n",
        "    test[col1].fillna('None',inplace=True)"
      ],
      "metadata": {
        "id": "4M240tv1tJIQ"
      },
      "execution_count": 48,
      "outputs": []
    },
    {
      "cell_type": "code",
      "source": [
        "columns2 = [\"MSZoning\", \"BsmtFullBath\", \"BsmtHalfBath\", \"Utilities\", \"Functional\",\n",
        "            \"Electrical\", \"KitchenQual\", \"SaleType\",\"Exterior1st\", \"Exterior2nd\"]\n",
        "\n",
        "for col2 in columns2:\n",
        "    train[col2].fillna(full[col2].mode()[0],inplace = True)\n",
        "    test[col2].fillna(full[col2].mode()[0],inplace = True)"
      ],
      "metadata": {
        "id": "IBXDHVW1tLW4"
      },
      "execution_count": 49,
      "outputs": []
    },
    {
      "cell_type": "code",
      "source": [
        "train.drop(\"LotAreaCut\",axis=1,inplace=True)\n",
        "test.drop(\"LotAreaCut\",axis=1,inplace=True)"
      ],
      "metadata": {
        "id": "lGt1kgLLtNgi"
      },
      "execution_count": 50,
      "outputs": []
    },
    {
      "cell_type": "code",
      "source": [
        "features"
      ],
      "metadata": {
        "colab": {
          "base_uri": "https://localhost:8080/"
        },
        "id": "ozafV9ultPuy",
        "outputId": "cbb4c575-3237-4313-d26b-7068156d6021"
      },
      "execution_count": 51,
      "outputs": [
        {
          "output_type": "execute_result",
          "data": {
            "text/plain": [
              "['LotShape',\n",
              " 'LotConfig',\n",
              " 'Neighborhood',\n",
              " 'HouseStyle',\n",
              " 'YearBuilt',\n",
              " 'Exterior1st',\n",
              " 'ExterQual',\n",
              " 'Foundation',\n",
              " 'BsmtQual',\n",
              " 'BsmtExposure',\n",
              " 'HeatingQC',\n",
              " 'KitchenQual',\n",
              " 'FireplaceQu',\n",
              " 'GarageType',\n",
              " 'GarageFinish']"
            ]
          },
          "metadata": {},
          "execution_count": 51
        }
      ]
    },
    {
      "cell_type": "code",
      "source": [
        "cols_num = [\"MSSubClass\",\"BsmtFullBath\",\"BsmtHalfBath\",\"HalfBath\",\"BedroomAbvGr\",\"KitchenAbvGr\",\"MoSold\",\n",
        "          \"YrSold\",\"YearBuilt\",\"YearRemodAdd\",\"LowQualFinSF\",\"GarageYrBlt\"]\n",
        "\n",
        "for i in cols_num :\n",
        "    train[i]=train[i].astype(str)\n",
        "    test[i]=test[i].astype(str)\n",
        "    features"
      ],
      "metadata": {
        "id": "9vAFQEgXtSiK"
      },
      "execution_count": 52,
      "outputs": []
    },
    {
      "cell_type": "code",
      "source": [
        "features"
      ],
      "metadata": {
        "colab": {
          "base_uri": "https://localhost:8080/"
        },
        "id": "on2cs3ontVgk",
        "outputId": "9a1c79a0-cd6d-4e5c-bfd5-4ab44275d5a6"
      },
      "execution_count": 53,
      "outputs": [
        {
          "output_type": "execute_result",
          "data": {
            "text/plain": [
              "['LotShape',\n",
              " 'LotConfig',\n",
              " 'Neighborhood',\n",
              " 'HouseStyle',\n",
              " 'YearBuilt',\n",
              " 'Exterior1st',\n",
              " 'ExterQual',\n",
              " 'Foundation',\n",
              " 'BsmtQual',\n",
              " 'BsmtExposure',\n",
              " 'HeatingQC',\n",
              " 'KitchenQual',\n",
              " 'FireplaceQu',\n",
              " 'GarageType',\n",
              " 'GarageFinish']"
            ]
          },
          "metadata": {},
          "execution_count": 53
        }
      ]
    },
    {
      "cell_type": "code",
      "source": [
        "train.isnull().sum(0).sort_values(ascending=False)"
      ],
      "metadata": {
        "colab": {
          "base_uri": "https://localhost:8080/"
        },
        "id": "sDIMDyQbtZr0",
        "outputId": "71a3e2ef-b9dd-4e3e-f665-aaf09a671317"
      },
      "execution_count": 54,
      "outputs": [
        {
          "output_type": "execute_result",
          "data": {
            "text/plain": [
              "Id             0\n",
              "CentralAir     0\n",
              "GarageYrBlt    0\n",
              "GarageType     0\n",
              "FireplaceQu    0\n",
              "              ..\n",
              "MasVnrArea     0\n",
              "MasVnrType     0\n",
              "Exterior2nd    0\n",
              "Exterior1st    0\n",
              "SalePrice      0\n",
              "Length: 81, dtype: int64"
            ]
          },
          "metadata": {},
          "execution_count": 54
        }
      ]
    },
    {
      "cell_type": "code",
      "source": [
        "#Checking correlation via heatmap:\n",
        "plt.figure(figsize=(15,12))\n",
        "sns.heatmap(train.corr(),cmap=\"YlGnBu\")\n",
        "plt.show()"
      ],
      "metadata": {
        "colab": {
          "base_uri": "https://localhost:8080/",
          "height": 686
        },
        "id": "eVt72K1JtcJL",
        "outputId": "6f386e12-923f-45ef-d393-4b92cb36bf76"
      },
      "execution_count": 55,
      "outputs": [
        {
          "output_type": "display_data",
          "data": {
            "text/plain": [
              "<Figure size 1080x864 with 2 Axes>"
            ],
            "image/png": "[encoded data removed]"
          },
          "metadata": {
            "needs_background": "light"
          }
        }
      ]
    },
    {
      "cell_type": "code",
      "source": [
        "core=train.corr()\n",
        "core_des=core.sort_values(by='SalePrice',ascending=False)\n",
        "core_des"
      ],
      "metadata": {
        "colab": {
          "base_uri": "https://localhost:8080/",
          "height": 1000
        },
        "id": "A_xGYOdHtesV",
        "outputId": "f127d4b7-8033-4dec-80da-744da2e27ba4"
      },
      "execution_count": 56,
      "outputs": [
        {
          "output_type": "execute_result",
          "data": {
            "text/plain": [
              "                     Id  LotFrontage   LotArea  LotShape  LotConfig  \\\n",
              "SalePrice     -0.021673     0.360375  0.268179  0.270477   0.092499   \n",
              "OverallQual   -0.030213     0.203675  0.091392  0.190817   0.064424   \n",
              "GrLivArea      0.003138     0.351644  0.232927  0.192468   0.060986   \n",
              "Neighborhood  -0.005199     0.228306  0.163314  0.258677   0.110011   \n",
              "ExterQual      0.003413     0.121906  0.040373  0.180443   0.051259   \n",
              "KitchenQual    0.013709     0.139116  0.055988  0.151122   0.034402   \n",
              "TotalBsmtSF   -0.025908     0.312767  0.223914  0.172605   0.042197   \n",
              "GarageCars     0.016863     0.279988  0.152484  0.194461   0.097318   \n",
              "1stFlrSF       0.003921     0.393197  0.269234  0.165273   0.048999   \n",
              "GarageArea     0.014316     0.316804  0.163680  0.161068   0.068097   \n",
              "BsmtQual      -0.033854     0.119910  0.067061  0.217596   0.083792   \n",
              "FullBath       0.005750     0.185957  0.119679  0.181745   0.060946   \n",
              "GarageFinish   0.013001     0.204220  0.118244  0.233131   0.068212   \n",
              "TotRmsAbvGrd   0.025227     0.338833  0.175425  0.126653   0.026261   \n",
              "FireplaceQu    0.003231     0.228508  0.177234  0.182126   0.030781   \n",
              "Foundation    -0.007603     0.021790 -0.037182  0.165594   0.047767   \n",
              "GarageType     0.001513     0.271165  0.145998  0.223326   0.079480   \n",
              "MasVnrArea    -0.053952     0.151244  0.083715  0.076833   0.042114   \n",
              "Fireplaces    -0.023122     0.237283  0.261176  0.192602   0.041528   \n",
              "HeatingQC     -0.015546     0.069669 -0.001521  0.117117   0.050443   \n",
              "BsmtFinSF1    -0.015012     0.147812  0.175320  0.127540   0.064786   \n",
              "Exterior1st   -0.001654     0.026158 -0.008814  0.100561   0.009628   \n",
              "BsmtExposure   0.015689     0.147400  0.229513  0.182028   0.069130   \n",
              "LotFrontage   -0.011531     1.000000  0.323878  0.205743   0.074485   \n",
              "WoodDeckSF    -0.030262     0.093227  0.168621  0.159403   0.056044   \n",
              "OpenPorchSF   -0.002115     0.103141  0.061861  0.079791   0.059458   \n",
              "2ndFlrSF       0.005248     0.069972  0.041026  0.084127   0.031950   \n",
              "HouseStyle    -0.007124     0.077551 -0.006970  0.127657   0.044283   \n",
              "LotShape      -0.028067     0.205743  0.303146  1.000000   0.276815   \n",
              "LotArea       -0.037689     0.323878  1.000000  0.303146   0.131158   \n",
              "BsmtUnfSF     -0.007499     0.125351 -0.003251  0.014493  -0.027797   \n",
              "ScreenPorch    0.001491     0.042229  0.045288  0.066678  -0.016082   \n",
              "PoolArea       0.048476     0.106612  0.036491  0.011531   0.024744   \n",
              "LotConfig     -0.015053     0.074485  0.131158  0.276815   1.000000   \n",
              "3SsnPorch     -0.046600     0.067092  0.021362  0.034485   0.058946   \n",
              "BsmtFinSF2    -0.005802     0.064296  0.114297  0.061950   0.010835   \n",
              "MiscVal       -0.006195     0.035342  0.039072  0.029176   0.031796   \n",
              "Id             1.000000    -0.011531 -0.037689 -0.028067  -0.015053   \n",
              "OverallCond    0.012925    -0.028869 -0.002723 -0.032042   0.012180   \n",
              "EnclosedPorch  0.003103     0.017634 -0.016505 -0.094430  -0.021226   \n",
              "\n",
              "               Neighborhood  HouseStyle  OverallQual  OverallCond  \\\n",
              "SalePrice          0.714816    0.292263     0.795774    -0.077948   \n",
              "OverallQual        0.698303    0.295311     1.000000    -0.090442   \n",
              "GrLivArea          0.445915    0.387912     0.589414    -0.077423   \n",
              "Neighborhood       1.000000    0.319249     0.698303    -0.227835   \n",
              "ExterQual          0.672615    0.252170     0.723286    -0.137724   \n",
              "KitchenQual        0.594952    0.224432     0.670627    -0.025207   \n",
              "TotalBsmtSF        0.499270   -0.028472     0.538595    -0.174931   \n",
              "GarageCars         0.589046    0.272117     0.600741    -0.185275   \n",
              "1stFlrSF           0.430266   -0.086386     0.469092    -0.144717   \n",
              "GarageArea         0.547840    0.221161     0.557230    -0.150503   \n",
              "BsmtQual           0.630306    0.241591     0.658657    -0.200155   \n",
              "FullBath           0.524316    0.354523     0.548420    -0.193473   \n",
              "GarageFinish       0.528658    0.290597     0.555118    -0.170498   \n",
              "TotRmsAbvGrd       0.293291    0.346882     0.420621    -0.055782   \n",
              "FireplaceQu        0.393404    0.113930     0.497400    -0.055271   \n",
              "Foundation         0.598926    0.307361     0.577360    -0.279920   \n",
              "GarageType         0.506036    0.284851     0.496929    -0.140671   \n",
              "MasVnrArea         0.382144    0.196764     0.398785    -0.124261   \n",
              "Fireplaces         0.308160    0.116101     0.392472    -0.022406   \n",
              "HeatingQC          0.445665    0.175592     0.456379    -0.013482   \n",
              "BsmtFinSF1         0.263710   -0.024982     0.222467    -0.042987   \n",
              "Exterior1st        0.402851    0.217661     0.396564    -0.172392   \n",
              "BsmtExposure       0.265671   -0.020630     0.295445    -0.031653   \n",
              "LotFrontage        0.228306    0.077551     0.203675    -0.028869   \n",
              "WoodDeckSF         0.241284    0.116652     0.236753    -0.002675   \n",
              "OpenPorchSF        0.224299    0.194471     0.297186    -0.029800   \n",
              "2ndFlrSF           0.162218    0.529462     0.290052     0.030504   \n",
              "HouseStyle         0.319249    1.000000     0.295311    -0.103506   \n",
              "LotShape           0.258677    0.127657     0.190817    -0.032042   \n",
              "LotArea            0.163314   -0.006970     0.091392    -0.002723   \n",
              "BsmtUnfSF          0.228325    0.013420     0.308990    -0.136723   \n",
              "ScreenPorch        0.002484   -0.014635     0.066298     0.054632   \n",
              "PoolArea           0.001841    0.027652     0.044758     0.002321   \n",
              "LotConfig          0.110011    0.044283     0.064424     0.012180   \n",
              "3SsnPorch          0.020038   -0.011804     0.030991     0.025426   \n",
              "BsmtFinSF2        -0.049126   -0.042940    -0.058324     0.040034   \n",
              "MiscVal           -0.045537   -0.033895    -0.031238     0.068728   \n",
              "Id                -0.005199   -0.007124    -0.030213     0.012925   \n",
              "OverallCond       -0.227835   -0.103506    -0.090442     1.000000   \n",
              "EnclosedPorch     -0.203173   -0.121171    -0.113176     0.070120   \n",
              "\n",
              "               Exterior1st  ...  GarageCars  GarageArea  WoodDeckSF  \\\n",
              "SalePrice         0.383349  ...    0.641047    0.629217    0.324758   \n",
              "OverallQual       0.396564  ...    0.600741    0.557230    0.236753   \n",
              "GrLivArea         0.201821  ...    0.475442    0.456358    0.247120   \n",
              "Neighborhood      0.402851  ...    0.589046    0.547840    0.241284   \n",
              "ExterQual         0.453298  ...    0.525960    0.490152    0.205586   \n",
              "KitchenQual       0.414404  ...    0.509042    0.485394    0.219112   \n",
              "TotalBsmtSF       0.274877  ...    0.451890    0.475069    0.234476   \n",
              "GarageCars        0.343039  ...    1.000000    0.887304    0.225462   \n",
              "1stFlrSF          0.194570  ...    0.449195    0.477299    0.235439   \n",
              "GarageArea        0.308125  ...    0.887304    1.000000    0.222482   \n",
              "BsmtQual          0.453887  ...    0.485119    0.432817    0.262482   \n",
              "FullBath          0.350901  ...    0.468198    0.404076    0.186147   \n",
              "GarageFinish      0.385245  ...    0.579175    0.515014    0.250194   \n",
              "TotRmsAbvGrd      0.153490  ...    0.361152    0.328714    0.163218   \n",
              "FireplaceQu       0.168418  ...    0.368183    0.326707    0.211295   \n",
              "Foundation        0.504210  ...    0.449428    0.387310    0.176950   \n",
              "GarageType        0.347375  ...    0.508194    0.456272    0.261738   \n",
              "MasVnrArea        0.130554  ...    0.360825    0.360786    0.156812   \n",
              "Fireplaces        0.080684  ...    0.301062    0.260455    0.198294   \n",
              "HeatingQC         0.407446  ...    0.324638    0.294097    0.129869   \n",
              "BsmtFinSF1        0.087616  ...    0.229077    0.273244    0.204993   \n",
              "Exterior1st       1.000000  ...    0.343039    0.308125    0.126352   \n",
              "BsmtExposure      0.146173  ...    0.245438    0.246885    0.244759   \n",
              "LotFrontage       0.026158  ...    0.279988    0.316804    0.093227   \n",
              "WoodDeckSF        0.126352  ...    0.225462    0.222482    1.000000   \n",
              "OpenPorchSF       0.195974  ...    0.209968    0.228246    0.053686   \n",
              "2ndFlrSF          0.077904  ...    0.181299    0.132033    0.089902   \n",
              "HouseStyle        0.217661  ...    0.272117    0.221161    0.116652   \n",
              "LotShape          0.100561  ...    0.194461    0.161068    0.159403   \n",
              "LotArea          -0.008814  ...    0.152484    0.163680    0.168621   \n",
              "BsmtUnfSF         0.193550  ...    0.213675    0.184580   -0.005609   \n",
              "ScreenPorch      -0.049561  ...    0.050909    0.053015   -0.073884   \n",
              "PoolArea         -0.025228  ...    0.019446    0.026642    0.069100   \n",
              "LotConfig         0.009628  ...    0.097318    0.068097    0.056044   \n",
              "3SsnPorch         0.001081  ...    0.035957    0.035880   -0.032642   \n",
              "BsmtFinSF2       -0.058431  ...   -0.037914   -0.017108    0.068312   \n",
              "MiscVal          -0.024777  ...   -0.043004   -0.027236   -0.009445   \n",
              "Id               -0.001654  ...    0.016863    0.014316   -0.030262   \n",
              "OverallCond      -0.172392  ...   -0.185275   -0.150503   -0.002675   \n",
              "EnclosedPorch    -0.175786  ...   -0.151110   -0.121194   -0.125616   \n",
              "\n",
              "               OpenPorchSF  EnclosedPorch  3SsnPorch  ScreenPorch  PoolArea  \\\n",
              "SalePrice         0.321142      -0.128646   0.044568     0.111415  0.099490   \n",
              "OverallQual       0.297186      -0.113176   0.030991     0.066298  0.044758   \n",
              "GrLivArea         0.302569       0.012976   0.022520     0.107768  0.115999   \n",
              "Neighborhood      0.224299      -0.203173   0.020038     0.002484  0.001841   \n",
              "ExterQual         0.279707      -0.149025   0.037582     0.013799  0.012827   \n",
              "KitchenQual       0.249783      -0.105126   0.022769     0.031731  0.046646   \n",
              "TotalBsmtSF       0.215140      -0.096773   0.040921     0.092574  0.036089   \n",
              "GarageCars        0.209968      -0.151110   0.035957     0.050909  0.019446   \n",
              "1stFlrSF          0.178859      -0.064247   0.059521     0.095042  0.062756   \n",
              "GarageArea        0.228246      -0.121194   0.035880     0.053015  0.026642   \n",
              "BsmtQual          0.260816      -0.203033   0.010975     0.030462  0.012592   \n",
              "FullBath          0.252678      -0.114558   0.035715    -0.007496  0.045656   \n",
              "GarageFinish      0.196671      -0.187237   0.034922     0.041669  0.018035   \n",
              "TotRmsAbvGrd      0.220052       0.005700  -0.006235     0.060920  0.059728   \n",
              "FireplaceQu       0.156796      -0.042915   0.037962     0.147088  0.032945   \n",
              "Foundation        0.228337      -0.167918   0.017907    -0.053332 -0.016876   \n",
              "GarageType        0.154637      -0.184755   0.049153     0.049566  0.022017   \n",
              "MasVnrArea        0.101698      -0.109126   0.019933     0.064258 -0.020350   \n",
              "Fireplaces        0.160924      -0.023879   0.011657     0.186238  0.068655   \n",
              "HeatingQC         0.172574      -0.101368   0.059826    -0.034613 -0.057745   \n",
              "BsmtFinSF1        0.072717      -0.103853   0.029177     0.068389  0.052981   \n",
              "Exterior1st       0.195974      -0.175786   0.001081    -0.049561 -0.025228   \n",
              "BsmtExposure      0.083108      -0.076415  -0.017925     0.057929  0.013197   \n",
              "LotFrontage       0.103141       0.017634   0.067092     0.042229  0.106612   \n",
              "WoodDeckSF        0.053686      -0.125616  -0.032642    -0.073884  0.069100   \n",
              "OpenPorchSF       1.000000      -0.092212  -0.005191     0.077150  0.032920   \n",
              "2ndFlrSF          0.197938       0.063211  -0.024107     0.041504  0.074258   \n",
              "HouseStyle        0.194471      -0.121171  -0.011804    -0.014635  0.027652   \n",
              "LotShape          0.079791      -0.094430   0.034485     0.066678  0.011531   \n",
              "LotArea           0.061861      -0.016505   0.021362     0.045288  0.036491   \n",
              "BsmtUnfSF         0.128917      -0.002422   0.020806    -0.012494 -0.034936   \n",
              "ScreenPorch       0.077150      -0.083009  -0.031481     1.000000  0.056293   \n",
              "PoolArea          0.032920       0.060101  -0.007417     0.056293  1.000000   \n",
              "LotConfig         0.059458      -0.021226   0.058946    -0.016082  0.024744   \n",
              "3SsnPorch        -0.005191      -0.037366   1.000000    -0.031481 -0.007417   \n",
              "BsmtFinSF2        0.004974       0.036406  -0.030041     0.088774  0.046350   \n",
              "MiscVal          -0.018308       0.018319   0.000340     0.031915  0.031965   \n",
              "Id               -0.002115       0.003103  -0.046600     0.001491  0.048476   \n",
              "OverallCond      -0.029800       0.070120   0.025426     0.054632  0.002321   \n",
              "EnclosedPorch    -0.092212       1.000000  -0.037366    -0.083009  0.060101   \n",
              "\n",
              "                MiscVal  SalePrice  \n",
              "SalePrice     -0.021203   1.000000  \n",
              "OverallQual   -0.031238   0.795774  \n",
              "GrLivArea     -0.001637   0.734968  \n",
              "Neighborhood  -0.045537   0.714816  \n",
              "ExterQual     -0.039184   0.686756  \n",
              "KitchenQual   -0.054012   0.662236  \n",
              "TotalBsmtSF   -0.018514   0.651153  \n",
              "GarageCars    -0.043004   0.641047  \n",
              "1stFlrSF      -0.021045   0.631530  \n",
              "GarageArea    -0.027236   0.629217  \n",
              "BsmtQual      -0.043146   0.624758  \n",
              "FullBath      -0.014122   0.562165  \n",
              "GarageFinish  -0.003183   0.550255  \n",
              "TotRmsAbvGrd   0.025297   0.537769  \n",
              "FireplaceQu   -0.024111   0.527256  \n",
              "Foundation    -0.064806   0.502768  \n",
              "GarageType     0.013625   0.496644  \n",
              "MasVnrArea    -0.029346   0.477810  \n",
              "Fireplaces     0.001676   0.469862  \n",
              "HeatingQC     -0.026780   0.428024  \n",
              "BsmtFinSF1     0.004741   0.409384  \n",
              "Exterior1st   -0.024777   0.383349  \n",
              "BsmtExposure  -0.005497   0.382907  \n",
              "LotFrontage    0.035342   0.360375  \n",
              "WoodDeckSF    -0.009445   0.324758  \n",
              "OpenPorchSF   -0.018308   0.321142  \n",
              "2ndFlrSF       0.016497   0.320532  \n",
              "HouseStyle    -0.033895   0.292263  \n",
              "LotShape       0.029176   0.270477  \n",
              "LotArea        0.039072   0.268179  \n",
              "BsmtUnfSF     -0.023813   0.214460  \n",
              "ScreenPorch    0.031915   0.111415  \n",
              "PoolArea       0.031965   0.099490  \n",
              "LotConfig      0.031796   0.092499  \n",
              "3SsnPorch      0.000340   0.044568  \n",
              "BsmtFinSF2     0.004905  -0.011422  \n",
              "MiscVal        1.000000  -0.021203  \n",
              "Id            -0.006195  -0.021673  \n",
              "OverallCond    0.068728  -0.077948  \n",
              "EnclosedPorch  0.018319  -0.128646  \n",
              "\n",
              "[40 rows x 40 columns]"
            ],
            "text/html": [
              "\n",
              "  <div id=\"df-458e233d-8327-4b77-8a16-2ae07f4ffa5c\">\n",
              "    <div class=\"colab-df-container\">\n",
              "      <div>\n",
              "<style scoped>\n",
              "    .dataframe tbody tr th:only-of-type {\n",
              "        vertical-align: middle;\n",
              "    }\n",
              "\n",
              "    .dataframe tbody tr th {\n",
              "        vertical-align: top;\n",
              "    }\n",
              "\n",
              "    .dataframe thead th {\n",
              "        text-align: right;\n",
              "    }\n",
              "</style>\n",
              "<table border=\"1\" class=\"dataframe\">\n",
              "  <thead>\n",
              "    <tr style=\"text-align: right;\">\n",
              "      <th></th>\n",
              "      <th>Id</th>\n",
              "      <th>LotFrontage</th>\n",
              "      <th>LotArea</th>\n",
              "      <th>LotShape</th>\n",
              "      <th>LotConfig</th>\n",
              "      <th>Neighborhood</th>\n",
              "      <th>HouseStyle</th>\n",
              "      <th>OverallQual</th>\n",
              "      <th>OverallCond</th>\n",
              "      <th>Exterior1st</th>\n",
              "      <th>...</th>\n",
              "      <th>GarageCars</th>\n",
              "      <th>GarageArea</th>\n",
              "      <th>WoodDeckSF</th>\n",
              "      <th>OpenPorchSF</th>\n",
              "      <th>EnclosedPorch</th>\n",
              "      <th>3SsnPorch</th>\n",
              "      <th>ScreenPorch</th>\n",
              "      <th>PoolArea</th>\n",
              "      <th>MiscVal</th>\n",
              "      <th>SalePrice</th>\n",
              "    </tr>\n",
              "  </thead>\n",
              "  <tbody>\n",
              "    <tr>\n",
              "      <th>SalePrice</th>\n",
              "      <td>-0.021673</td>\n",
              "      <td>0.360375</td>\n",
              "      <td>0.268179</td>\n",
              "      <td>0.270477</td>\n",
              "      <td>0.092499</td>\n",
              "      <td>0.714816</td>\n",
              "      <td>0.292263</td>\n",
              "      <td>0.795774</td>\n",
              "      <td>-0.077948</td>\n",
              "      <td>0.383349</td>\n",
              "      <td>...</td>\n",
              "      <td>0.641047</td>\n",
              "      <td>0.629217</td>\n",
              "      <td>0.324758</td>\n",
              "      <td>0.321142</td>\n",
              "      <td>-0.128646</td>\n",
              "      <td>0.044568</td>\n",
              "      <td>0.111415</td>\n",
              "      <td>0.099490</td>\n",
              "      <td>-0.021203</td>\n",
              "      <td>1.000000</td>\n",
              "    </tr>\n",
              "    <tr>\n",
              "      <th>OverallQual</th>\n",
              "      <td>-0.030213</td>\n",
              "      <td>0.203675</td>\n",
              "      <td>0.091392</td>\n",
              "      <td>0.190817</td>\n",
              "      <td>0.064424</td>\n",
              "      <td>0.698303</td>\n",
              "      <td>0.295311</td>\n",
              "      <td>1.000000</td>\n",
              "      <td>-0.090442</td>\n",
              "      <td>0.396564</td>\n",
              "      <td>...</td>\n",
              "      <td>0.600741</td>\n",
              "      <td>0.557230</td>\n",
              "      <td>0.236753</td>\n",
              "      <td>0.297186</td>\n",
              "      <td>-0.113176</td>\n",
              "      <td>0.030991</td>\n",
              "      <td>0.066298</td>\n",
              "      <td>0.044758</td>\n",
              "      <td>-0.031238</td>\n",
              "      <td>0.795774</td>\n",
              "    </tr>\n",
              "    <tr>\n",
              "      <th>GrLivArea</th>\n",
              "      <td>0.003138</td>\n",
              "      <td>0.351644</td>\n",
              "      <td>0.232927</td>\n",
              "      <td>0.192468</td>\n",
              "      <td>0.060986</td>\n",
              "      <td>0.445915</td>\n",
              "      <td>0.387912</td>\n",
              "      <td>0.589414</td>\n",
              "      <td>-0.077423</td>\n",
              "      <td>0.201821</td>\n",
              "      <td>...</td>\n",
              "      <td>0.475442</td>\n",
              "      <td>0.456358</td>\n",
              "      <td>0.247120</td>\n",
              "      <td>0.302569</td>\n",
              "      <td>0.012976</td>\n",
              "      <td>0.022520</td>\n",
              "      <td>0.107768</td>\n",
              "      <td>0.115999</td>\n",
              "      <td>-0.001637</td>\n",
              "      <td>0.734968</td>\n",
              "    </tr>\n",
              "    <tr>\n",
              "      <th>Neighborhood</th>\n",
              "      <td>-0.005199</td>\n",
              "      <td>0.228306</td>\n",
              "      <td>0.163314</td>\n",
              "      <td>0.258677</td>\n",
              "      <td>0.110011</td>\n",
              "      <td>1.000000</td>\n",
              "      <td>0.319249</td>\n",
              "      <td>0.698303</td>\n",
              "      <td>-0.227835</td>\n",
              "      <td>0.402851</td>\n",
              "      <td>...</td>\n",
              "      <td>0.589046</td>\n",
              "      <td>0.547840</td>\n",
              "      <td>0.241284</td>\n",
              "      <td>0.224299</td>\n",
              "      <td>-0.203173</td>\n",
              "      <td>0.020038</td>\n",
              "      <td>0.002484</td>\n",
              "      <td>0.001841</td>\n",
              "      <td>-0.045537</td>\n",
              "      <td>0.714816</td>\n",
              "    </tr>\n",
              "    <tr>\n",
              "      <th>ExterQual</th>\n",
              "      <td>0.003413</td>\n",
              "      <td>0.121906</td>\n",
              "      <td>0.040373</td>\n",
              "      <td>0.180443</td>\n",
              "      <td>0.051259</td>\n",
              "      <td>0.672615</td>\n",
              "      <td>0.252170</td>\n",
              "      <td>0.723286</td>\n",
              "      <td>-0.137724</td>\n",
              "      <td>0.453298</td>\n",
              "      <td>...</td>\n",
              "      <td>0.525960</td>\n",
              "      <td>0.490152</td>\n",
              "      <td>0.205586</td>\n",
              "      <td>0.279707</td>\n",
              "      <td>-0.149025</td>\n",
              "      <td>0.037582</td>\n",
              "      <td>0.013799</td>\n",
              "      <td>0.012827</td>\n",
              "      <td>-0.039184</td>\n",
              "      <td>0.686756</td>\n",
              "    </tr>\n",
              "    <tr>\n",
              "      <th>KitchenQual</th>\n",
              "      <td>0.013709</td>\n",
              "      <td>0.139116</td>\n",
              "      <td>0.055988</td>\n",
              "      <td>0.151122</td>\n",
              "      <td>0.034402</td>\n",
              "      <td>0.594952</td>\n",
              "      <td>0.224432</td>\n",
              "      <td>0.670627</td>\n",
              "      <td>-0.025207</td>\n",
              "      <td>0.414404</td>\n",
              "      <td>...</td>\n",
              "      <td>0.509042</td>\n",
              "      <td>0.485394</td>\n",
              "      <td>0.219112</td>\n",
              "      <td>0.249783</td>\n",
              "      <td>-0.105126</td>\n",
              "      <td>0.022769</td>\n",
              "      <td>0.031731</td>\n",
              "      <td>0.046646</td>\n",
              "      <td>-0.054012</td>\n",
              "      <td>0.662236</td>\n",
              "    </tr>\n",
              "    <tr>\n",
              "      <th>TotalBsmtSF</th>\n",
              "      <td>-0.025908</td>\n",
              "      <td>0.312767</td>\n",
              "      <td>0.223914</td>\n",
              "      <td>0.172605</td>\n",
              "      <td>0.042197</td>\n",
              "      <td>0.499270</td>\n",
              "      <td>-0.028472</td>\n",
              "      <td>0.538595</td>\n",
              "      <td>-0.174931</td>\n",
              "      <td>0.274877</td>\n",
              "      <td>...</td>\n",
              "      <td>0.451890</td>\n",
              "      <td>0.475069</td>\n",
              "      <td>0.234476</td>\n",
              "      <td>0.215140</td>\n",
              "      <td>-0.096773</td>\n",
              "      <td>0.040921</td>\n",
              "      <td>0.092574</td>\n",
              "      <td>0.036089</td>\n",
              "      <td>-0.018514</td>\n",
              "      <td>0.651153</td>\n",
              "    </tr>\n",
              "    <tr>\n",
              "      <th>GarageCars</th>\n",
              "      <td>0.016863</td>\n",
              "      <td>0.279988</td>\n",
              "      <td>0.152484</td>\n",
              "      <td>0.194461</td>\n",
              "      <td>0.097318</td>\n",
              "      <td>0.589046</td>\n",
              "      <td>0.272117</td>\n",
              "      <td>0.600741</td>\n",
              "      <td>-0.185275</td>\n",
              "      <td>0.343039</td>\n",
              "      <td>...</td>\n",
              "      <td>1.000000</td>\n",
              "      <td>0.887304</td>\n",
              "      <td>0.225462</td>\n",
              "      <td>0.209968</td>\n",
              "      <td>-0.151110</td>\n",
              "      <td>0.035957</td>\n",
              "      <td>0.050909</td>\n",
              "      <td>0.019446</td>\n",
              "      <td>-0.043004</td>\n",
              "      <td>0.641047</td>\n",
              "    </tr>\n",
              "    <tr>\n",
              "      <th>1stFlrSF</th>\n",
              "      <td>0.003921</td>\n",
              "      <td>0.393197</td>\n",
              "      <td>0.269234</td>\n",
              "      <td>0.165273</td>\n",
              "      <td>0.048999</td>\n",
              "      <td>0.430266</td>\n",
              "      <td>-0.086386</td>\n",
              "      <td>0.469092</td>\n",
              "      <td>-0.144717</td>\n",
              "      <td>0.194570</td>\n",
              "      <td>...</td>\n",
              "      <td>0.449195</td>\n",
              "      <td>0.477299</td>\n",
              "      <td>0.235439</td>\n",
              "      <td>0.178859</td>\n",
              "      <td>-0.064247</td>\n",
              "      <td>0.059521</td>\n",
              "      <td>0.095042</td>\n",
              "      <td>0.062756</td>\n",
              "      <td>-0.021045</td>\n",
              "      <td>0.631530</td>\n",
              "    </tr>\n",
              "    <tr>\n",
              "      <th>GarageArea</th>\n",
              "      <td>0.014316</td>\n",
              "      <td>0.316804</td>\n",
              "      <td>0.163680</td>\n",
              "      <td>0.161068</td>\n",
              "      <td>0.068097</td>\n",
              "      <td>0.547840</td>\n",
              "      <td>0.221161</td>\n",
              "      <td>0.557230</td>\n",
              "      <td>-0.150503</td>\n",
              "      <td>0.308125</td>\n",
              "      <td>...</td>\n",
              "      <td>0.887304</td>\n",
              "      <td>1.000000</td>\n",
              "      <td>0.222482</td>\n",
              "      <td>0.228246</td>\n",
              "      <td>-0.121194</td>\n",
              "      <td>0.035880</td>\n",
              "      <td>0.053015</td>\n",
              "      <td>0.026642</td>\n",
              "      <td>-0.027236</td>\n",
              "      <td>0.629217</td>\n",
              "    </tr>\n",
              "    <tr>\n",
              "      <th>BsmtQual</th>\n",
              "      <td>-0.033854</td>\n",
              "      <td>0.119910</td>\n",
              "      <td>0.067061</td>\n",
              "      <td>0.217596</td>\n",
              "      <td>0.083792</td>\n",
              "      <td>0.630306</td>\n",
              "      <td>0.241591</td>\n",
              "      <td>0.658657</td>\n",
              "      <td>-0.200155</td>\n",
              "      <td>0.453887</td>\n",
              "      <td>...</td>\n",
              "      <td>0.485119</td>\n",
              "      <td>0.432817</td>\n",
              "      <td>0.262482</td>\n",
              "      <td>0.260816</td>\n",
              "      <td>-0.203033</td>\n",
              "      <td>0.010975</td>\n",
              "      <td>0.030462</td>\n",
              "      <td>0.012592</td>\n",
              "      <td>-0.043146</td>\n",
              "      <td>0.624758</td>\n",
              "    </tr>\n",
              "    <tr>\n",
              "      <th>FullBath</th>\n",
              "      <td>0.005750</td>\n",
              "      <td>0.185957</td>\n",
              "      <td>0.119679</td>\n",
              "      <td>0.181745</td>\n",
              "      <td>0.060946</td>\n",
              "      <td>0.524316</td>\n",
              "      <td>0.354523</td>\n",
              "      <td>0.548420</td>\n",
              "      <td>-0.193473</td>\n",
              "      <td>0.350901</td>\n",
              "      <td>...</td>\n",
              "      <td>0.468198</td>\n",
              "      <td>0.404076</td>\n",
              "      <td>0.186147</td>\n",
              "      <td>0.252678</td>\n",
              "      <td>-0.114558</td>\n",
              "      <td>0.035715</td>\n",
              "      <td>-0.007496</td>\n",
              "      <td>0.045656</td>\n",
              "      <td>-0.014122</td>\n",
              "      <td>0.562165</td>\n",
              "    </tr>\n",
              "    <tr>\n",
              "      <th>GarageFinish</th>\n",
              "      <td>0.013001</td>\n",
              "      <td>0.204220</td>\n",
              "      <td>0.118244</td>\n",
              "      <td>0.233131</td>\n",
              "      <td>0.068212</td>\n",
              "      <td>0.528658</td>\n",
              "      <td>0.290597</td>\n",
              "      <td>0.555118</td>\n",
              "      <td>-0.170498</td>\n",
              "      <td>0.385245</td>\n",
              "      <td>...</td>\n",
              "      <td>0.579175</td>\n",
              "      <td>0.515014</td>\n",
              "      <td>0.250194</td>\n",
              "      <td>0.196671</td>\n",
              "      <td>-0.187237</td>\n",
              "      <td>0.034922</td>\n",
              "      <td>0.041669</td>\n",
              "      <td>0.018035</td>\n",
              "      <td>-0.003183</td>\n",
              "      <td>0.550255</td>\n",
              "    </tr>\n",
              "    <tr>\n",
              "      <th>TotRmsAbvGrd</th>\n",
              "      <td>0.025227</td>\n",
              "      <td>0.338833</td>\n",
              "      <td>0.175425</td>\n",
              "      <td>0.126653</td>\n",
              "      <td>0.026261</td>\n",
              "      <td>0.293291</td>\n",
              "      <td>0.346882</td>\n",
              "      <td>0.420621</td>\n",
              "      <td>-0.055782</td>\n",
              "      <td>0.153490</td>\n",
              "      <td>...</td>\n",
              "      <td>0.361152</td>\n",
              "      <td>0.328714</td>\n",
              "      <td>0.163218</td>\n",
              "      <td>0.220052</td>\n",
              "      <td>0.005700</td>\n",
              "      <td>-0.006235</td>\n",
              "      <td>0.060920</td>\n",
              "      <td>0.059728</td>\n",
              "      <td>0.025297</td>\n",
              "      <td>0.537769</td>\n",
              "    </tr>\n",
              "    <tr>\n",
              "      <th>FireplaceQu</th>\n",
              "      <td>0.003231</td>\n",
              "      <td>0.228508</td>\n",
              "      <td>0.177234</td>\n",
              "      <td>0.182126</td>\n",
              "      <td>0.030781</td>\n",
              "      <td>0.393404</td>\n",
              "      <td>0.113930</td>\n",
              "      <td>0.497400</td>\n",
              "      <td>-0.055271</td>\n",
              "      <td>0.168418</td>\n",
              "      <td>...</td>\n",
              "      <td>0.368183</td>\n",
              "      <td>0.326707</td>\n",
              "      <td>0.211295</td>\n",
              "      <td>0.156796</td>\n",
              "      <td>-0.042915</td>\n",
              "      <td>0.037962</td>\n",
              "      <td>0.147088</td>\n",
              "      <td>0.032945</td>\n",
              "      <td>-0.024111</td>\n",
              "      <td>0.527256</td>\n",
              "    </tr>\n",
              "    <tr>\n",
              "      <th>Foundation</th>\n",
              "      <td>-0.007603</td>\n",
              "      <td>0.021790</td>\n",
              "      <td>-0.037182</td>\n",
              "      <td>0.165594</td>\n",
              "      <td>0.047767</td>\n",
              "      <td>0.598926</td>\n",
              "      <td>0.307361</td>\n",
              "      <td>0.577360</td>\n",
              "      <td>-0.279920</td>\n",
              "      <td>0.504210</td>\n",
              "      <td>...</td>\n",
              "      <td>0.449428</td>\n",
              "      <td>0.387310</td>\n",
              "      <td>0.176950</td>\n",
              "      <td>0.228337</td>\n",
              "      <td>-0.167918</td>\n",
              "      <td>0.017907</td>\n",
              "      <td>-0.053332</td>\n",
              "      <td>-0.016876</td>\n",
              "      <td>-0.064806</td>\n",
              "      <td>0.502768</td>\n",
              "    </tr>\n",
              "    <tr>\n",
              "      <th>GarageType</th>\n",
              "      <td>0.001513</td>\n",
              "      <td>0.271165</td>\n",
              "      <td>0.145998</td>\n",
              "      <td>0.223326</td>\n",
              "      <td>0.079480</td>\n",
              "      <td>0.506036</td>\n",
              "      <td>0.284851</td>\n",
              "      <td>0.496929</td>\n",
              "      <td>-0.140671</td>\n",
              "      <td>0.347375</td>\n",
              "      <td>...</td>\n",
              "      <td>0.508194</td>\n",
              "      <td>0.456272</td>\n",
              "      <td>0.261738</td>\n",
              "      <td>0.154637</td>\n",
              "      <td>-0.184755</td>\n",
              "      <td>0.049153</td>\n",
              "      <td>0.049566</td>\n",
              "      <td>0.022017</td>\n",
              "      <td>0.013625</td>\n",
              "      <td>0.496644</td>\n",
              "    </tr>\n",
              "    <tr>\n",
              "      <th>MasVnrArea</th>\n",
              "      <td>-0.053952</td>\n",
              "      <td>0.151244</td>\n",
              "      <td>0.083715</td>\n",
              "      <td>0.076833</td>\n",
              "      <td>0.042114</td>\n",
              "      <td>0.382144</td>\n",
              "      <td>0.196764</td>\n",
              "      <td>0.398785</td>\n",
              "      <td>-0.124261</td>\n",
              "      <td>0.130554</td>\n",
              "      <td>...</td>\n",
              "      <td>0.360825</td>\n",
              "      <td>0.360786</td>\n",
              "      <td>0.156812</td>\n",
              "      <td>0.101698</td>\n",
              "      <td>-0.109126</td>\n",
              "      <td>0.019933</td>\n",
              "      <td>0.064258</td>\n",
              "      <td>-0.020350</td>\n",
              "      <td>-0.029346</td>\n",
              "      <td>0.477810</td>\n",
              "    </tr>\n",
              "    <tr>\n",
              "      <th>Fireplaces</th>\n",
              "      <td>-0.023122</td>\n",
              "      <td>0.237283</td>\n",
              "      <td>0.261176</td>\n",
              "      <td>0.192602</td>\n",
              "      <td>0.041528</td>\n",
              "      <td>0.308160</td>\n",
              "      <td>0.116101</td>\n",
              "      <td>0.392472</td>\n",
              "      <td>-0.022406</td>\n",
              "      <td>0.080684</td>\n",
              "      <td>...</td>\n",
              "      <td>0.301062</td>\n",
              "      <td>0.260455</td>\n",
              "      <td>0.198294</td>\n",
              "      <td>0.160924</td>\n",
              "      <td>-0.023879</td>\n",
              "      <td>0.011657</td>\n",
              "      <td>0.186238</td>\n",
              "      <td>0.068655</td>\n",
              "      <td>0.001676</td>\n",
              "      <td>0.469862</td>\n",
              "    </tr>\n",
              "    <tr>\n",
              "      <th>HeatingQC</th>\n",
              "      <td>-0.015546</td>\n",
              "      <td>0.069669</td>\n",
              "      <td>-0.001521</td>\n",
              "      <td>0.117117</td>\n",
              "      <td>0.050443</td>\n",
              "      <td>0.445665</td>\n",
              "      <td>0.175592</td>\n",
              "      <td>0.456379</td>\n",
              "      <td>-0.013482</td>\n",
              "      <td>0.407446</td>\n",
              "      <td>...</td>\n",
              "      <td>0.324638</td>\n",
              "      <td>0.294097</td>\n",
              "      <td>0.129869</td>\n",
              "      <td>0.172574</td>\n",
              "      <td>-0.101368</td>\n",
              "      <td>0.059826</td>\n",
              "      <td>-0.034613</td>\n",
              "      <td>-0.057745</td>\n",
              "      <td>-0.026780</td>\n",
              "      <td>0.428024</td>\n",
              "    </tr>\n",
              "    <tr>\n",
              "      <th>BsmtFinSF1</th>\n",
              "      <td>-0.015012</td>\n",
              "      <td>0.147812</td>\n",
              "      <td>0.175320</td>\n",
              "      <td>0.127540</td>\n",
              "      <td>0.064786</td>\n",
              "      <td>0.263710</td>\n",
              "      <td>-0.024982</td>\n",
              "      <td>0.222467</td>\n",
              "      <td>-0.042987</td>\n",
              "      <td>0.087616</td>\n",
              "      <td>...</td>\n",
              "      <td>0.229077</td>\n",
              "      <td>0.273244</td>\n",
              "      <td>0.204993</td>\n",
              "      <td>0.072717</td>\n",
              "      <td>-0.103853</td>\n",
              "      <td>0.029177</td>\n",
              "      <td>0.068389</td>\n",
              "      <td>0.052981</td>\n",
              "      <td>0.004741</td>\n",
              "      <td>0.409384</td>\n",
              "    </tr>\n",
              "    <tr>\n",
              "      <th>Exterior1st</th>\n",
              "      <td>-0.001654</td>\n",
              "      <td>0.026158</td>\n",
              "      <td>-0.008814</td>\n",
              "      <td>0.100561</td>\n",
              "      <td>0.009628</td>\n",
              "      <td>0.402851</td>\n",
              "      <td>0.217661</td>\n",
              "      <td>0.396564</td>\n",
              "      <td>-0.172392</td>\n",
              "      <td>1.000000</td>\n",
              "      <td>...</td>\n",
              "      <td>0.343039</td>\n",
              "      <td>0.308125</td>\n",
              "      <td>0.126352</td>\n",
              "      <td>0.195974</td>\n",
              "      <td>-0.175786</td>\n",
              "      <td>0.001081</td>\n",
              "      <td>-0.049561</td>\n",
              "      <td>-0.025228</td>\n",
              "      <td>-0.024777</td>\n",
              "      <td>0.383349</td>\n",
              "    </tr>\n",
              "    <tr>\n",
              "      <th>BsmtExposure</th>\n",
              "      <td>0.015689</td>\n",
              "      <td>0.147400</td>\n",
              "      <td>0.229513</td>\n",
              "      <td>0.182028</td>\n",
              "      <td>0.069130</td>\n",
              "      <td>0.265671</td>\n",
              "      <td>-0.020630</td>\n",
              "      <td>0.295445</td>\n",
              "      <td>-0.031653</td>\n",
              "      <td>0.146173</td>\n",
              "      <td>...</td>\n",
              "      <td>0.245438</td>\n",
              "      <td>0.246885</td>\n",
              "      <td>0.244759</td>\n",
              "      <td>0.083108</td>\n",
              "      <td>-0.076415</td>\n",
              "      <td>-0.017925</td>\n",
              "      <td>0.057929</td>\n",
              "      <td>0.013197</td>\n",
              "      <td>-0.005497</td>\n",
              "      <td>0.382907</td>\n",
              "    </tr>\n",
              "    <tr>\n",
              "      <th>LotFrontage</th>\n",
              "      <td>-0.011531</td>\n",
              "      <td>1.000000</td>\n",
              "      <td>0.323878</td>\n",
              "      <td>0.205743</td>\n",
              "      <td>0.074485</td>\n",
              "      <td>0.228306</td>\n",
              "      <td>0.077551</td>\n",
              "      <td>0.203675</td>\n",
              "      <td>-0.028869</td>\n",
              "      <td>0.026158</td>\n",
              "      <td>...</td>\n",
              "      <td>0.279988</td>\n",
              "      <td>0.316804</td>\n",
              "      <td>0.093227</td>\n",
              "      <td>0.103141</td>\n",
              "      <td>0.017634</td>\n",
              "      <td>0.067092</td>\n",
              "      <td>0.042229</td>\n",
              "      <td>0.106612</td>\n",
              "      <td>0.035342</td>\n",
              "      <td>0.360375</td>\n",
              "    </tr>\n",
              "    <tr>\n",
              "      <th>WoodDeckSF</th>\n",
              "      <td>-0.030262</td>\n",
              "      <td>0.093227</td>\n",
              "      <td>0.168621</td>\n",
              "      <td>0.159403</td>\n",
              "      <td>0.056044</td>\n",
              "      <td>0.241284</td>\n",
              "      <td>0.116652</td>\n",
              "      <td>0.236753</td>\n",
              "      <td>-0.002675</td>\n",
              "      <td>0.126352</td>\n",
              "      <td>...</td>\n",
              "      <td>0.225462</td>\n",
              "      <td>0.222482</td>\n",
              "      <td>1.000000</td>\n",
              "      <td>0.053686</td>\n",
              "      <td>-0.125616</td>\n",
              "      <td>-0.032642</td>\n",
              "      <td>-0.073884</td>\n",
              "      <td>0.069100</td>\n",
              "      <td>-0.009445</td>\n",
              "      <td>0.324758</td>\n",
              "    </tr>\n",
              "    <tr>\n",
              "      <th>OpenPorchSF</th>\n",
              "      <td>-0.002115</td>\n",
              "      <td>0.103141</td>\n",
              "      <td>0.061861</td>\n",
              "      <td>0.079791</td>\n",
              "      <td>0.059458</td>\n",
              "      <td>0.224299</td>\n",
              "      <td>0.194471</td>\n",
              "      <td>0.297186</td>\n",
              "      <td>-0.029800</td>\n",
              "      <td>0.195974</td>\n",
              "      <td>...</td>\n",
              "      <td>0.209968</td>\n",
              "      <td>0.228246</td>\n",
              "      <td>0.053686</td>\n",
              "      <td>1.000000</td>\n",
              "      <td>-0.092212</td>\n",
              "      <td>-0.005191</td>\n",
              "      <td>0.077150</td>\n",
              "      <td>0.032920</td>\n",
              "      <td>-0.018308</td>\n",
              "      <td>0.321142</td>\n",
              "    </tr>\n",
              "    <tr>\n",
              "      <th>2ndFlrSF</th>\n",
              "      <td>0.005248</td>\n",
              "      <td>0.069972</td>\n",
              "      <td>0.041026</td>\n",
              "      <td>0.084127</td>\n",
              "      <td>0.031950</td>\n",
              "      <td>0.162218</td>\n",
              "      <td>0.529462</td>\n",
              "      <td>0.290052</td>\n",
              "      <td>0.030504</td>\n",
              "      <td>0.077904</td>\n",
              "      <td>...</td>\n",
              "      <td>0.181299</td>\n",
              "      <td>0.132033</td>\n",
              "      <td>0.089902</td>\n",
              "      <td>0.197938</td>\n",
              "      <td>0.063211</td>\n",
              "      <td>-0.024107</td>\n",
              "      <td>0.041504</td>\n",
              "      <td>0.074258</td>\n",
              "      <td>0.016497</td>\n",
              "      <td>0.320532</td>\n",
              "    </tr>\n",
              "    <tr>\n",
              "      <th>HouseStyle</th>\n",
              "      <td>-0.007124</td>\n",
              "      <td>0.077551</td>\n",
              "      <td>-0.006970</td>\n",
              "      <td>0.127657</td>\n",
              "      <td>0.044283</td>\n",
              "      <td>0.319249</td>\n",
              "      <td>1.000000</td>\n",
              "      <td>0.295311</td>\n",
              "      <td>-0.103506</td>\n",
              "      <td>0.217661</td>\n",
              "      <td>...</td>\n",
              "      <td>0.272117</td>\n",
              "      <td>0.221161</td>\n",
              "      <td>0.116652</td>\n",
              "      <td>0.194471</td>\n",
              "      <td>-0.121171</td>\n",
              "      <td>-0.011804</td>\n",
              "      <td>-0.014635</td>\n",
              "      <td>0.027652</td>\n",
              "      <td>-0.033895</td>\n",
              "      <td>0.292263</td>\n",
              "    </tr>\n",
              "    <tr>\n",
              "      <th>LotShape</th>\n",
              "      <td>-0.028067</td>\n",
              "      <td>0.205743</td>\n",
              "      <td>0.303146</td>\n",
              "      <td>1.000000</td>\n",
              "      <td>0.276815</td>\n",
              "      <td>0.258677</td>\n",
              "      <td>0.127657</td>\n",
              "      <td>0.190817</td>\n",
              "      <td>-0.032042</td>\n",
              "      <td>0.100561</td>\n",
              "      <td>...</td>\n",
              "      <td>0.194461</td>\n",
              "      <td>0.161068</td>\n",
              "      <td>0.159403</td>\n",
              "      <td>0.079791</td>\n",
              "      <td>-0.094430</td>\n",
              "      <td>0.034485</td>\n",
              "      <td>0.066678</td>\n",
              "      <td>0.011531</td>\n",
              "      <td>0.029176</td>\n",
              "      <td>0.270477</td>\n",
              "    </tr>\n",
              "    <tr>\n",
              "      <th>LotArea</th>\n",
              "      <td>-0.037689</td>\n",
              "      <td>0.323878</td>\n",
              "      <td>1.000000</td>\n",
              "      <td>0.303146</td>\n",
              "      <td>0.131158</td>\n",
              "      <td>0.163314</td>\n",
              "      <td>-0.006970</td>\n",
              "      <td>0.091392</td>\n",
              "      <td>-0.002723</td>\n",
              "      <td>-0.008814</td>\n",
              "      <td>...</td>\n",
              "      <td>0.152484</td>\n",
              "      <td>0.163680</td>\n",
              "      <td>0.168621</td>\n",
              "      <td>0.061861</td>\n",
              "      <td>-0.016505</td>\n",
              "      <td>0.021362</td>\n",
              "      <td>0.045288</td>\n",
              "      <td>0.036491</td>\n",
              "      <td>0.039072</td>\n",
              "      <td>0.268179</td>\n",
              "    </tr>\n",
              "    <tr>\n",
              "      <th>BsmtUnfSF</th>\n",
              "      <td>-0.007499</td>\n",
              "      <td>0.125351</td>\n",
              "      <td>-0.003251</td>\n",
              "      <td>0.014493</td>\n",
              "      <td>-0.027797</td>\n",
              "      <td>0.228325</td>\n",
              "      <td>0.013420</td>\n",
              "      <td>0.308990</td>\n",
              "      <td>-0.136723</td>\n",
              "      <td>0.193550</td>\n",
              "      <td>...</td>\n",
              "      <td>0.213675</td>\n",
              "      <td>0.184580</td>\n",
              "      <td>-0.005609</td>\n",
              "      <td>0.128917</td>\n",
              "      <td>-0.002422</td>\n",
              "      <td>0.020806</td>\n",
              "      <td>-0.012494</td>\n",
              "      <td>-0.034936</td>\n",
              "      <td>-0.023813</td>\n",
              "      <td>0.214460</td>\n",
              "    </tr>\n",
              "    <tr>\n",
              "      <th>ScreenPorch</th>\n",
              "      <td>0.001491</td>\n",
              "      <td>0.042229</td>\n",
              "      <td>0.045288</td>\n",
              "      <td>0.066678</td>\n",
              "      <td>-0.016082</td>\n",
              "      <td>0.002484</td>\n",
              "      <td>-0.014635</td>\n",
              "      <td>0.066298</td>\n",
              "      <td>0.054632</td>\n",
              "      <td>-0.049561</td>\n",
              "      <td>...</td>\n",
              "      <td>0.050909</td>\n",
              "      <td>0.053015</td>\n",
              "      <td>-0.073884</td>\n",
              "      <td>0.077150</td>\n",
              "      <td>-0.083009</td>\n",
              "      <td>-0.031481</td>\n",
              "      <td>1.000000</td>\n",
              "      <td>0.056293</td>\n",
              "      <td>0.031915</td>\n",
              "      <td>0.111415</td>\n",
              "    </tr>\n",
              "    <tr>\n",
              "      <th>PoolArea</th>\n",
              "      <td>0.048476</td>\n",
              "      <td>0.106612</td>\n",
              "      <td>0.036491</td>\n",
              "      <td>0.011531</td>\n",
              "      <td>0.024744</td>\n",
              "      <td>0.001841</td>\n",
              "      <td>0.027652</td>\n",
              "      <td>0.044758</td>\n",
              "      <td>0.002321</td>\n",
              "      <td>-0.025228</td>\n",
              "      <td>...</td>\n",
              "      <td>0.019446</td>\n",
              "      <td>0.026642</td>\n",
              "      <td>0.069100</td>\n",
              "      <td>0.032920</td>\n",
              "      <td>0.060101</td>\n",
              "      <td>-0.007417</td>\n",
              "      <td>0.056293</td>\n",
              "      <td>1.000000</td>\n",
              "      <td>0.031965</td>\n",
              "      <td>0.099490</td>\n",
              "    </tr>\n",
              "    <tr>\n",
              "      <th>LotConfig</th>\n",
              "      <td>-0.015053</td>\n",
              "      <td>0.074485</td>\n",
              "      <td>0.131158</td>\n",
              "      <td>0.276815</td>\n",
              "      <td>1.000000</td>\n",
              "      <td>0.110011</td>\n",
              "      <td>0.044283</td>\n",
              "      <td>0.064424</td>\n",
              "      <td>0.012180</td>\n",
              "      <td>0.009628</td>\n",
              "      <td>...</td>\n",
              "      <td>0.097318</td>\n",
              "      <td>0.068097</td>\n",
              "      <td>0.056044</td>\n",
              "      <td>0.059458</td>\n",
              "      <td>-0.021226</td>\n",
              "      <td>0.058946</td>\n",
              "      <td>-0.016082</td>\n",
              "      <td>0.024744</td>\n",
              "      <td>0.031796</td>\n",
              "      <td>0.092499</td>\n",
              "    </tr>\n",
              "    <tr>\n",
              "      <th>3SsnPorch</th>\n",
              "      <td>-0.046600</td>\n",
              "      <td>0.067092</td>\n",
              "      <td>0.021362</td>\n",
              "      <td>0.034485</td>\n",
              "      <td>0.058946</td>\n",
              "      <td>0.020038</td>\n",
              "      <td>-0.011804</td>\n",
              "      <td>0.030991</td>\n",
              "      <td>0.025426</td>\n",
              "      <td>0.001081</td>\n",
              "      <td>...</td>\n",
              "      <td>0.035957</td>\n",
              "      <td>0.035880</td>\n",
              "      <td>-0.032642</td>\n",
              "      <td>-0.005191</td>\n",
              "      <td>-0.037366</td>\n",
              "      <td>1.000000</td>\n",
              "      <td>-0.031481</td>\n",
              "      <td>-0.007417</td>\n",
              "      <td>0.000340</td>\n",
              "      <td>0.044568</td>\n",
              "    </tr>\n",
              "    <tr>\n",
              "      <th>BsmtFinSF2</th>\n",
              "      <td>-0.005802</td>\n",
              "      <td>0.064296</td>\n",
              "      <td>0.114297</td>\n",
              "      <td>0.061950</td>\n",
              "      <td>0.010835</td>\n",
              "      <td>-0.049126</td>\n",
              "      <td>-0.042940</td>\n",
              "      <td>-0.058324</td>\n",
              "      <td>0.040034</td>\n",
              "      <td>-0.058431</td>\n",
              "      <td>...</td>\n",
              "      <td>-0.037914</td>\n",
              "      <td>-0.017108</td>\n",
              "      <td>0.068312</td>\n",
              "      <td>0.004974</td>\n",
              "      <td>0.036406</td>\n",
              "      <td>-0.030041</td>\n",
              "      <td>0.088774</td>\n",
              "      <td>0.046350</td>\n",
              "      <td>0.004905</td>\n",
              "      <td>-0.011422</td>\n",
              "    </tr>\n",
              "    <tr>\n",
              "      <th>MiscVal</th>\n",
              "      <td>-0.006195</td>\n",
              "      <td>0.035342</td>\n",
              "      <td>0.039072</td>\n",
              "      <td>0.029176</td>\n",
              "      <td>0.031796</td>\n",
              "      <td>-0.045537</td>\n",
              "      <td>-0.033895</td>\n",
              "      <td>-0.031238</td>\n",
              "      <td>0.068728</td>\n",
              "      <td>-0.024777</td>\n",
              "      <td>...</td>\n",
              "      <td>-0.043004</td>\n",
              "      <td>-0.027236</td>\n",
              "      <td>-0.009445</td>\n",
              "      <td>-0.018308</td>\n",
              "      <td>0.018319</td>\n",
              "      <td>0.000340</td>\n",
              "      <td>0.031915</td>\n",
              "      <td>0.031965</td>\n",
              "      <td>1.000000</td>\n",
              "      <td>-0.021203</td>\n",
              "    </tr>\n",
              "    <tr>\n",
              "      <th>Id</th>\n",
              "      <td>1.000000</td>\n",
              "      <td>-0.011531</td>\n",
              "      <td>-0.037689</td>\n",
              "      <td>-0.028067</td>\n",
              "      <td>-0.015053</td>\n",
              "      <td>-0.005199</td>\n",
              "      <td>-0.007124</td>\n",
              "      <td>-0.030213</td>\n",
              "      <td>0.012925</td>\n",
              "      <td>-0.001654</td>\n",
              "      <td>...</td>\n",
              "      <td>0.016863</td>\n",
              "      <td>0.014316</td>\n",
              "      <td>-0.030262</td>\n",
              "      <td>-0.002115</td>\n",
              "      <td>0.003103</td>\n",
              "      <td>-0.046600</td>\n",
              "      <td>0.001491</td>\n",
              "      <td>0.048476</td>\n",
              "      <td>-0.006195</td>\n",
              "      <td>-0.021673</td>\n",
              "    </tr>\n",
              "    <tr>\n",
              "      <th>OverallCond</th>\n",
              "      <td>0.012925</td>\n",
              "      <td>-0.028869</td>\n",
              "      <td>-0.002723</td>\n",
              "      <td>-0.032042</td>\n",
              "      <td>0.012180</td>\n",
              "      <td>-0.227835</td>\n",
              "      <td>-0.103506</td>\n",
              "      <td>-0.090442</td>\n",
              "      <td>1.000000</td>\n",
              "      <td>-0.172392</td>\n",
              "      <td>...</td>\n",
              "      <td>-0.185275</td>\n",
              "      <td>-0.150503</td>\n",
              "      <td>-0.002675</td>\n",
              "      <td>-0.029800</td>\n",
              "      <td>0.070120</td>\n",
              "      <td>0.025426</td>\n",
              "      <td>0.054632</td>\n",
              "      <td>0.002321</td>\n",
              "      <td>0.068728</td>\n",
              "      <td>-0.077948</td>\n",
              "    </tr>\n",
              "    <tr>\n",
              "      <th>EnclosedPorch</th>\n",
              "      <td>0.003103</td>\n",
              "      <td>0.017634</td>\n",
              "      <td>-0.016505</td>\n",
              "      <td>-0.094430</td>\n",
              "      <td>-0.021226</td>\n",
              "      <td>-0.203173</td>\n",
              "      <td>-0.121171</td>\n",
              "      <td>-0.113176</td>\n",
              "      <td>0.070120</td>\n",
              "      <td>-0.175786</td>\n",
              "      <td>...</td>\n",
              "      <td>-0.151110</td>\n",
              "      <td>-0.121194</td>\n",
              "      <td>-0.125616</td>\n",
              "      <td>-0.092212</td>\n",
              "      <td>1.000000</td>\n",
              "      <td>-0.037366</td>\n",
              "      <td>-0.083009</td>\n",
              "      <td>0.060101</td>\n",
              "      <td>0.018319</td>\n",
              "      <td>-0.128646</td>\n",
              "    </tr>\n",
              "  </tbody>\n",
              "</table>\n",
              "<p>40 rows × 40 columns</p>\n",
              "</div>\n",
              "      <button class=\"colab-df-convert\" onclick=\"convertToInteractive('df-458e233d-8327-4b77-8a16-2ae07f4ffa5c')\"\n",
              "              title=\"Convert this dataframe to an interactive table.\"\n",
              "              style=\"display:none;\">\n",
              "        \n",
              "  <svg xmlns=\"http://www.w3.org/2000/svg\" height=\"24px\"viewBox=\"0 0 24 24\"\n",
              "       width=\"24px\">\n",
              "    <path d=\"M0 0h24v24H0V0z\" fill=\"none\"/>\n",
              "    <path d=\"M18.56 5.44l.94 2.06.94-2.06 2.06-.94-2.06-.94-.94-2.06-.94 2.06-2.06.94zm-11 1L8.5 8.5l.94-2.06 2.06-.94-2.06-.94L8.5 2.5l-.94 2.06-2.06.94zm10 10l.94 2.06.94-2.06 2.06-.94-2.06-.94-.94-2.06-.94 2.06-2.06.94z\"/><path d=\"M17.41 7.96l-1.37-1.37c-.4-.4-.92-.59-1.43-.59-.52 0-1.04.2-1.43.59L10.3 9.45l-7.72 7.72c-.78.78-.78 2.05 0 2.83L4 21.41c.39.39.9.59 1.41.59.51 0 1.02-.2 1.41-.59l7.78-7.78 2.81-2.81c.8-.78.8-2.07 0-2.86zM5.41 20L4 18.59l7.72-7.72 1.47 1.35L5.41 20z\"/>\n",
              "  </svg>\n",
              "      </button>\n",
              "      \n",
              "  <style>\n",
              "    .colab-df-container {\n",
              "      display:flex;\n",
              "      flex-wrap:wrap;\n",
              "      gap: 12px;\n",
              "    }\n",
              "\n",
              "    .colab-df-convert {\n",
              "      background-color: #E8F0FE;\n",
              "      border: none;\n",
              "      border-radius: 50%;\n",
              "      cursor: pointer;\n",
              "      display: none;\n",
              "      fill: #1967D2;\n",
              "      height: 32px;\n",
              "      padding: 0 0 0 0;\n",
              "      width: 32px;\n",
              "    }\n",
              "\n",
              "    .colab-df-convert:hover {\n",
              "      background-color: #E2EBFA;\n",
              "      box-shadow: 0px 1px 2px rgba(60, 64, 67, 0.3), 0px 1px 3px 1px rgba(60, 64, 67, 0.15);\n",
              "      fill: #174EA6;\n",
              "    }\n",
              "\n",
              "    [theme=dark] .colab-df-convert {\n",
              "      background-color: #3B4455;\n",
              "      fill: #D2E3FC;\n",
              "    }\n",
              "\n",
              "    [theme=dark] .colab-df-convert:hover {\n",
              "      background-color: #434B5C;\n",
              "      box-shadow: 0px 1px 3px 1px rgba(0, 0, 0, 0.15);\n",
              "      filter: drop-shadow(0px 1px 2px rgba(0, 0, 0, 0.3));\n",
              "      fill: #FFFFFF;\n",
              "    }\n",
              "  </style>\n",
              "\n",
              "      <script>\n",
              "        const buttonEl =\n",
              "          document.querySelector('#df-458e233d-8327-4b77-8a16-2ae07f4ffa5c button.colab-df-convert');\n",
              "        buttonEl.style.display =\n",
              "          google.colab.kernel.accessAllowed ? 'block' : 'none';\n",
              "\n",
              "        async function convertToInteractive(key) {\n",
              "          const element = document.querySelector('#df-458e233d-8327-4b77-8a16-2ae07f4ffa5c');\n",
              "          const dataTable =\n",
              "            await google.colab.kernel.invokeFunction('convertToInteractive',\n",
              "                                                     [key], {});\n",
              "          if (!dataTable) return;\n",
              "\n",
              "          const docLinkHtml = 'Like what you see? Visit the ' +\n",
              "            '<a target=\"_blank\" href=https://colab.research.google.com/notebooks/data_table.ipynb>data table notebook</a>'\n",
              "            + ' to learn more about interactive tables.';\n",
              "          element.innerHTML = '';\n",
              "          dataTable['output_type'] = 'display_data';\n",
              "          await google.colab.output.renderOutput(dataTable, element);\n",
              "          const docLink = document.createElement('div');\n",
              "          docLink.innerHTML = docLinkHtml;\n",
              "          element.appendChild(docLink);\n",
              "        }\n",
              "      </script>\n",
              "    </div>\n",
              "  </div>\n",
              "  "
            ]
          },
          "metadata": {},
          "execution_count": 56
        }
      ]
    },
    {
      "cell_type": "code",
      "source": [
        "core_des_top=core_des[(core_des['SalePrice']>0.5) & (core_des['SalePrice'] !=1)]\n",
        "core_des_top.index"
      ],
      "metadata": {
        "colab": {
          "base_uri": "https://localhost:8080/"
        },
        "id": "WkHql0IKthY0",
        "outputId": "ca75fd09-bd0c-41ec-d3e7-314e886b1f3f"
      },
      "execution_count": 57,
      "outputs": [
        {
          "output_type": "execute_result",
          "data": {
            "text/plain": [
              "Index(['OverallQual', 'GrLivArea', 'Neighborhood', 'ExterQual', 'KitchenQual',\n",
              "       'TotalBsmtSF', 'GarageCars', '1stFlrSF', 'GarageArea', 'BsmtQual',\n",
              "       'FullBath', 'GarageFinish', 'TotRmsAbvGrd', 'FireplaceQu',\n",
              "       'Foundation'],\n",
              "      dtype='object')"
            ]
          },
          "metadata": {},
          "execution_count": 57
        }
      ]
    },
    {
      "cell_type": "code",
      "source": [
        "features.append(['OverallQual', 'GrLivArea', 'Neighborhood', 'ExterQual', 'KitchenQual',\n",
        "       'TotalBsmtSF', 'GarageCars', '1stFlrSF', 'GarageArea', 'BsmtQual',\n",
        "       'FullBath', 'GarageFinish', 'TotRmsAbvGrd', 'FireplaceQu',\n",
        "       'Foundation'])"
      ],
      "metadata": {
        "id": "higTzm1FtkXX"
      },
      "execution_count": 58,
      "outputs": []
    },
    {
      "cell_type": "code",
      "source": [
        "core_des_low=core_des[(core_des['SalePrice']<0)]\n",
        "core_des_low.index"
      ],
      "metadata": {
        "colab": {
          "base_uri": "https://localhost:8080/"
        },
        "id": "tV7_v3LqtmWK",
        "outputId": "4e18f504-bf28-40ff-af01-e6290ff4d7a7"
      },
      "execution_count": 59,
      "outputs": [
        {
          "output_type": "execute_result",
          "data": {
            "text/plain": [
              "Index(['BsmtFinSF2', 'MiscVal', 'Id', 'OverallCond', 'EnclosedPorch'], dtype='object')"
            ]
          },
          "metadata": {},
          "execution_count": 59
        }
      ]
    },
    {
      "cell_type": "code",
      "source": [
        "features.append(['BsmtFinSF2', 'MiscVal', 'Id', 'OverallCond', 'EnclosedPorch'])"
      ],
      "metadata": {
        "id": "o_CvP9bHtotL"
      },
      "execution_count": 60,
      "outputs": []
    },
    {
      "cell_type": "code",
      "source": [
        "features=['LotShape',\n",
        " 'LotConfig',\n",
        " 'Neighborhood',\n",
        " 'HouseStyle',\n",
        " 'Exterior1st',\n",
        " 'ExterQual',\n",
        " 'Foundation',\n",
        " 'BsmtQual',\n",
        " 'BsmtExposure',\n",
        " 'HeatingQC',\n",
        " 'KitchenQual',\n",
        " 'FireplaceQu',\n",
        " 'GarageType',\n",
        " 'GarageFinish',\n",
        " 'OverallQual',\n",
        "  'GrLivArea',\n",
        "  'Neighborhood',\n",
        "  'ExterQual',\n",
        "  'KitchenQual',\n",
        "  'TotalBsmtSF',\n",
        "  'GarageCars',\n",
        "  '1stFlrSF',\n",
        "  'GarageArea',\n",
        "  'BsmtQual',\n",
        "  'FullBath',\n",
        "  'GarageFinish',\n",
        "  'TotRmsAbvGrd',\n",
        "  'FireplaceQu',\n",
        "  'Foundation',\n",
        " 'BsmtFinSF2', 'MiscVal', 'Id', 'OverallCond', 'EnclosedPorch','SalePrice']"
      ],
      "metadata": {
        "id": "vYpBkN3Vtt8L"
      },
      "execution_count": 61,
      "outputs": []
    },
    {
      "cell_type": "code",
      "source": [
        "train_d=train.copy()"
      ],
      "metadata": {
        "id": "W9uanV0Jtwb5"
      },
      "execution_count": 62,
      "outputs": []
    },
    {
      "cell_type": "code",
      "source": [
        "train_d=train_d[features]"
      ],
      "metadata": {
        "id": "-Nx7V95StzYN"
      },
      "execution_count": 63,
      "outputs": []
    },
    {
      "cell_type": "code",
      "source": [
        "train_d"
      ],
      "metadata": {
        "colab": {
          "base_uri": "https://localhost:8080/",
          "height": 487
        },
        "id": "7-JKcbWht1Cb",
        "outputId": "c708a277-e706-4997-c44f-f7dcbefbc865"
      },
      "execution_count": 64,
      "outputs": [
        {
          "output_type": "execute_result",
          "data": {
            "text/plain": [
              "      LotShape  LotConfig  Neighborhood  HouseStyle  Exterior1st  ExterQual  \\\n",
              "0            1          1             7           4            5          3   \n",
              "1            1          4             8           3            3          2   \n",
              "2            2          1             7           4            5          3   \n",
              "3            2          2             7           4            3          2   \n",
              "4            2          4            10           4            5          3   \n",
              "...        ...        ...           ...         ...          ...        ...   \n",
              "1455         1          1             6           4            5          2   \n",
              "1456         1          1             6           3            4          2   \n",
              "1457         1          1             7           4            6          4   \n",
              "1458         1          1             4           3            3          2   \n",
              "1459         1          1             3           3            3          3   \n",
              "\n",
              "      Foundation  BsmtQual  BsmtExposure  HeatingQC  ...  GarageFinish  \\\n",
              "0              4         4             2          5  ...             3   \n",
              "1              2         4             4          5  ...             3   \n",
              "2              4         4             3          5  ...             3   \n",
              "3              2         3             2          4  ...             2   \n",
              "4              4         4             3          5  ...             3   \n",
              "...          ...       ...           ...        ...  ...           ...   \n",
              "1455           4         4             2          5  ...             3   \n",
              "1456           2         4             2          3  ...             2   \n",
              "1457           2         3             2          5  ...             3   \n",
              "1458           2         3             3          4  ...             2   \n",
              "1459           2         3             2          4  ...             4   \n",
              "\n",
              "      TotRmsAbvGrd  FireplaceQu  Foundation  BsmtFinSF2  MiscVal    Id  \\\n",
              "0                8            1           4           0        0     1   \n",
              "1                6            3           2           0        0     2   \n",
              "2                6            3           4           0        0     3   \n",
              "3                7            4           2           0        0     4   \n",
              "4                9            3           4           0        0     5   \n",
              "...            ...          ...         ...         ...      ...   ...   \n",
              "1455             7            3           4           0        0  1456   \n",
              "1456             7            3           2         163        0  1457   \n",
              "1457             9            4           2           0     2500  1458   \n",
              "1458             5            1           2        1029        0  1459   \n",
              "1459             6            1           2         290        0  1460   \n",
              "\n",
              "      OverallCond  EnclosedPorch  SalePrice  \n",
              "0               5              0     208500  \n",
              "1               8              0     181500  \n",
              "2               5              0     223500  \n",
              "3               5            272     140000  \n",
              "4               5              0     250000  \n",
              "...           ...            ...        ...  \n",
              "1455            5              0     175000  \n",
              "1456            6              0     210000  \n",
              "1457            9              0     266500  \n",
              "1458            6            112     142125  \n",
              "1459            6              0     147500  \n",
              "\n",
              "[1458 rows x 35 columns]"
            ],
            "text/html": [
              "\n",
              "  <div id=\"df-41d331ed-e1d4-4d68-af7a-e4e4296aca3d\">\n",
              "    <div class=\"colab-df-container\">\n",
              "      <div>\n",
              "<style scoped>\n",
              "    .dataframe tbody tr th:only-of-type {\n",
              "        vertical-align: middle;\n",
              "    }\n",
              "\n",
              "    .dataframe tbody tr th {\n",
              "        vertical-align: top;\n",
              "    }\n",
              "\n",
              "    .dataframe thead th {\n",
              "        text-align: right;\n",
              "    }\n",
              "</style>\n",
              "<table border=\"1\" class=\"dataframe\">\n",
              "  <thead>\n",
              "    <tr style=\"text-align: right;\">\n",
              "      <th></th>\n",
              "      <th>LotShape</th>\n",
              "      <th>LotConfig</th>\n",
              "      <th>Neighborhood</th>\n",
              "      <th>HouseStyle</th>\n",
              "      <th>Exterior1st</th>\n",
              "      <th>ExterQual</th>\n",
              "      <th>Foundation</th>\n",
              "      <th>BsmtQual</th>\n",
              "      <th>BsmtExposure</th>\n",
              "      <th>HeatingQC</th>\n",
              "      <th>...</th>\n",
              "      <th>GarageFinish</th>\n",
              "      <th>TotRmsAbvGrd</th>\n",
              "      <th>FireplaceQu</th>\n",
              "      <th>Foundation</th>\n",
              "      <th>BsmtFinSF2</th>\n",
              "      <th>MiscVal</th>\n",
              "      <th>Id</th>\n",
              "      <th>OverallCond</th>\n",
              "      <th>EnclosedPorch</th>\n",
              "      <th>SalePrice</th>\n",
              "    </tr>\n",
              "  </thead>\n",
              "  <tbody>\n",
              "    <tr>\n",
              "      <th>0</th>\n",
              "      <td>1</td>\n",
              "      <td>1</td>\n",
              "      <td>7</td>\n",
              "      <td>4</td>\n",
              "      <td>5</td>\n",
              "      <td>3</td>\n",
              "      <td>4</td>\n",
              "      <td>4</td>\n",
              "      <td>2</td>\n",
              "      <td>5</td>\n",
              "      <td>...</td>\n",
              "      <td>3</td>\n",
              "      <td>8</td>\n",
              "      <td>1</td>\n",
              "      <td>4</td>\n",
              "      <td>0</td>\n",
              "      <td>0</td>\n",
              "      <td>1</td>\n",
              "      <td>5</td>\n",
              "      <td>0</td>\n",
              "      <td>208500</td>\n",
              "    </tr>\n",
              "    <tr>\n",
              "      <th>1</th>\n",
              "      <td>1</td>\n",
              "      <td>4</td>\n",
              "      <td>8</td>\n",
              "      <td>3</td>\n",
              "      <td>3</td>\n",
              "      <td>2</td>\n",
              "      <td>2</td>\n",
              "      <td>4</td>\n",
              "      <td>4</td>\n",
              "      <td>5</td>\n",
              "      <td>...</td>\n",
              "      <td>3</td>\n",
              "      <td>6</td>\n",
              "      <td>3</td>\n",
              "      <td>2</td>\n",
              "      <td>0</td>\n",
              "      <td>0</td>\n",
              "      <td>2</td>\n",
              "      <td>8</td>\n",
              "      <td>0</td>\n",
              "      <td>181500</td>\n",
              "    </tr>\n",
              "    <tr>\n",
              "      <th>2</th>\n",
              "      <td>2</td>\n",
              "      <td>1</td>\n",
              "      <td>7</td>\n",
              "      <td>4</td>\n",
              "      <td>5</td>\n",
              "      <td>3</td>\n",
              "      <td>4</td>\n",
              "      <td>4</td>\n",
              "      <td>3</td>\n",
              "      <td>5</td>\n",
              "      <td>...</td>\n",
              "      <td>3</td>\n",
              "      <td>6</td>\n",
              "      <td>3</td>\n",
              "      <td>4</td>\n",
              "      <td>0</td>\n",
              "      <td>0</td>\n",
              "      <td>3</td>\n",
              "      <td>5</td>\n",
              "      <td>0</td>\n",
              "      <td>223500</td>\n",
              "    </tr>\n",
              "    <tr>\n",
              "      <th>3</th>\n",
              "      <td>2</td>\n",
              "      <td>2</td>\n",
              "      <td>7</td>\n",
              "      <td>4</td>\n",
              "      <td>3</td>\n",
              "      <td>2</td>\n",
              "      <td>2</td>\n",
              "      <td>3</td>\n",
              "      <td>2</td>\n",
              "      <td>4</td>\n",
              "      <td>...</td>\n",
              "      <td>2</td>\n",
              "      <td>7</td>\n",
              "      <td>4</td>\n",
              "      <td>2</td>\n",
              "      <td>0</td>\n",
              "      <td>0</td>\n",
              "      <td>4</td>\n",
              "      <td>5</td>\n",
              "      <td>272</td>\n",
              "      <td>140000</td>\n",
              "    </tr>\n",
              "    <tr>\n",
              "      <th>4</th>\n",
              "      <td>2</td>\n",
              "      <td>4</td>\n",
              "      <td>10</td>\n",
              "      <td>4</td>\n",
              "      <td>5</td>\n",
              "      <td>3</td>\n",
              "      <td>4</td>\n",
              "      <td>4</td>\n",
              "      <td>3</td>\n",
              "      <td>5</td>\n",
              "      <td>...</td>\n",
              "      <td>3</td>\n",
              "      <td>9</td>\n",
              "      <td>3</td>\n",
              "      <td>4</td>\n",
              "      <td>0</td>\n",
              "      <td>0</td>\n",
              "      <td>5</td>\n",
              "      <td>5</td>\n",
              "      <td>0</td>\n",
              "      <td>250000</td>\n",
              "    </tr>\n",
              "    <tr>\n",
              "      <th>...</th>\n",
              "      <td>...</td>\n",
              "      <td>...</td>\n",
              "      <td>...</td>\n",
              "      <td>...</td>\n",
              "      <td>...</td>\n",
              "      <td>...</td>\n",
              "      <td>...</td>\n",
              "      <td>...</td>\n",
              "      <td>...</td>\n",
              "      <td>...</td>\n",
              "      <td>...</td>\n",
              "      <td>...</td>\n",
              "      <td>...</td>\n",
              "      <td>...</td>\n",
              "      <td>...</td>\n",
              "      <td>...</td>\n",
              "      <td>...</td>\n",
              "      <td>...</td>\n",
              "      <td>...</td>\n",
              "      <td>...</td>\n",
              "      <td>...</td>\n",
              "    </tr>\n",
              "    <tr>\n",
              "      <th>1455</th>\n",
              "      <td>1</td>\n",
              "      <td>1</td>\n",
              "      <td>6</td>\n",
              "      <td>4</td>\n",
              "      <td>5</td>\n",
              "      <td>2</td>\n",
              "      <td>4</td>\n",
              "      <td>4</td>\n",
              "      <td>2</td>\n",
              "      <td>5</td>\n",
              "      <td>...</td>\n",
              "      <td>3</td>\n",
              "      <td>7</td>\n",
              "      <td>3</td>\n",
              "      <td>4</td>\n",
              "      <td>0</td>\n",
              "      <td>0</td>\n",
              "      <td>1456</td>\n",
              "      <td>5</td>\n",
              "      <td>0</td>\n",
              "      <td>175000</td>\n",
              "    </tr>\n",
              "    <tr>\n",
              "      <th>1456</th>\n",
              "      <td>1</td>\n",
              "      <td>1</td>\n",
              "      <td>6</td>\n",
              "      <td>3</td>\n",
              "      <td>4</td>\n",
              "      <td>2</td>\n",
              "      <td>2</td>\n",
              "      <td>4</td>\n",
              "      <td>2</td>\n",
              "      <td>3</td>\n",
              "      <td>...</td>\n",
              "      <td>2</td>\n",
              "      <td>7</td>\n",
              "      <td>3</td>\n",
              "      <td>2</td>\n",
              "      <td>163</td>\n",
              "      <td>0</td>\n",
              "      <td>1457</td>\n",
              "      <td>6</td>\n",
              "      <td>0</td>\n",
              "      <td>210000</td>\n",
              "    </tr>\n",
              "    <tr>\n",
              "      <th>1457</th>\n",
              "      <td>1</td>\n",
              "      <td>1</td>\n",
              "      <td>7</td>\n",
              "      <td>4</td>\n",
              "      <td>6</td>\n",
              "      <td>4</td>\n",
              "      <td>2</td>\n",
              "      <td>3</td>\n",
              "      <td>2</td>\n",
              "      <td>5</td>\n",
              "      <td>...</td>\n",
              "      <td>3</td>\n",
              "      <td>9</td>\n",
              "      <td>4</td>\n",
              "      <td>2</td>\n",
              "      <td>0</td>\n",
              "      <td>2500</td>\n",
              "      <td>1458</td>\n",
              "      <td>9</td>\n",
              "      <td>0</td>\n",
              "      <td>266500</td>\n",
              "    </tr>\n",
              "    <tr>\n",
              "      <th>1458</th>\n",
              "      <td>1</td>\n",
              "      <td>1</td>\n",
              "      <td>4</td>\n",
              "      <td>3</td>\n",
              "      <td>3</td>\n",
              "      <td>2</td>\n",
              "      <td>2</td>\n",
              "      <td>3</td>\n",
              "      <td>3</td>\n",
              "      <td>4</td>\n",
              "      <td>...</td>\n",
              "      <td>2</td>\n",
              "      <td>5</td>\n",
              "      <td>1</td>\n",
              "      <td>2</td>\n",
              "      <td>1029</td>\n",
              "      <td>0</td>\n",
              "      <td>1459</td>\n",
              "      <td>6</td>\n",
              "      <td>112</td>\n",
              "      <td>142125</td>\n",
              "    </tr>\n",
              "    <tr>\n",
              "      <th>1459</th>\n",
              "      <td>1</td>\n",
              "      <td>1</td>\n",
              "      <td>3</td>\n",
              "      <td>3</td>\n",
              "      <td>3</td>\n",
              "      <td>3</td>\n",
              "      <td>2</td>\n",
              "      <td>3</td>\n",
              "      <td>2</td>\n",
              "      <td>4</td>\n",
              "      <td>...</td>\n",
              "      <td>4</td>\n",
              "      <td>6</td>\n",
              "      <td>1</td>\n",
              "      <td>2</td>\n",
              "      <td>290</td>\n",
              "      <td>0</td>\n",
              "      <td>1460</td>\n",
              "      <td>6</td>\n",
              "      <td>0</td>\n",
              "      <td>147500</td>\n",
              "    </tr>\n",
              "  </tbody>\n",
              "</table>\n",
              "<p>1458 rows × 35 columns</p>\n",
              "</div>\n",
              "      <button class=\"colab-df-convert\" onclick=\"convertToInteractive('df-41d331ed-e1d4-4d68-af7a-e4e4296aca3d')\"\n",
              "              title=\"Convert this dataframe to an interactive table.\"\n",
              "              style=\"display:none;\">\n",
              "        \n",
              "  <svg xmlns=\"http://www.w3.org/2000/svg\" height=\"24px\"viewBox=\"0 0 24 24\"\n",
              "       width=\"24px\">\n",
              "    <path d=\"M0 0h24v24H0V0z\" fill=\"none\"/>\n",
              "    <path d=\"M18.56 5.44l.94 2.06.94-2.06 2.06-.94-2.06-.94-.94-2.06-.94 2.06-2.06.94zm-11 1L8.5 8.5l.94-2.06 2.06-.94-2.06-.94L8.5 2.5l-.94 2.06-2.06.94zm10 10l.94 2.06.94-2.06 2.06-.94-2.06-.94-.94-2.06-.94 2.06-2.06.94z\"/><path d=\"M17.41 7.96l-1.37-1.37c-.4-.4-.92-.59-1.43-.59-.52 0-1.04.2-1.43.59L10.3 9.45l-7.72 7.72c-.78.78-.78 2.05 0 2.83L4 21.41c.39.39.9.59 1.41.59.51 0 1.02-.2 1.41-.59l7.78-7.78 2.81-2.81c.8-.78.8-2.07 0-2.86zM5.41 20L4 18.59l7.72-7.72 1.47 1.35L5.41 20z\"/>\n",
              "  </svg>\n",
              "      </button>\n",
              "      \n",
              "  <style>\n",
              "    .colab-df-container {\n",
              "      display:flex;\n",
              "      flex-wrap:wrap;\n",
              "      gap: 12px;\n",
              "    }\n",
              "\n",
              "    .colab-df-convert {\n",
              "      background-color: #E8F0FE;\n",
              "      border: none;\n",
              "      border-radius: 50%;\n",
              "      cursor: pointer;\n",
              "      display: none;\n",
              "      fill: #1967D2;\n",
              "      height: 32px;\n",
              "      padding: 0 0 0 0;\n",
              "      width: 32px;\n",
              "    }\n",
              "\n",
              "    .colab-df-convert:hover {\n",
              "      background-color: #E2EBFA;\n",
              "      box-shadow: 0px 1px 2px rgba(60, 64, 67, 0.3), 0px 1px 3px 1px rgba(60, 64, 67, 0.15);\n",
              "      fill: #174EA6;\n",
              "    }\n",
              "\n",
              "    [theme=dark] .colab-df-convert {\n",
              "      background-color: #3B4455;\n",
              "      fill: #D2E3FC;\n",
              "    }\n",
              "\n",
              "    [theme=dark] .colab-df-convert:hover {\n",
              "      background-color: #434B5C;\n",
              "      box-shadow: 0px 1px 3px 1px rgba(0, 0, 0, 0.15);\n",
              "      filter: drop-shadow(0px 1px 2px rgba(0, 0, 0, 0.3));\n",
              "      fill: #FFFFFF;\n",
              "    }\n",
              "  </style>\n",
              "\n",
              "      <script>\n",
              "        const buttonEl =\n",
              "          document.querySelector('#df-41d331ed-e1d4-4d68-af7a-e4e4296aca3d button.colab-df-convert');\n",
              "        buttonEl.style.display =\n",
              "          google.colab.kernel.accessAllowed ? 'block' : 'none';\n",
              "\n",
              "        async function convertToInteractive(key) {\n",
              "          const element = document.querySelector('#df-41d331ed-e1d4-4d68-af7a-e4e4296aca3d');\n",
              "          const dataTable =\n",
              "            await google.colab.kernel.invokeFunction('convertToInteractive',\n",
              "                                                     [key], {});\n",
              "          if (!dataTable) return;\n",
              "\n",
              "          const docLinkHtml = 'Like what you see? Visit the ' +\n",
              "            '<a target=\"_blank\" href=https://colab.research.google.com/notebooks/data_table.ipynb>data table notebook</a>'\n",
              "            + ' to learn more about interactive tables.';\n",
              "          element.innerHTML = '';\n",
              "          dataTable['output_type'] = 'display_data';\n",
              "          await google.colab.output.renderOutput(dataTable, element);\n",
              "          const docLink = document.createElement('div');\n",
              "          docLink.innerHTML = docLinkHtml;\n",
              "          element.appendChild(docLink);\n",
              "        }\n",
              "      </script>\n",
              "    </div>\n",
              "  </div>\n",
              "  "
            ]
          },
          "metadata": {},
          "execution_count": 64
        }
      ]
    },
    {
      "cell_type": "code",
      "source": [
        "train_d=pd.get_dummies(train_d)"
      ],
      "metadata": {
        "id": "KNy2W5fKt396"
      },
      "execution_count": 65,
      "outputs": []
    },
    {
      "cell_type": "code",
      "source": [
        "test_d=pd.get_dummies(test)"
      ],
      "metadata": {
        "id": "vilAtol3t5sa"
      },
      "execution_count": 66,
      "outputs": []
    },
    {
      "cell_type": "code",
      "source": [
        "test_d.drop(['Id'],axis=1,inplace=True)"
      ],
      "metadata": {
        "id": "HUs1V667t7kB"
      },
      "execution_count": 67,
      "outputs": []
    },
    {
      "cell_type": "code",
      "source": [
        "train_d.columns"
      ],
      "metadata": {
        "colab": {
          "base_uri": "https://localhost:8080/"
        },
        "id": "f8zXb_vXt9zb",
        "outputId": "f3bdd49a-1969-48a9-a329-6daed2203469"
      },
      "execution_count": 68,
      "outputs": [
        {
          "output_type": "execute_result",
          "data": {
            "text/plain": [
              "Index(['LotShape', 'LotConfig', 'Neighborhood', 'HouseStyle', 'Exterior1st',\n",
              "       'ExterQual', 'Foundation', 'BsmtQual', 'BsmtExposure', 'HeatingQC',\n",
              "       'KitchenQual', 'FireplaceQu', 'GarageType', 'GarageFinish',\n",
              "       'OverallQual', 'GrLivArea', 'Neighborhood', 'ExterQual', 'KitchenQual',\n",
              "       'TotalBsmtSF', 'GarageCars', '1stFlrSF', 'GarageArea', 'BsmtQual',\n",
              "       'FullBath', 'GarageFinish', 'TotRmsAbvGrd', 'FireplaceQu', 'Foundation',\n",
              "       'BsmtFinSF2', 'MiscVal', 'Id', 'OverallCond', 'EnclosedPorch',\n",
              "       'SalePrice'],\n",
              "      dtype='object')"
            ]
          },
          "metadata": {},
          "execution_count": 68
        }
      ]
    },
    {
      "cell_type": "code",
      "source": [
        "for col in train_d.columns:\n",
        "    print(col,)"
      ],
      "metadata": {
        "colab": {
          "base_uri": "https://localhost:8080/"
        },
        "id": "H6PvcF7Ft_84",
        "outputId": "ddc6ee5e-ade0-43fb-bce4-d837f333efc5"
      },
      "execution_count": 69,
      "outputs": [
        {
          "output_type": "stream",
          "name": "stdout",
          "text": [
            "LotShape\n",
            "LotConfig\n",
            "Neighborhood\n",
            "HouseStyle\n",
            "Exterior1st\n",
            "ExterQual\n",
            "Foundation\n",
            "BsmtQual\n",
            "BsmtExposure\n",
            "HeatingQC\n",
            "KitchenQual\n",
            "FireplaceQu\n",
            "GarageType\n",
            "GarageFinish\n",
            "OverallQual\n",
            "GrLivArea\n",
            "Neighborhood\n",
            "ExterQual\n",
            "KitchenQual\n",
            "TotalBsmtSF\n",
            "GarageCars\n",
            "1stFlrSF\n",
            "GarageArea\n",
            "BsmtQual\n",
            "FullBath\n",
            "GarageFinish\n",
            "TotRmsAbvGrd\n",
            "FireplaceQu\n",
            "Foundation\n",
            "BsmtFinSF2\n",
            "MiscVal\n",
            "Id\n",
            "OverallCond\n",
            "EnclosedPorch\n",
            "SalePrice\n"
          ]
        }
      ]
    },
    {
      "cell_type": "code",
      "source": [
        "from sklearn.linear_model import LinearRegression\n",
        "from sklearn.model_selection import train_test_split\n",
        "predictors=train_d.drop(['Id','SalePrice'],axis=1)\n",
        "target=train.SalePrice\n",
        "x_train,x_cv,y_train,y_cv=train_test_split(predictors,target,test_size=0.35,random_state=0)"
      ],
      "metadata": {
        "id": "QtQ4N-D9uCjG"
      },
      "execution_count": 70,
      "outputs": []
    },
    {
      "cell_type": "code",
      "source": [
        "from sklearn.model_selection import KFold,cross_val_score\n",
        "logreg = LinearRegression()\n",
        "logreg.fit(x_train, y_train)"
      ],
      "metadata": {
        "colab": {
          "base_uri": "https://localhost:8080/"
        },
        "id": "DRohdefhuEn5",
        "outputId": "8a1cdaab-9d19-4bf0-8bfe-6ac16a6da26f"
      },
      "execution_count": 71,
      "outputs": [
        {
          "output_type": "execute_result",
          "data": {
            "text/plain": [
              "LinearRegression()"
            ]
          },
          "metadata": {},
          "execution_count": 71
        }
      ]
    },
    {
      "cell_type": "code",
      "source": [
        "logreg.predict(x_cv)"
      ],
      "metadata": {
        "colab": {
          "base_uri": "https://localhost:8080/"
        },
        "id": "18b52KyzuGow",
        "outputId": "7886aa0f-f3c1-4038-f291-31839bc09b8d"
      },
      "execution_count": 72,
      "outputs": [
        {
          "output_type": "execute_result",
          "data": {
            "text/plain": [
              "array([142649.08349774, 152291.94805512,  36833.33014588, 125660.57342277,\n",
              "       284009.50468679, 118176.35475852, 211406.37461049, 118865.41696579,\n",
              "       143327.57584468, 139550.65735551, 194412.2503937 ,  98495.20316493,\n",
              "       104145.432072  , 149292.13313296,  86740.47807506, 237468.94898336,\n",
              "       218765.69026462,  80357.44368881, 163840.31108174, 378530.86997737,\n",
              "       291984.32420908, 103351.08213894, 121178.05833915,  94216.47411736,\n",
              "        99632.64908188, 227240.50296151, 209910.33016852, 101014.45768293,\n",
              "       132480.30272496, 377379.5427292 , 179134.8587898 , 226567.94558407,\n",
              "       151418.77940622, 234403.80566151,  78971.82711589, 109907.45687209,\n",
              "       229078.86882511, 289214.82966141,  97737.84534332,  52620.70262746,\n",
              "       126579.6104191 , 237779.48930344, 120237.06230934, 112318.36546768,\n",
              "       189379.25202632, 168753.91409744, 315467.0694483 , 316931.95862269,\n",
              "       405267.90703418, 255762.91774402, 255291.69166242,  94751.63114639,\n",
              "       162695.51693197, 112734.08459143, 386785.50077402, 255486.05812096,\n",
              "       295645.58043965,  86794.70067206, 194787.81851587, 122457.82178579,\n",
              "       184935.4190585 , 114935.83563364, 113820.51545981, 267199.22885041,\n",
              "       111852.20448175, 344830.99300403, 291140.76735216, 275792.96373788,\n",
              "       150091.69705138, 101620.93919321, 127416.95155108, 256509.85993993,\n",
              "        81636.46153243, 146707.72198356, 361902.19790375, 156861.39172728,\n",
              "       239276.66597862, 211406.88098044, 238357.7530385 , 240648.75502325,\n",
              "       220440.6729509 , 125033.79291443, 271231.73390052, 235509.90495978,\n",
              "       223945.8529625 , 133290.16467874, 138854.66014018, 144214.67817718,\n",
              "       137526.91035332,  87426.852024  , 290477.40609303, 141865.55904285,\n",
              "       128209.97172563, 278540.38142161, 340067.37838364,  87476.31093729,\n",
              "       289737.55289383, 137816.87387404, 190261.04385242, 112740.39708255,\n",
              "       219571.64295679, 219090.14628626, 209266.9779931 ,  93613.91560583,\n",
              "       176709.47016089, 192139.97342816, 214843.6401567 , 223880.19711158,\n",
              "       148722.80945139, 254177.21571336, 111480.95349781, 150597.19097262,\n",
              "       236977.70366615, 121441.22644852, 106326.49814433, 105473.40506474,\n",
              "       308950.53716391, 230313.19117559, 292539.14684487, 132912.26032843,\n",
              "       137202.07353541,  77274.54642036,  68181.86551846,  23660.42588986,\n",
              "         9290.83802499, 182065.94797595, 108644.1653032 , 287856.81210733,\n",
              "       244352.51545602, 176743.15883189, 310049.3440896 , 140387.20225834,\n",
              "       212202.49596161, 269844.03131394, 256967.75459414, 192309.45754179,\n",
              "       131637.10397802, 147835.64054799, 118628.81053466, 111949.88274843,\n",
              "       310009.51768798, 244713.72217967, 167086.11707355, 102267.80280732,\n",
              "       142719.00044914, 114488.63232608, 212261.76753853, 265476.24014039,\n",
              "       160912.33425731, 155881.17930519,  72424.88296735, 206311.17495271,\n",
              "       280270.3518287 , 155607.34922186, 279420.00779023,  88152.44780151,\n",
              "       180406.61855363,  94920.18650789, 413010.48408736, 124340.35077456,\n",
              "        70620.15569982, 196774.25191281, 416412.90028615, 158789.47458311,\n",
              "       171765.06310664, 117501.32471708, 229532.29004427, 100094.34258239,\n",
              "        90423.60963293, 146185.50431931, 124453.33776478, 175540.33596207,\n",
              "       261811.10489403, 277969.23390483, 374313.23532014, 137067.34765365,\n",
              "       150913.57384315, 174494.00428069,  86595.53995239, 106232.93728516,\n",
              "       135047.62294656, 272472.87038291, 232476.37052374, 140815.27224476,\n",
              "       277721.76313608, 188377.77645072, 170816.1367914 , 174274.23974973,\n",
              "       145883.68111354, 134894.19729712, 181319.67393941, 323438.89461964,\n",
              "       183794.40363321,  54240.12388154, 214112.50351495, 212502.62825157,\n",
              "       209375.40189416, 111104.47245268, 228701.22716946, 146824.93272788,\n",
              "       132299.41947001, 227225.27869523, 199273.56824035, 337113.37360831,\n",
              "       222225.64890264, 219935.11612541, 186628.10804286, 261892.49100907,\n",
              "       247145.64810858, 218859.6394901 , 193720.54759407, 144852.60030289,\n",
              "       238558.59218861, 273682.14739633, 277109.36330625, 107389.72036199,\n",
              "       305751.95392374, 240363.29213221, 197019.78802428, 130430.3478253 ,\n",
              "        76809.1253498 , 232138.59043579, 238967.51484483, 308962.64381615,\n",
              "       246533.87787425, 206265.56297095,  22490.838084  , 191332.54032718,\n",
              "       110178.2018633 , 262411.43674075, 210294.95642179, 233435.46474931,\n",
              "       207050.92703018, 229219.80589412, 218597.32716841, 171353.13192976,\n",
              "       157700.1465455 , 229694.20624019, 176988.85657222, 174547.1896733 ,\n",
              "       244052.24397861, 378254.44546534, 124801.31135002, 136923.21703882,\n",
              "       110074.57380202, 175550.63147564, 146072.80861312, 308749.38929528,\n",
              "       227666.06986476,  88103.1212743 , 222128.30937407, 124108.57115108,\n",
              "        99407.35563704, 349842.08438389,  82080.41034417, 240757.6446955 ,\n",
              "       213626.9734767 , 205022.43924274, 202944.31023179, 126915.23910066,\n",
              "        35105.75308216, 167616.59281229, 239981.97651418, 274688.91322546,\n",
              "       373563.61589866, 127366.57124343, 184377.07169916, 170452.27315786,\n",
              "        75816.2638412 , 203773.69087341, 152647.70474752, 160861.81842272,\n",
              "       224081.33686976, 100421.21139828,  46222.0405403 , 154089.51645102,\n",
              "       164992.75661627, 187882.46480539, 169637.45485846, 184293.33004425,\n",
              "       196707.85014596,  63071.06795714, 237545.7765984 , 157463.8540664 ,\n",
              "        70557.17761114,  79559.27352531, 165672.71863389, 138769.3761787 ,\n",
              "       176829.40453703, 146224.52834466,  94080.86068413, 143091.25543127,\n",
              "       156584.74470523,  83084.5615883 , 124075.43364091, 157219.70231433,\n",
              "       272109.54332567, 344338.9236063 , 161418.62419809,  97728.16199803,\n",
              "        87370.56105771, 298701.85152894, 173833.14197898,  83812.92509351,\n",
              "       299274.01203363, 152106.8945685 , 195104.74975373, 118468.97785873,\n",
              "       202629.00233552, 253496.37988559, 238209.21400887, 228856.3689222 ,\n",
              "        68002.14140836, 134886.83107245, 174094.05441502, 158260.7991138 ,\n",
              "       144777.54576189, 143547.61478876,  46883.9911537 , 255258.45639704,\n",
              "       221835.75152538, 112594.97948727, 148967.37543064, 184483.55893264,\n",
              "       208865.37059727, 321267.99617262, 168057.35934638, 127411.78281302,\n",
              "       237663.39828446, 432630.3180362 , 276407.39298797, 140994.3626469 ,\n",
              "       132086.75623849, 146803.44340058, 269932.59698908, 118981.81195781,\n",
              "       104850.10085234, 206883.80271664, 127648.79117461, 189468.54648195,\n",
              "       125174.89082627, 116517.8978375 , 214155.33083651, 211945.98878995,\n",
              "       325334.25263232,  39353.17253028,  47457.13473248, 162617.90023932,\n",
              "        35075.85516438, 295043.45600949, 239205.6790358 , 270656.53975064,\n",
              "       283048.84239225, 242894.79095191, 311458.86940881, 224577.78409805,\n",
              "       263183.6907104 , 114953.20996045, 103282.58717671, 186099.6247536 ,\n",
              "        61695.86619618,  48909.07200017,  44882.32617832, 101473.58175912,\n",
              "       118780.23112875, 140320.56924224,  91720.36281018, 123894.28610754,\n",
              "        77913.70547332,  96330.42471219, 276119.15264729, 134576.51836884,\n",
              "       252416.97020467, 146560.65302976, 315492.00733967, 142952.00820079,\n",
              "       118739.38338849, 113535.51271397, 102151.22577026, 146750.89117574,\n",
              "       135890.44497987, 115652.76694682, 105800.81765553, 171518.64282872,\n",
              "       103127.50159232, 125842.85298597, 273093.2437174 , 123195.6713318 ,\n",
              "       133869.53547855, 339849.01305112, 177103.91135105, 171653.05205026,\n",
              "        97425.76090068, 151063.15316319, 220482.82162712, 112970.90487536,\n",
              "       143593.13221321, 143548.40096327, 165272.29780527, 133218.3597705 ,\n",
              "       186534.26138905, 246759.96515785,  84799.99795   , 137990.37378415,\n",
              "       209430.26980748, 144427.51551407, 153910.54147292, 182595.99746518,\n",
              "       228311.91787203, 110412.25028321, 181679.74514715, 140508.86102035,\n",
              "       338438.67542464, 308391.96725448, 267613.48385443, 152137.29954563,\n",
              "       155761.24863734, 105019.90158832, 285171.9578268 , 159384.65402135,\n",
              "        38939.26518922, 115666.5989454 , 112674.81718108, 119516.64565281,\n",
              "       200426.66980688, 214332.90612572, 246359.09003023, 151340.77502329,\n",
              "        74317.57474201, 133241.77019504, 222000.94341332, 223411.44674996,\n",
              "       117985.24185499,  83401.35044726, 194656.09900232, 145482.03733999,\n",
              "       269021.63017588, 201438.11964521, 115173.80040338,  32910.3590159 ,\n",
              "       177245.28498276, 235837.90506596, 122565.78294739, 114744.04940987,\n",
              "       237820.55334036, 131606.14749594, 164081.8798134 , 143626.7691154 ,\n",
              "       303819.78097052,  93397.23724706, 107023.00356923,  83003.83454501,\n",
              "       248874.65724659, 294828.59019921,  95290.17873441, 121839.0280575 ,\n",
              "       273867.04886703, 289288.77719707, 148934.10005577, 137465.70411103,\n",
              "       140768.45656875, 253258.89685531, 123820.71944521, 112496.08689976,\n",
              "       106045.73412317, 220121.54299906, 122497.19280408, 173577.99338965,\n",
              "       104165.37174722, 226130.60166748, 252731.31511582,  99773.72589717,\n",
              "       175539.10735995, 141714.81214211, 206404.09571713, 354823.77414932,\n",
              "       243616.14877017, 148359.42213921, 123826.43893733, 109966.89456277,\n",
              "        84895.58238564, 102421.60939406, 117618.37549612, 185101.68633041,\n",
              "       187298.48152486, 156398.32018448, 165842.10030684, 261107.45550543,\n",
              "       232224.05075345, 175126.66312531, 123117.99565099, 235700.47096324,\n",
              "       103715.70558658, 159126.51784775,  98163.3970031 , 277476.29152952,\n",
              "       157737.28115805, 335619.40417818, 238453.31196929, 146702.15933483,\n",
              "       139646.20359812, 169672.75538409, 385947.94049862, 127644.96933996,\n",
              "       232159.1658992 , 112464.08954558, 117452.71960319, 112954.45305115,\n",
              "       182523.43115207, 188148.17727396, 132885.56971348])"
            ]
          },
          "metadata": {},
          "execution_count": 72
        }
      ]
    },
    {
      "cell_type": "code",
      "source": [
        "from sklearn.metrics import accuracy_score\n",
        "y_pred=logreg.predict(x_cv)\n",
        "logreg.score(x_cv,y_cv)"
      ],
      "metadata": {
        "colab": {
          "base_uri": "https://localhost:8080/"
        },
        "id": "Vul11Wo1uJx7",
        "outputId": "b99a793e-0ca7-4437-f60d-67990309fb9e"
      },
      "execution_count": 73,
      "outputs": [
        {
          "output_type": "execute_result",
          "data": {
            "text/plain": [
              "0.8508492595138935"
            ]
          },
          "metadata": {},
          "execution_count": 73
        }
      ]
    },
    {
      "cell_type": "code",
      "source": [
        "features_train=['LotShape', 'LotConfig', 'Neighborhood', 'HouseStyle', 'Exterior1st',\n",
        "       'ExterQual', 'Foundation', 'BsmtQual', 'BsmtExposure', 'HeatingQC',\n",
        "       'KitchenQual', 'FireplaceQu', 'GarageType', 'GarageFinish',\n",
        "       'OverallQual', 'GrLivArea', 'Neighborhood', 'ExterQual', 'KitchenQual',\n",
        "       'TotalBsmtSF', 'GarageCars', '1stFlrSF', 'GarageArea', 'BsmtQual',\n",
        "       'FullBath', 'GarageFinish', 'TotRmsAbvGrd', 'FireplaceQu', 'Foundation',\n",
        "       'BsmtFinSF2', 'MiscVal','OverallCond', 'EnclosedPorch']"
      ],
      "metadata": {
        "id": "FMGP2l01uM8w"
      },
      "execution_count": 74,
      "outputs": []
    },
    {
      "cell_type": "code",
      "source": [
        "test_p=test[features_train]\n",
        "test_p=pd.get_dummies(test_p)"
      ],
      "metadata": {
        "id": "F0hVlrL4uQfi"
      },
      "execution_count": 75,
      "outputs": []
    },
    {
      "cell_type": "code",
      "source": [
        "test_X = test_p\n",
        "predicted_prices = logreg.predict(test_X)\n",
        "predicted_prices"
      ],
      "metadata": {
        "colab": {
          "base_uri": "https://localhost:8080/"
        },
        "id": "Yt6xRtgeuSvU",
        "outputId": "d9b31407-d2c0-48d3-8c7b-90f194b7bfc2"
      },
      "execution_count": 76,
      "outputs": [
        {
          "output_type": "execute_result",
          "data": {
            "text/plain": [
              "array([114111.25593272, 187494.25170509, 164735.38453939, ...,\n",
              "       157160.44853548, 103006.04926299, 203045.70613962])"
            ]
          },
          "metadata": {},
          "execution_count": 76
        }
      ]
    },
    {
      "cell_type": "code",
      "source": [
        "my_submission = pd.DataFrame({'Id': test.Id, 'SalePrice': predicted_prices})\n",
        "# you could use any filename. We choose submission here\n",
        "my_submission.to_csv('submission.csv', index=False)"
      ],
      "metadata": {
        "id": "MUr0xi0tuVDL"
      },
      "execution_count": 77,
      "outputs": []
    }
  ]
}