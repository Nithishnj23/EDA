{
 "cells": [
  {
   "cell_type": "code",
   "execution_count": 1,
   "id": "bec50cd3",
   "metadata": {
    "_cell_guid": "b1076dfc-b9ad-4769-8c92-a6c4dae69d19",
    "_uuid": "8f2839f25d086af736a60e9eeb907d3b93b6e0e5",
    "execution": {
     "iopub.execute_input": "2022-04-28T11:02:53.309607Z",
     "iopub.status.busy": "2022-04-28T11:02:53.308874Z",
     "iopub.status.idle": "2022-04-28T11:02:54.398251Z",
     "shell.execute_reply": "2022-04-28T11:02:54.397315Z"
    },
    "papermill": {
     "duration": 1.160356,
     "end_time": "2022-04-28T11:02:54.401725",
     "exception": false,
     "start_time": "2022-04-28T11:02:53.241369",
     "status": "completed"
    },
    "tags": []
   },
   "outputs": [],
   "source": [
    "import numpy as np\n",
    "import pandas as pd\n",
    "import matplotlib.pyplot as plt\n",
    "import seaborn as sns\n",
    "import warnings\n",
    "sns.set_style('whitegrid')\n",
    "warnings.filterwarnings('ignore')"
   ]
  },
  {
   "cell_type": "code",
   "execution_count": 2,
   "id": "0f475fb9",
   "metadata": {
    "execution": {
     "iopub.execute_input": "2022-04-28T11:02:54.558431Z",
     "iopub.status.busy": "2022-04-28T11:02:54.558061Z",
     "iopub.status.idle": "2022-04-28T11:02:54.633662Z",
     "shell.execute_reply": "2022-04-28T11:02:54.633054Z"
    },
    "papermill": {
     "duration": 0.161212,
     "end_time": "2022-04-28T11:02:54.637907",
     "exception": false,
     "start_time": "2022-04-28T11:02:54.476695",
     "status": "completed"
    },
    "tags": []
   },
   "outputs": [
    {
     "data": {
      "text/html": [
       "<div>\n",
       "<style scoped>\n",
       "    .dataframe tbody tr th:only-of-type {\n",
       "        vertical-align: middle;\n",
       "    }\n",
       "\n",
       "    .dataframe tbody tr th {\n",
       "        vertical-align: top;\n",
       "    }\n",
       "\n",
       "    .dataframe thead th {\n",
       "        text-align: right;\n",
       "    }\n",
       "</style>\n",
       "<table border=\"1\" class=\"dataframe\">\n",
       "  <thead>\n",
       "    <tr style=\"text-align: right;\">\n",
       "      <th></th>\n",
       "      <th>Item_Identifier</th>\n",
       "      <th>Item_Weight</th>\n",
       "      <th>Item_Fat_Content</th>\n",
       "      <th>Item_Visibility</th>\n",
       "      <th>Item_Type</th>\n",
       "      <th>Item_MRP</th>\n",
       "      <th>Outlet_Identifier</th>\n",
       "      <th>Outlet_Establishment_Year</th>\n",
       "      <th>Outlet_Size</th>\n",
       "      <th>Outlet_Location_Type</th>\n",
       "      <th>Outlet_Type</th>\n",
       "      <th>Item_Outlet_Sales</th>\n",
       "    </tr>\n",
       "  </thead>\n",
       "  <tbody>\n",
       "    <tr>\n",
       "      <th>0</th>\n",
       "      <td>FDA15</td>\n",
       "      <td>9.30</td>\n",
       "      <td>Low Fat</td>\n",
       "      <td>0.016047</td>\n",
       "      <td>Dairy</td>\n",
       "      <td>249.8092</td>\n",
       "      <td>OUT049</td>\n",
       "      <td>1999</td>\n",
       "      <td>Medium</td>\n",
       "      <td>Tier 1</td>\n",
       "      <td>Supermarket Type1</td>\n",
       "      <td>3735.1380</td>\n",
       "    </tr>\n",
       "    <tr>\n",
       "      <th>1</th>\n",
       "      <td>DRC01</td>\n",
       "      <td>5.92</td>\n",
       "      <td>Regular</td>\n",
       "      <td>0.019278</td>\n",
       "      <td>Soft Drinks</td>\n",
       "      <td>48.2692</td>\n",
       "      <td>OUT018</td>\n",
       "      <td>2009</td>\n",
       "      <td>Medium</td>\n",
       "      <td>Tier 3</td>\n",
       "      <td>Supermarket Type2</td>\n",
       "      <td>443.4228</td>\n",
       "    </tr>\n",
       "    <tr>\n",
       "      <th>2</th>\n",
       "      <td>FDN15</td>\n",
       "      <td>17.50</td>\n",
       "      <td>Low Fat</td>\n",
       "      <td>0.016760</td>\n",
       "      <td>Meat</td>\n",
       "      <td>141.6180</td>\n",
       "      <td>OUT049</td>\n",
       "      <td>1999</td>\n",
       "      <td>Medium</td>\n",
       "      <td>Tier 1</td>\n",
       "      <td>Supermarket Type1</td>\n",
       "      <td>2097.2700</td>\n",
       "    </tr>\n",
       "    <tr>\n",
       "      <th>3</th>\n",
       "      <td>FDX07</td>\n",
       "      <td>19.20</td>\n",
       "      <td>Regular</td>\n",
       "      <td>0.000000</td>\n",
       "      <td>Fruits and Vegetables</td>\n",
       "      <td>182.0950</td>\n",
       "      <td>OUT010</td>\n",
       "      <td>1998</td>\n",
       "      <td>NaN</td>\n",
       "      <td>Tier 3</td>\n",
       "      <td>Grocery Store</td>\n",
       "      <td>732.3800</td>\n",
       "    </tr>\n",
       "    <tr>\n",
       "      <th>4</th>\n",
       "      <td>NCD19</td>\n",
       "      <td>8.93</td>\n",
       "      <td>Low Fat</td>\n",
       "      <td>0.000000</td>\n",
       "      <td>Household</td>\n",
       "      <td>53.8614</td>\n",
       "      <td>OUT013</td>\n",
       "      <td>1987</td>\n",
       "      <td>High</td>\n",
       "      <td>Tier 3</td>\n",
       "      <td>Supermarket Type1</td>\n",
       "      <td>994.7052</td>\n",
       "    </tr>\n",
       "  </tbody>\n",
       "</table>\n",
       "</div>"
      ],
      "text/plain": [
       "  Item_Identifier  Item_Weight Item_Fat_Content  Item_Visibility  \\\n",
       "0           FDA15         9.30          Low Fat         0.016047   \n",
       "1           DRC01         5.92          Regular         0.019278   \n",
       "2           FDN15        17.50          Low Fat         0.016760   \n",
       "3           FDX07        19.20          Regular         0.000000   \n",
       "4           NCD19         8.93          Low Fat         0.000000   \n",
       "\n",
       "               Item_Type  Item_MRP Outlet_Identifier  \\\n",
       "0                  Dairy  249.8092            OUT049   \n",
       "1            Soft Drinks   48.2692            OUT018   \n",
       "2                   Meat  141.6180            OUT049   \n",
       "3  Fruits and Vegetables  182.0950            OUT010   \n",
       "4              Household   53.8614            OUT013   \n",
       "\n",
       "   Outlet_Establishment_Year Outlet_Size Outlet_Location_Type  \\\n",
       "0                       1999      Medium               Tier 1   \n",
       "1                       2009      Medium               Tier 3   \n",
       "2                       1999      Medium               Tier 1   \n",
       "3                       1998         NaN               Tier 3   \n",
       "4                       1987        High               Tier 3   \n",
       "\n",
       "         Outlet_Type  Item_Outlet_Sales  \n",
       "0  Supermarket Type1          3735.1380  \n",
       "1  Supermarket Type2           443.4228  \n",
       "2  Supermarket Type1          2097.2700  \n",
       "3      Grocery Store           732.3800  \n",
       "4  Supermarket Type1           994.7052  "
      ]
     },
     "execution_count": 2,
     "metadata": {},
     "output_type": "execute_result"
    }
   ],
   "source": [
    "df = pd.read_csv('../input/bigmarket/bigmarket.csv')\n",
    "df.head()"
   ]
  },
  {
   "cell_type": "code",
   "execution_count": 3,
   "id": "1e9248ab",
   "metadata": {
    "execution": {
     "iopub.execute_input": "2022-04-28T11:02:54.778138Z",
     "iopub.status.busy": "2022-04-28T11:02:54.777375Z",
     "iopub.status.idle": "2022-04-28T11:02:54.783374Z",
     "shell.execute_reply": "2022-04-28T11:02:54.782711Z"
    },
    "papermill": {
     "duration": 0.077287,
     "end_time": "2022-04-28T11:02:54.786944",
     "exception": false,
     "start_time": "2022-04-28T11:02:54.709657",
     "status": "completed"
    },
    "tags": []
   },
   "outputs": [
    {
     "data": {
      "text/plain": [
       "(8523, 12)"
      ]
     },
     "execution_count": 3,
     "metadata": {},
     "output_type": "execute_result"
    }
   ],
   "source": [
    "df.shape"
   ]
  },
  {
   "cell_type": "code",
   "execution_count": 4,
   "id": "ba195609",
   "metadata": {
    "execution": {
     "iopub.execute_input": "2022-04-28T11:02:54.926056Z",
     "iopub.status.busy": "2022-04-28T11:02:54.925665Z",
     "iopub.status.idle": "2022-04-28T11:02:54.961730Z",
     "shell.execute_reply": "2022-04-28T11:02:54.960856Z"
    },
    "papermill": {
     "duration": 0.107367,
     "end_time": "2022-04-28T11:02:54.964856",
     "exception": false,
     "start_time": "2022-04-28T11:02:54.857489",
     "status": "completed"
    },
    "tags": []
   },
   "outputs": [
    {
     "name": "stdout",
     "output_type": "stream",
     "text": [
      "<class 'pandas.core.frame.DataFrame'>\n",
      "RangeIndex: 8523 entries, 0 to 8522\n",
      "Data columns (total 12 columns):\n",
      " #   Column                     Non-Null Count  Dtype  \n",
      "---  ------                     --------------  -----  \n",
      " 0   Item_Identifier            8523 non-null   object \n",
      " 1   Item_Weight                7060 non-null   float64\n",
      " 2   Item_Fat_Content           8523 non-null   object \n",
      " 3   Item_Visibility            8523 non-null   float64\n",
      " 4   Item_Type                  8523 non-null   object \n",
      " 5   Item_MRP                   8523 non-null   float64\n",
      " 6   Outlet_Identifier          8523 non-null   object \n",
      " 7   Outlet_Establishment_Year  8523 non-null   int64  \n",
      " 8   Outlet_Size                6113 non-null   object \n",
      " 9   Outlet_Location_Type       8523 non-null   object \n",
      " 10  Outlet_Type                8523 non-null   object \n",
      " 11  Item_Outlet_Sales          8523 non-null   float64\n",
      "dtypes: float64(4), int64(1), object(7)\n",
      "memory usage: 799.2+ KB\n"
     ]
    }
   ],
   "source": [
    "df.info()"
   ]
  },
  {
   "cell_type": "markdown",
   "id": "c277b8f2",
   "metadata": {
    "papermill": {
     "duration": 0.069341,
     "end_time": "2022-04-28T11:02:55.101718",
     "exception": false,
     "start_time": "2022-04-28T11:02:55.032377",
     "status": "completed"
    },
    "tags": []
   },
   "source": [
    "**# checking for missing values****"
   ]
  },
  {
   "cell_type": "code",
   "execution_count": 5,
   "id": "3b9ccc76",
   "metadata": {
    "execution": {
     "iopub.execute_input": "2022-04-28T11:02:55.241134Z",
     "iopub.status.busy": "2022-04-28T11:02:55.240605Z",
     "iopub.status.idle": "2022-04-28T11:02:55.255037Z",
     "shell.execute_reply": "2022-04-28T11:02:55.254235Z"
    },
    "papermill": {
     "duration": 0.08455,
     "end_time": "2022-04-28T11:02:55.256990",
     "exception": false,
     "start_time": "2022-04-28T11:02:55.172440",
     "status": "completed"
    },
    "tags": []
   },
   "outputs": [
    {
     "data": {
      "text/plain": [
       "Item_Identifier                 0\n",
       "Item_Weight                  1463\n",
       "Item_Fat_Content                0\n",
       "Item_Visibility                 0\n",
       "Item_Type                       0\n",
       "Item_MRP                        0\n",
       "Outlet_Identifier               0\n",
       "Outlet_Establishment_Year       0\n",
       "Outlet_Size                  2410\n",
       "Outlet_Location_Type            0\n",
       "Outlet_Type                     0\n",
       "Item_Outlet_Sales               0\n",
       "dtype: int64"
      ]
     },
     "execution_count": 5,
     "metadata": {},
     "output_type": "execute_result"
    }
   ],
   "source": [
    "df.isnull().sum()"
   ]
  },
  {
   "cell_type": "markdown",
   "id": "1c0d479f",
   "metadata": {
    "papermill": {
     "duration": 0.066518,
     "end_time": "2022-04-28T11:02:55.389841",
     "exception": false,
     "start_time": "2022-04-28T11:02:55.323323",
     "status": "completed"
    },
    "tags": []
   },
   "source": [
    "Handling Missing Values\n",
    "\n",
    "MEAN -> AVERAGE\n",
    "MODE -> MORE REPEATED VALUE"
   ]
  },
  {
   "cell_type": "code",
   "execution_count": 6,
   "id": "1969a19c",
   "metadata": {
    "execution": {
     "iopub.execute_input": "2022-04-28T11:02:55.523499Z",
     "iopub.status.busy": "2022-04-28T11:02:55.522979Z",
     "iopub.status.idle": "2022-04-28T11:02:55.528613Z",
     "shell.execute_reply": "2022-04-28T11:02:55.527878Z"
    },
    "papermill": {
     "duration": 0.074687,
     "end_time": "2022-04-28T11:02:55.530473",
     "exception": false,
     "start_time": "2022-04-28T11:02:55.455786",
     "status": "completed"
    },
    "tags": []
   },
   "outputs": [
    {
     "data": {
      "text/plain": [
       "12.857645184135976"
      ]
     },
     "execution_count": 6,
     "metadata": {},
     "output_type": "execute_result"
    }
   ],
   "source": [
    "df['Item_Weight'].mean()"
   ]
  },
  {
   "cell_type": "markdown",
   "id": "cfc1cbf1",
   "metadata": {
    "papermill": {
     "duration": 0.06595,
     "end_time": "2022-04-28T11:02:55.662824",
     "exception": false,
     "start_time": "2022-04-28T11:02:55.596874",
     "status": "completed"
    },
    "tags": []
   },
   "source": [
    "# filling missing values in \"Item-Weight\" with MEAN VALUE"
   ]
  },
  {
   "cell_type": "code",
   "execution_count": 7,
   "id": "423b8f46",
   "metadata": {
    "execution": {
     "iopub.execute_input": "2022-04-28T11:02:55.798962Z",
     "iopub.status.busy": "2022-04-28T11:02:55.798219Z",
     "iopub.status.idle": "2022-04-28T11:02:55.804168Z",
     "shell.execute_reply": "2022-04-28T11:02:55.803341Z"
    },
    "papermill": {
     "duration": 0.07563,
     "end_time": "2022-04-28T11:02:55.806367",
     "exception": false,
     "start_time": "2022-04-28T11:02:55.730737",
     "status": "completed"
    },
    "tags": []
   },
   "outputs": [],
   "source": [
    "df['Item_Weight'].fillna(df['Item_Weight'].mean(), inplace=True)"
   ]
  },
  {
   "cell_type": "code",
   "execution_count": 8,
   "id": "e4961a3a",
   "metadata": {
    "execution": {
     "iopub.execute_input": "2022-04-28T11:02:55.942553Z",
     "iopub.status.busy": "2022-04-28T11:02:55.942262Z",
     "iopub.status.idle": "2022-04-28T11:02:55.950298Z",
     "shell.execute_reply": "2022-04-28T11:02:55.949376Z"
    },
    "papermill": {
     "duration": 0.078856,
     "end_time": "2022-04-28T11:02:55.952124",
     "exception": false,
     "start_time": "2022-04-28T11:02:55.873268",
     "status": "completed"
    },
    "tags": []
   },
   "outputs": [
    {
     "data": {
      "text/plain": [
       "0    Medium\n",
       "dtype: object"
      ]
     },
     "execution_count": 8,
     "metadata": {},
     "output_type": "execute_result"
    }
   ],
   "source": [
    "# Mode of \"Outlet_Size\" column\n",
    "df['Outlet_Size'].mode()"
   ]
  },
  {
   "cell_type": "code",
   "execution_count": 9,
   "id": "9c5ff42d",
   "metadata": {
    "execution": {
     "iopub.execute_input": "2022-04-28T11:02:56.089659Z",
     "iopub.status.busy": "2022-04-28T11:02:56.088991Z",
     "iopub.status.idle": "2022-04-28T11:02:56.109633Z",
     "shell.execute_reply": "2022-04-28T11:02:56.108748Z"
    },
    "papermill": {
     "duration": 0.091661,
     "end_time": "2022-04-28T11:02:56.112067",
     "exception": false,
     "start_time": "2022-04-28T11:02:56.020406",
     "status": "completed"
    },
    "tags": []
   },
   "outputs": [],
   "source": [
    "# filling the missing values in \"Outlet_Size\" column with Mode\n",
    "mode_of_Outlet_size = df.pivot_table(values='Outlet_Size', columns='Outlet_Type', aggfunc=(lambda x: x.mode()[0]))"
   ]
  },
  {
   "cell_type": "code",
   "execution_count": 10,
   "id": "f325a2bc",
   "metadata": {
    "execution": {
     "iopub.execute_input": "2022-04-28T11:02:56.251113Z",
     "iopub.status.busy": "2022-04-28T11:02:56.250574Z",
     "iopub.status.idle": "2022-04-28T11:02:56.257763Z",
     "shell.execute_reply": "2022-04-28T11:02:56.256919Z"
    },
    "papermill": {
     "duration": 0.07986,
     "end_time": "2022-04-28T11:02:56.260127",
     "exception": false,
     "start_time": "2022-04-28T11:02:56.180267",
     "status": "completed"
    },
    "tags": []
   },
   "outputs": [
    {
     "name": "stdout",
     "output_type": "stream",
     "text": [
      "Outlet_Type Grocery Store Supermarket Type1 Supermarket Type2  \\\n",
      "Outlet_Size         Small             Small            Medium   \n",
      "\n",
      "Outlet_Type Supermarket Type3  \n",
      "Outlet_Size            Medium  \n"
     ]
    }
   ],
   "source": [
    "print(mode_of_Outlet_size)"
   ]
  },
  {
   "cell_type": "code",
   "execution_count": 11,
   "id": "f65d90e4",
   "metadata": {
    "execution": {
     "iopub.execute_input": "2022-04-28T11:02:56.398868Z",
     "iopub.status.busy": "2022-04-28T11:02:56.398357Z",
     "iopub.status.idle": "2022-04-28T11:02:56.405801Z",
     "shell.execute_reply": "2022-04-28T11:02:56.404864Z"
    },
    "papermill": {
     "duration": 0.07825,
     "end_time": "2022-04-28T11:02:56.407713",
     "exception": false,
     "start_time": "2022-04-28T11:02:56.329463",
     "status": "completed"
    },
    "tags": []
   },
   "outputs": [
    {
     "name": "stdout",
     "output_type": "stream",
     "text": [
      "0       False\n",
      "1       False\n",
      "2       False\n",
      "3        True\n",
      "4       False\n",
      "        ...  \n",
      "8518    False\n",
      "8519     True\n",
      "8520    False\n",
      "8521    False\n",
      "8522    False\n",
      "Name: Outlet_Size, Length: 8523, dtype: bool\n"
     ]
    }
   ],
   "source": [
    "miss_values = df['Outlet_Size'].isnull()\n",
    "print(miss_values)"
   ]
  },
  {
   "cell_type": "code",
   "execution_count": 12,
   "id": "ea5903a0",
   "metadata": {
    "execution": {
     "iopub.execute_input": "2022-04-28T11:02:56.546076Z",
     "iopub.status.busy": "2022-04-28T11:02:56.545226Z",
     "iopub.status.idle": "2022-04-28T11:02:56.644580Z",
     "shell.execute_reply": "2022-04-28T11:02:56.643757Z"
    },
    "papermill": {
     "duration": 0.170352,
     "end_time": "2022-04-28T11:02:56.646807",
     "exception": false,
     "start_time": "2022-04-28T11:02:56.476455",
     "status": "completed"
    },
    "tags": []
   },
   "outputs": [
    {
     "data": {
      "text/plain": [
       "Item_Identifier              0\n",
       "Item_Weight                  0\n",
       "Item_Fat_Content             0\n",
       "Item_Visibility              0\n",
       "Item_Type                    0\n",
       "Item_MRP                     0\n",
       "Outlet_Identifier            0\n",
       "Outlet_Establishment_Year    0\n",
       "Outlet_Size                  0\n",
       "Outlet_Location_Type         0\n",
       "Outlet_Type                  0\n",
       "Item_Outlet_Sales            0\n",
       "dtype: int64"
      ]
     },
     "execution_count": 12,
     "metadata": {},
     "output_type": "execute_result"
    }
   ],
   "source": [
    "df.loc[miss_values, 'Outlet_Size'] = df.loc[miss_values, 'Outlet_Type'].apply(lambda x:mode_of_Outlet_size[x])\n",
    "#checking for missing values\n",
    "df.isnull().sum()"
   ]
  },
  {
   "cell_type": "markdown",
   "id": "790bf03b",
   "metadata": {
    "papermill": {
     "duration": 0.068423,
     "end_time": "2022-04-28T11:02:56.785352",
     "exception": false,
     "start_time": "2022-04-28T11:02:56.716929",
     "status": "completed"
    },
    "tags": []
   },
   "source": [
    "**Data Analysis**"
   ]
  },
  {
   "cell_type": "code",
   "execution_count": 13,
   "id": "0a73f30c",
   "metadata": {
    "execution": {
     "iopub.execute_input": "2022-04-28T11:02:56.923275Z",
     "iopub.status.busy": "2022-04-28T11:02:56.922991Z",
     "iopub.status.idle": "2022-04-28T11:02:56.952463Z",
     "shell.execute_reply": "2022-04-28T11:02:56.951870Z"
    },
    "papermill": {
     "duration": 0.101253,
     "end_time": "2022-04-28T11:02:56.954370",
     "exception": false,
     "start_time": "2022-04-28T11:02:56.853117",
     "status": "completed"
    },
    "tags": []
   },
   "outputs": [
    {
     "data": {
      "text/html": [
       "<div>\n",
       "<style scoped>\n",
       "    .dataframe tbody tr th:only-of-type {\n",
       "        vertical-align: middle;\n",
       "    }\n",
       "\n",
       "    .dataframe tbody tr th {\n",
       "        vertical-align: top;\n",
       "    }\n",
       "\n",
       "    .dataframe thead th {\n",
       "        text-align: right;\n",
       "    }\n",
       "</style>\n",
       "<table border=\"1\" class=\"dataframe\">\n",
       "  <thead>\n",
       "    <tr style=\"text-align: right;\">\n",
       "      <th></th>\n",
       "      <th>Item_Weight</th>\n",
       "      <th>Item_Visibility</th>\n",
       "      <th>Item_MRP</th>\n",
       "      <th>Outlet_Establishment_Year</th>\n",
       "      <th>Item_Outlet_Sales</th>\n",
       "    </tr>\n",
       "  </thead>\n",
       "  <tbody>\n",
       "    <tr>\n",
       "      <th>count</th>\n",
       "      <td>8523.000000</td>\n",
       "      <td>8523.000000</td>\n",
       "      <td>8523.000000</td>\n",
       "      <td>8523.000000</td>\n",
       "      <td>8523.000000</td>\n",
       "    </tr>\n",
       "    <tr>\n",
       "      <th>mean</th>\n",
       "      <td>12.857645</td>\n",
       "      <td>0.066132</td>\n",
       "      <td>140.992782</td>\n",
       "      <td>1997.831867</td>\n",
       "      <td>2181.288914</td>\n",
       "    </tr>\n",
       "    <tr>\n",
       "      <th>std</th>\n",
       "      <td>4.226124</td>\n",
       "      <td>0.051598</td>\n",
       "      <td>62.275067</td>\n",
       "      <td>8.371760</td>\n",
       "      <td>1706.499616</td>\n",
       "    </tr>\n",
       "    <tr>\n",
       "      <th>min</th>\n",
       "      <td>4.555000</td>\n",
       "      <td>0.000000</td>\n",
       "      <td>31.290000</td>\n",
       "      <td>1985.000000</td>\n",
       "      <td>33.290000</td>\n",
       "    </tr>\n",
       "    <tr>\n",
       "      <th>25%</th>\n",
       "      <td>9.310000</td>\n",
       "      <td>0.026989</td>\n",
       "      <td>93.826500</td>\n",
       "      <td>1987.000000</td>\n",
       "      <td>834.247400</td>\n",
       "    </tr>\n",
       "    <tr>\n",
       "      <th>50%</th>\n",
       "      <td>12.857645</td>\n",
       "      <td>0.053931</td>\n",
       "      <td>143.012800</td>\n",
       "      <td>1999.000000</td>\n",
       "      <td>1794.331000</td>\n",
       "    </tr>\n",
       "    <tr>\n",
       "      <th>75%</th>\n",
       "      <td>16.000000</td>\n",
       "      <td>0.094585</td>\n",
       "      <td>185.643700</td>\n",
       "      <td>2004.000000</td>\n",
       "      <td>3101.296400</td>\n",
       "    </tr>\n",
       "    <tr>\n",
       "      <th>max</th>\n",
       "      <td>21.350000</td>\n",
       "      <td>0.328391</td>\n",
       "      <td>266.888400</td>\n",
       "      <td>2009.000000</td>\n",
       "      <td>13086.964800</td>\n",
       "    </tr>\n",
       "  </tbody>\n",
       "</table>\n",
       "</div>"
      ],
      "text/plain": [
       "       Item_Weight  Item_Visibility     Item_MRP  Outlet_Establishment_Year  \\\n",
       "count  8523.000000      8523.000000  8523.000000                8523.000000   \n",
       "mean     12.857645         0.066132   140.992782                1997.831867   \n",
       "std       4.226124         0.051598    62.275067                   8.371760   \n",
       "min       4.555000         0.000000    31.290000                1985.000000   \n",
       "25%       9.310000         0.026989    93.826500                1987.000000   \n",
       "50%      12.857645         0.053931   143.012800                1999.000000   \n",
       "75%      16.000000         0.094585   185.643700                2004.000000   \n",
       "max      21.350000         0.328391   266.888400                2009.000000   \n",
       "\n",
       "       Item_Outlet_Sales  \n",
       "count        8523.000000  \n",
       "mean         2181.288914  \n",
       "std          1706.499616  \n",
       "min            33.290000  \n",
       "25%           834.247400  \n",
       "50%          1794.331000  \n",
       "75%          3101.296400  \n",
       "max         13086.964800  "
      ]
     },
     "execution_count": 13,
     "metadata": {},
     "output_type": "execute_result"
    }
   ],
   "source": [
    "df.describe()"
   ]
  },
  {
   "cell_type": "markdown",
   "id": "05c7b4ef",
   "metadata": {
    "papermill": {
     "duration": 0.069446,
     "end_time": "2022-04-28T11:02:57.094847",
     "exception": false,
     "start_time": "2022-04-28T11:02:57.025401",
     "status": "completed"
    },
    "tags": []
   },
   "source": [
    "**# Item_Weight distribution**\n"
   ]
  },
  {
   "cell_type": "code",
   "execution_count": 14,
   "id": "98b774ea",
   "metadata": {
    "execution": {
     "iopub.execute_input": "2022-04-28T11:02:57.235764Z",
     "iopub.status.busy": "2022-04-28T11:02:57.235469Z",
     "iopub.status.idle": "2022-04-28T11:02:57.572176Z",
     "shell.execute_reply": "2022-04-28T11:02:57.571586Z"
    },
    "papermill": {
     "duration": 0.410642,
     "end_time": "2022-04-28T11:02:57.574123",
     "exception": false,
     "start_time": "2022-04-28T11:02:57.163481",
     "status": "completed"
    },
    "tags": []
   },
   "outputs": [
    {
     "data": {
      "image/png": "[encoded data removed]",
      "text/plain": [
       "<Figure size 432x432 with 1 Axes>"
      ]
     },
     "metadata": {},
     "output_type": "display_data"
    }
   ],
   "source": [
    "\n",
    "plt.figure(figsize=(6,6))\n",
    "sns.distplot(df['Item_Weight'])\n",
    "plt.show()"
   ]
  },
  {
   "cell_type": "markdown",
   "id": "61fd28e2",
   "metadata": {
    "papermill": {
     "duration": 0.06964,
     "end_time": "2022-04-28T11:02:57.716048",
     "exception": false,
     "start_time": "2022-04-28T11:02:57.646408",
     "status": "completed"
    },
    "tags": []
   },
   "source": [
    "**# Item Visibility distribution**"
   ]
  },
  {
   "cell_type": "code",
   "execution_count": 15,
   "id": "573e22ba",
   "metadata": {
    "execution": {
     "iopub.execute_input": "2022-04-28T11:02:57.858843Z",
     "iopub.status.busy": "2022-04-28T11:02:57.858035Z",
     "iopub.status.idle": "2022-04-28T11:02:58.231113Z",
     "shell.execute_reply": "2022-04-28T11:02:58.230242Z"
    },
    "papermill": {
     "duration": 0.446434,
     "end_time": "2022-04-28T11:02:58.233318",
     "exception": false,
     "start_time": "2022-04-28T11:02:57.786884",
     "status": "completed"
    },
    "tags": []
   },
   "outputs": [
    {
     "data": {
      "image/png": "[encoded data removed]",
      "text/plain": [
       "<Figure size 432x432 with 1 Axes>"
      ]
     },
     "metadata": {},
     "output_type": "display_data"
    }
   ],
   "source": [
    "\n",
    "plt.figure(figsize=(6,6))\n",
    "sns.distplot(df['Item_Visibility'])\n",
    "plt.show()"
   ]
  },
  {
   "cell_type": "markdown",
   "id": "2c567fa4",
   "metadata": {
    "papermill": {
     "duration": 0.07168,
     "end_time": "2022-04-28T11:02:58.377282",
     "exception": false,
     "start_time": "2022-04-28T11:02:58.305602",
     "status": "completed"
    },
    "tags": []
   },
   "source": [
    "**# Item MRP distribution**"
   ]
  },
  {
   "cell_type": "code",
   "execution_count": 16,
   "id": "1321b5a0",
   "metadata": {
    "execution": {
     "iopub.execute_input": "2022-04-28T11:02:58.521387Z",
     "iopub.status.busy": "2022-04-28T11:02:58.520528Z",
     "iopub.status.idle": "2022-04-28T11:02:58.845202Z",
     "shell.execute_reply": "2022-04-28T11:02:58.844186Z"
    },
    "papermill": {
     "duration": 0.398735,
     "end_time": "2022-04-28T11:02:58.847437",
     "exception": false,
     "start_time": "2022-04-28T11:02:58.448702",
     "status": "completed"
    },
    "tags": []
   },
   "outputs": [
    {
     "data": {
      "image/png": "[encoded data removed]",
      "text/plain": [
       "<Figure size 432x432 with 1 Axes>"
      ]
     },
     "metadata": {},
     "output_type": "display_data"
    }
   ],
   "source": [
    "plt.figure(figsize=(6,6))\n",
    "sns.distplot(df['Item_MRP'])\n",
    "plt.show()"
   ]
  },
  {
   "cell_type": "markdown",
   "id": "0bdf3faf",
   "metadata": {
    "papermill": {
     "duration": 0.072477,
     "end_time": "2022-04-28T11:02:58.993747",
     "exception": false,
     "start_time": "2022-04-28T11:02:58.921270",
     "status": "completed"
    },
    "tags": []
   },
   "source": [
    "# Item_Outlet_Sales distribution"
   ]
  },
  {
   "cell_type": "code",
   "execution_count": 17,
   "id": "3d571636",
   "metadata": {
    "execution": {
     "iopub.execute_input": "2022-04-28T11:02:59.150366Z",
     "iopub.status.busy": "2022-04-28T11:02:59.149546Z",
     "iopub.status.idle": "2022-04-28T11:02:59.538815Z",
     "shell.execute_reply": "2022-04-28T11:02:59.537790Z"
    },
    "papermill": {
     "duration": 0.471244,
     "end_time": "2022-04-28T11:02:59.541114",
     "exception": false,
     "start_time": "2022-04-28T11:02:59.069870",
     "status": "completed"
    },
    "tags": []
   },
   "outputs": [
    {
     "data": {
      "image/png": "[encoded data removed]",
      "text/plain": [
       "<Figure size 432x432 with 1 Axes>"
      ]
     },
     "metadata": {},
     "output_type": "display_data"
    }
   ],
   "source": [
    "plt.figure(figsize=(6,6))\n",
    "sns.distplot(df['Item_Outlet_Sales'])\n",
    "plt.show()"
   ]
  },
  {
   "cell_type": "markdown",
   "id": "a3e749b6",
   "metadata": {
    "papermill": {
     "duration": 0.072296,
     "end_time": "2022-04-28T11:02:59.686441",
     "exception": false,
     "start_time": "2022-04-28T11:02:59.614145",
     "status": "completed"
    },
    "tags": []
   },
   "source": [
    "**# Outlet_Establishment_Year column**"
   ]
  },
  {
   "cell_type": "code",
   "execution_count": 18,
   "id": "9901a528",
   "metadata": {
    "execution": {
     "iopub.execute_input": "2022-04-28T11:02:59.836142Z",
     "iopub.status.busy": "2022-04-28T11:02:59.835829Z",
     "iopub.status.idle": "2022-04-28T11:03:00.085340Z",
     "shell.execute_reply": "2022-04-28T11:03:00.084276Z"
    },
    "papermill": {
     "duration": 0.326934,
     "end_time": "2022-04-28T11:03:00.087939",
     "exception": false,
     "start_time": "2022-04-28T11:02:59.761005",
     "status": "completed"
    },
    "tags": []
   },
   "outputs": [
    {
     "data": {
      "image/png": "[encoded data removed]",
      "text/plain": [
       "<Figure size 432x432 with 1 Axes>"
      ]
     },
     "metadata": {},
     "output_type": "display_data"
    }
   ],
   "source": [
    "plt.figure(figsize=(6,6))\n",
    "sns.countplot(x='Outlet_Establishment_Year', data=df)\n",
    "plt.show()"
   ]
  },
  {
   "cell_type": "markdown",
   "id": "787fe87c",
   "metadata": {
    "papermill": {
     "duration": 0.073562,
     "end_time": "2022-04-28T11:03:00.235777",
     "exception": false,
     "start_time": "2022-04-28T11:03:00.162215",
     "status": "completed"
    },
    "tags": []
   },
   "source": [
    "**# Item_Fat_Content column**"
   ]
  },
  {
   "cell_type": "code",
   "execution_count": 19,
   "id": "d93594fe",
   "metadata": {
    "execution": {
     "iopub.execute_input": "2022-04-28T11:03:00.385126Z",
     "iopub.status.busy": "2022-04-28T11:03:00.384806Z",
     "iopub.status.idle": "2022-04-28T11:03:00.585263Z",
     "shell.execute_reply": "2022-04-28T11:03:00.584385Z"
    },
    "papermill": {
     "duration": 0.277459,
     "end_time": "2022-04-28T11:03:00.587324",
     "exception": false,
     "start_time": "2022-04-28T11:03:00.309865",
     "status": "completed"
    },
    "tags": []
   },
   "outputs": [
    {
     "data": {
      "image/png": "[encoded data removed]",
      "text/plain": [
       "<Figure size 432x432 with 1 Axes>"
      ]
     },
     "metadata": {},
     "output_type": "display_data"
    }
   ],
   "source": [
    "plt.figure(figsize=(6,6))\n",
    "sns.countplot(x='Item_Fat_Content', data=df)\n",
    "plt.show()"
   ]
  },
  {
   "cell_type": "markdown",
   "id": "181d9093",
   "metadata": {
    "papermill": {
     "duration": 0.073955,
     "end_time": "2022-04-28T11:03:00.735598",
     "exception": false,
     "start_time": "2022-04-28T11:03:00.661643",
     "status": "completed"
    },
    "tags": []
   },
   "source": [
    "**# Item_Type column**"
   ]
  },
  {
   "cell_type": "code",
   "execution_count": 20,
   "id": "076cc76d",
   "metadata": {
    "execution": {
     "iopub.execute_input": "2022-04-28T11:03:00.889229Z",
     "iopub.status.busy": "2022-04-28T11:03:00.888662Z",
     "iopub.status.idle": "2022-04-28T11:03:01.234538Z",
     "shell.execute_reply": "2022-04-28T11:03:01.233564Z"
    },
    "papermill": {
     "duration": 0.426034,
     "end_time": "2022-04-28T11:03:01.237019",
     "exception": false,
     "start_time": "2022-04-28T11:03:00.810985",
     "status": "completed"
    },
    "tags": []
   },
   "outputs": [
    {
     "data": {
      "image/png": "[encoded data removed]",
      "text/plain": [
       "<Figure size 2160x432 with 1 Axes>"
      ]
     },
     "metadata": {},
     "output_type": "display_data"
    }
   ],
   "source": [
    "plt.figure(figsize=(30,6))\n",
    "sns.countplot(x='Item_Type', data=df)\n",
    "plt.show()"
   ]
  },
  {
   "cell_type": "markdown",
   "id": "6eebe5b0",
   "metadata": {
    "papermill": {
     "duration": 0.076927,
     "end_time": "2022-04-28T11:03:01.391484",
     "exception": false,
     "start_time": "2022-04-28T11:03:01.314557",
     "status": "completed"
    },
    "tags": []
   },
   "source": [
    "**# Outlet_Size column**"
   ]
  },
  {
   "cell_type": "code",
   "execution_count": 21,
   "id": "3fc3ecc5",
   "metadata": {
    "execution": {
     "iopub.execute_input": "2022-04-28T11:03:01.547354Z",
     "iopub.status.busy": "2022-04-28T11:03:01.547044Z",
     "iopub.status.idle": "2022-04-28T11:03:01.736331Z",
     "shell.execute_reply": "2022-04-28T11:03:01.735407Z"
    },
    "papermill": {
     "duration": 0.269898,
     "end_time": "2022-04-28T11:03:01.739076",
     "exception": false,
     "start_time": "2022-04-28T11:03:01.469178",
     "status": "completed"
    },
    "tags": []
   },
   "outputs": [
    {
     "data": {
      "image/png": "[encoded data removed]",
      "text/plain": [
       "<Figure size 432x432 with 1 Axes>"
      ]
     },
     "metadata": {},
     "output_type": "display_data"
    }
   ],
   "source": [
    "plt.figure(figsize=(6,6))\n",
    "sns.countplot(x='Outlet_Size', data=df)\n",
    "plt.show()"
   ]
  },
  {
   "cell_type": "markdown",
   "id": "a1886502",
   "metadata": {
    "papermill": {
     "duration": 0.077817,
     "end_time": "2022-04-28T11:03:01.898445",
     "exception": false,
     "start_time": "2022-04-28T11:03:01.820628",
     "status": "completed"
    },
    "tags": []
   },
   "source": [
    "**Data Pre=Processing**"
   ]
  },
  {
   "cell_type": "code",
   "execution_count": 22,
   "id": "32859651",
   "metadata": {
    "execution": {
     "iopub.execute_input": "2022-04-28T11:03:02.058767Z",
     "iopub.status.busy": "2022-04-28T11:03:02.058248Z",
     "iopub.status.idle": "2022-04-28T11:03:02.074945Z",
     "shell.execute_reply": "2022-04-28T11:03:02.074268Z"
    },
    "papermill": {
     "duration": 0.100426,
     "end_time": "2022-04-28T11:03:02.077066",
     "exception": false,
     "start_time": "2022-04-28T11:03:01.976640",
     "status": "completed"
    },
    "tags": []
   },
   "outputs": [
    {
     "data": {
      "text/html": [
       "<div>\n",
       "<style scoped>\n",
       "    .dataframe tbody tr th:only-of-type {\n",
       "        vertical-align: middle;\n",
       "    }\n",
       "\n",
       "    .dataframe tbody tr th {\n",
       "        vertical-align: top;\n",
       "    }\n",
       "\n",
       "    .dataframe thead th {\n",
       "        text-align: right;\n",
       "    }\n",
       "</style>\n",
       "<table border=\"1\" class=\"dataframe\">\n",
       "  <thead>\n",
       "    <tr style=\"text-align: right;\">\n",
       "      <th></th>\n",
       "      <th>Item_Identifier</th>\n",
       "      <th>Item_Weight</th>\n",
       "      <th>Item_Fat_Content</th>\n",
       "      <th>Item_Visibility</th>\n",
       "      <th>Item_Type</th>\n",
       "      <th>Item_MRP</th>\n",
       "      <th>Outlet_Identifier</th>\n",
       "      <th>Outlet_Establishment_Year</th>\n",
       "      <th>Outlet_Size</th>\n",
       "      <th>Outlet_Location_Type</th>\n",
       "      <th>Outlet_Type</th>\n",
       "      <th>Item_Outlet_Sales</th>\n",
       "    </tr>\n",
       "  </thead>\n",
       "  <tbody>\n",
       "    <tr>\n",
       "      <th>0</th>\n",
       "      <td>FDA15</td>\n",
       "      <td>9.30</td>\n",
       "      <td>Low Fat</td>\n",
       "      <td>0.016047</td>\n",
       "      <td>Dairy</td>\n",
       "      <td>249.8092</td>\n",
       "      <td>OUT049</td>\n",
       "      <td>1999</td>\n",
       "      <td>Medium</td>\n",
       "      <td>Tier 1</td>\n",
       "      <td>Supermarket Type1</td>\n",
       "      <td>3735.1380</td>\n",
       "    </tr>\n",
       "    <tr>\n",
       "      <th>1</th>\n",
       "      <td>DRC01</td>\n",
       "      <td>5.92</td>\n",
       "      <td>Regular</td>\n",
       "      <td>0.019278</td>\n",
       "      <td>Soft Drinks</td>\n",
       "      <td>48.2692</td>\n",
       "      <td>OUT018</td>\n",
       "      <td>2009</td>\n",
       "      <td>Medium</td>\n",
       "      <td>Tier 3</td>\n",
       "      <td>Supermarket Type2</td>\n",
       "      <td>443.4228</td>\n",
       "    </tr>\n",
       "    <tr>\n",
       "      <th>2</th>\n",
       "      <td>FDN15</td>\n",
       "      <td>17.50</td>\n",
       "      <td>Low Fat</td>\n",
       "      <td>0.016760</td>\n",
       "      <td>Meat</td>\n",
       "      <td>141.6180</td>\n",
       "      <td>OUT049</td>\n",
       "      <td>1999</td>\n",
       "      <td>Medium</td>\n",
       "      <td>Tier 1</td>\n",
       "      <td>Supermarket Type1</td>\n",
       "      <td>2097.2700</td>\n",
       "    </tr>\n",
       "    <tr>\n",
       "      <th>3</th>\n",
       "      <td>FDX07</td>\n",
       "      <td>19.20</td>\n",
       "      <td>Regular</td>\n",
       "      <td>0.000000</td>\n",
       "      <td>Fruits and Vegetables</td>\n",
       "      <td>182.0950</td>\n",
       "      <td>OUT010</td>\n",
       "      <td>1998</td>\n",
       "      <td>Small</td>\n",
       "      <td>Tier 3</td>\n",
       "      <td>Grocery Store</td>\n",
       "      <td>732.3800</td>\n",
       "    </tr>\n",
       "    <tr>\n",
       "      <th>4</th>\n",
       "      <td>NCD19</td>\n",
       "      <td>8.93</td>\n",
       "      <td>Low Fat</td>\n",
       "      <td>0.000000</td>\n",
       "      <td>Household</td>\n",
       "      <td>53.8614</td>\n",
       "      <td>OUT013</td>\n",
       "      <td>1987</td>\n",
       "      <td>High</td>\n",
       "      <td>Tier 3</td>\n",
       "      <td>Supermarket Type1</td>\n",
       "      <td>994.7052</td>\n",
       "    </tr>\n",
       "  </tbody>\n",
       "</table>\n",
       "</div>"
      ],
      "text/plain": [
       "  Item_Identifier  Item_Weight Item_Fat_Content  Item_Visibility  \\\n",
       "0           FDA15         9.30          Low Fat         0.016047   \n",
       "1           DRC01         5.92          Regular         0.019278   \n",
       "2           FDN15        17.50          Low Fat         0.016760   \n",
       "3           FDX07        19.20          Regular         0.000000   \n",
       "4           NCD19         8.93          Low Fat         0.000000   \n",
       "\n",
       "               Item_Type  Item_MRP Outlet_Identifier  \\\n",
       "0                  Dairy  249.8092            OUT049   \n",
       "1            Soft Drinks   48.2692            OUT018   \n",
       "2                   Meat  141.6180            OUT049   \n",
       "3  Fruits and Vegetables  182.0950            OUT010   \n",
       "4              Household   53.8614            OUT013   \n",
       "\n",
       "   Outlet_Establishment_Year Outlet_Size Outlet_Location_Type  \\\n",
       "0                       1999      Medium               Tier 1   \n",
       "1                       2009      Medium               Tier 3   \n",
       "2                       1999      Medium               Tier 1   \n",
       "3                       1998       Small               Tier 3   \n",
       "4                       1987        High               Tier 3   \n",
       "\n",
       "         Outlet_Type  Item_Outlet_Sales  \n",
       "0  Supermarket Type1          3735.1380  \n",
       "1  Supermarket Type2           443.4228  \n",
       "2  Supermarket Type1          2097.2700  \n",
       "3      Grocery Store           732.3800  \n",
       "4  Supermarket Type1           994.7052  "
      ]
     },
     "execution_count": 22,
     "metadata": {},
     "output_type": "execute_result"
    }
   ],
   "source": [
    "df.head()"
   ]
  },
  {
   "cell_type": "code",
   "execution_count": 23,
   "id": "b435b122",
   "metadata": {
    "execution": {
     "iopub.execute_input": "2022-04-28T11:03:02.243480Z",
     "iopub.status.busy": "2022-04-28T11:03:02.242626Z",
     "iopub.status.idle": "2022-04-28T11:03:02.251295Z",
     "shell.execute_reply": "2022-04-28T11:03:02.250447Z"
    },
    "papermill": {
     "duration": 0.093821,
     "end_time": "2022-04-28T11:03:02.253345",
     "exception": false,
     "start_time": "2022-04-28T11:03:02.159524",
     "status": "completed"
    },
    "tags": []
   },
   "outputs": [
    {
     "data": {
      "text/plain": [
       "Low Fat    5089\n",
       "Regular    2889\n",
       "LF          316\n",
       "reg         117\n",
       "low fat     112\n",
       "Name: Item_Fat_Content, dtype: int64"
      ]
     },
     "execution_count": 23,
     "metadata": {},
     "output_type": "execute_result"
    }
   ],
   "source": [
    "df['Item_Fat_Content'].value_counts()"
   ]
  },
  {
   "cell_type": "code",
   "execution_count": 24,
   "id": "f5ce671f",
   "metadata": {
    "execution": {
     "iopub.execute_input": "2022-04-28T11:03:02.414419Z",
     "iopub.status.busy": "2022-04-28T11:03:02.413846Z",
     "iopub.status.idle": "2022-04-28T11:03:02.422180Z",
     "shell.execute_reply": "2022-04-28T11:03:02.421282Z"
    },
    "papermill": {
     "duration": 0.091735,
     "end_time": "2022-04-28T11:03:02.424436",
     "exception": false,
     "start_time": "2022-04-28T11:03:02.332701",
     "status": "completed"
    },
    "tags": []
   },
   "outputs": [],
   "source": [
    "df.replace({'Item_Fat_Content':{'low fat':'Low Fat', 'LF':'Low Fat', 'reg':'Regular'}},inplace=True)"
   ]
  },
  {
   "cell_type": "code",
   "execution_count": 25,
   "id": "61fb8a98",
   "metadata": {
    "execution": {
     "iopub.execute_input": "2022-04-28T11:03:02.584761Z",
     "iopub.status.busy": "2022-04-28T11:03:02.584199Z",
     "iopub.status.idle": "2022-04-28T11:03:02.593289Z",
     "shell.execute_reply": "2022-04-28T11:03:02.592267Z"
    },
    "papermill": {
     "duration": 0.091054,
     "end_time": "2022-04-28T11:03:02.595544",
     "exception": false,
     "start_time": "2022-04-28T11:03:02.504490",
     "status": "completed"
    },
    "tags": []
   },
   "outputs": [
    {
     "data": {
      "text/plain": [
       "Low Fat    5517\n",
       "Regular    3006\n",
       "Name: Item_Fat_Content, dtype: int64"
      ]
     },
     "execution_count": 25,
     "metadata": {},
     "output_type": "execute_result"
    }
   ],
   "source": [
    "df['Item_Fat_Content'].value_counts()"
   ]
  },
  {
   "cell_type": "markdown",
   "id": "5ca2310e",
   "metadata": {
    "papermill": {
     "duration": 0.077599,
     "end_time": "2022-04-28T11:03:02.751596",
     "exception": false,
     "start_time": "2022-04-28T11:03:02.673997",
     "status": "completed"
    },
    "tags": []
   },
   "source": [
    "**Label Encoding**"
   ]
  },
  {
   "cell_type": "code",
   "execution_count": 26,
   "id": "2a2f9450",
   "metadata": {
    "execution": {
     "iopub.execute_input": "2022-04-28T11:03:02.913009Z",
     "iopub.status.busy": "2022-04-28T11:03:02.912429Z",
     "iopub.status.idle": "2022-04-28T11:03:03.220883Z",
     "shell.execute_reply": "2022-04-28T11:03:03.220002Z"
    },
    "papermill": {
     "duration": 0.391597,
     "end_time": "2022-04-28T11:03:03.223181",
     "exception": false,
     "start_time": "2022-04-28T11:03:02.831584",
     "status": "completed"
    },
    "tags": []
   },
   "outputs": [],
   "source": [
    "from sklearn.preprocessing import LabelEncoder"
   ]
  },
  {
   "cell_type": "code",
   "execution_count": 27,
   "id": "59a1bf99",
   "metadata": {
    "execution": {
     "iopub.execute_input": "2022-04-28T11:03:03.383945Z",
     "iopub.status.busy": "2022-04-28T11:03:03.383610Z",
     "iopub.status.idle": "2022-04-28T11:03:03.387759Z",
     "shell.execute_reply": "2022-04-28T11:03:03.386992Z"
    },
    "papermill": {
     "duration": 0.087739,
     "end_time": "2022-04-28T11:03:03.390000",
     "exception": false,
     "start_time": "2022-04-28T11:03:03.302261",
     "status": "completed"
    },
    "tags": []
   },
   "outputs": [],
   "source": [
    "encoder = LabelEncoder()"
   ]
  },
  {
   "cell_type": "code",
   "execution_count": 28,
   "id": "4792fbdc",
   "metadata": {
    "execution": {
     "iopub.execute_input": "2022-04-28T11:03:03.550966Z",
     "iopub.status.busy": "2022-04-28T11:03:03.550378Z",
     "iopub.status.idle": "2022-04-28T11:03:03.582347Z",
     "shell.execute_reply": "2022-04-28T11:03:03.581511Z"
    },
    "papermill": {
     "duration": 0.114765,
     "end_time": "2022-04-28T11:03:03.584700",
     "exception": false,
     "start_time": "2022-04-28T11:03:03.469935",
     "status": "completed"
    },
    "tags": []
   },
   "outputs": [],
   "source": [
    "df['Item_Identifier'] = encoder.fit_transform(df['Item_Identifier'])\n",
    "\n",
    "df['Item_Fat_Content'] = encoder.fit_transform(df['Item_Fat_Content'])\n",
    "\n",
    "df['Item_Type'] = encoder.fit_transform(df['Item_Type'])\n",
    "\n",
    "df['Outlet_Identifier'] = encoder.fit_transform(df['Outlet_Identifier'])\n",
    "\n",
    "df['Outlet_Size'] = encoder.fit_transform(df['Outlet_Size'])\n",
    "\n",
    "df['Outlet_Location_Type'] = encoder.fit_transform(df['Outlet_Location_Type'])\n",
    "\n",
    "df['Outlet_Type'] = encoder.fit_transform(df['Outlet_Type'])"
   ]
  },
  {
   "cell_type": "code",
   "execution_count": 29,
   "id": "bb187855",
   "metadata": {
    "execution": {
     "iopub.execute_input": "2022-04-28T11:03:03.745257Z",
     "iopub.status.busy": "2022-04-28T11:03:03.744680Z",
     "iopub.status.idle": "2022-04-28T11:03:03.758663Z",
     "shell.execute_reply": "2022-04-28T11:03:03.758066Z"
    },
    "papermill": {
     "duration": 0.096888,
     "end_time": "2022-04-28T11:03:03.760558",
     "exception": false,
     "start_time": "2022-04-28T11:03:03.663670",
     "status": "completed"
    },
    "tags": []
   },
   "outputs": [
    {
     "data": {
      "text/html": [
       "<div>\n",
       "<style scoped>\n",
       "    .dataframe tbody tr th:only-of-type {\n",
       "        vertical-align: middle;\n",
       "    }\n",
       "\n",
       "    .dataframe tbody tr th {\n",
       "        vertical-align: top;\n",
       "    }\n",
       "\n",
       "    .dataframe thead th {\n",
       "        text-align: right;\n",
       "    }\n",
       "</style>\n",
       "<table border=\"1\" class=\"dataframe\">\n",
       "  <thead>\n",
       "    <tr style=\"text-align: right;\">\n",
       "      <th></th>\n",
       "      <th>Item_Identifier</th>\n",
       "      <th>Item_Weight</th>\n",
       "      <th>Item_Fat_Content</th>\n",
       "      <th>Item_Visibility</th>\n",
       "      <th>Item_Type</th>\n",
       "      <th>Item_MRP</th>\n",
       "      <th>Outlet_Identifier</th>\n",
       "      <th>Outlet_Establishment_Year</th>\n",
       "      <th>Outlet_Size</th>\n",
       "      <th>Outlet_Location_Type</th>\n",
       "      <th>Outlet_Type</th>\n",
       "      <th>Item_Outlet_Sales</th>\n",
       "    </tr>\n",
       "  </thead>\n",
       "  <tbody>\n",
       "    <tr>\n",
       "      <th>0</th>\n",
       "      <td>156</td>\n",
       "      <td>9.30</td>\n",
       "      <td>0</td>\n",
       "      <td>0.016047</td>\n",
       "      <td>4</td>\n",
       "      <td>249.8092</td>\n",
       "      <td>9</td>\n",
       "      <td>1999</td>\n",
       "      <td>1</td>\n",
       "      <td>0</td>\n",
       "      <td>1</td>\n",
       "      <td>3735.1380</td>\n",
       "    </tr>\n",
       "    <tr>\n",
       "      <th>1</th>\n",
       "      <td>8</td>\n",
       "      <td>5.92</td>\n",
       "      <td>1</td>\n",
       "      <td>0.019278</td>\n",
       "      <td>14</td>\n",
       "      <td>48.2692</td>\n",
       "      <td>3</td>\n",
       "      <td>2009</td>\n",
       "      <td>1</td>\n",
       "      <td>2</td>\n",
       "      <td>2</td>\n",
       "      <td>443.4228</td>\n",
       "    </tr>\n",
       "    <tr>\n",
       "      <th>2</th>\n",
       "      <td>662</td>\n",
       "      <td>17.50</td>\n",
       "      <td>0</td>\n",
       "      <td>0.016760</td>\n",
       "      <td>10</td>\n",
       "      <td>141.6180</td>\n",
       "      <td>9</td>\n",
       "      <td>1999</td>\n",
       "      <td>1</td>\n",
       "      <td>0</td>\n",
       "      <td>1</td>\n",
       "      <td>2097.2700</td>\n",
       "    </tr>\n",
       "    <tr>\n",
       "      <th>3</th>\n",
       "      <td>1121</td>\n",
       "      <td>19.20</td>\n",
       "      <td>1</td>\n",
       "      <td>0.000000</td>\n",
       "      <td>6</td>\n",
       "      <td>182.0950</td>\n",
       "      <td>0</td>\n",
       "      <td>1998</td>\n",
       "      <td>2</td>\n",
       "      <td>2</td>\n",
       "      <td>0</td>\n",
       "      <td>732.3800</td>\n",
       "    </tr>\n",
       "    <tr>\n",
       "      <th>4</th>\n",
       "      <td>1297</td>\n",
       "      <td>8.93</td>\n",
       "      <td>0</td>\n",
       "      <td>0.000000</td>\n",
       "      <td>9</td>\n",
       "      <td>53.8614</td>\n",
       "      <td>1</td>\n",
       "      <td>1987</td>\n",
       "      <td>0</td>\n",
       "      <td>2</td>\n",
       "      <td>1</td>\n",
       "      <td>994.7052</td>\n",
       "    </tr>\n",
       "  </tbody>\n",
       "</table>\n",
       "</div>"
      ],
      "text/plain": [
       "   Item_Identifier  Item_Weight  Item_Fat_Content  Item_Visibility  Item_Type  \\\n",
       "0              156         9.30                 0         0.016047          4   \n",
       "1                8         5.92                 1         0.019278         14   \n",
       "2              662        17.50                 0         0.016760         10   \n",
       "3             1121        19.20                 1         0.000000          6   \n",
       "4             1297         8.93                 0         0.000000          9   \n",
       "\n",
       "   Item_MRP  Outlet_Identifier  Outlet_Establishment_Year  Outlet_Size  \\\n",
       "0  249.8092                  9                       1999            1   \n",
       "1   48.2692                  3                       2009            1   \n",
       "2  141.6180                  9                       1999            1   \n",
       "3  182.0950                  0                       1998            2   \n",
       "4   53.8614                  1                       1987            0   \n",
       "\n",
       "   Outlet_Location_Type  Outlet_Type  Item_Outlet_Sales  \n",
       "0                     0            1          3735.1380  \n",
       "1                     2            2           443.4228  \n",
       "2                     0            1          2097.2700  \n",
       "3                     2            0           732.3800  \n",
       "4                     2            1           994.7052  "
      ]
     },
     "execution_count": 29,
     "metadata": {},
     "output_type": "execute_result"
    }
   ],
   "source": [
    "df.head()"
   ]
  },
  {
   "cell_type": "markdown",
   "id": "217256d6",
   "metadata": {
    "papermill": {
     "duration": 0.079425,
     "end_time": "2022-04-28T11:03:03.920304",
     "exception": false,
     "start_time": "2022-04-28T11:03:03.840879",
     "status": "completed"
    },
    "tags": []
   },
   "source": [
    "**Splitting features and Target**"
   ]
  },
  {
   "cell_type": "code",
   "execution_count": 30,
   "id": "582460e8",
   "metadata": {
    "execution": {
     "iopub.execute_input": "2022-04-28T11:03:04.082430Z",
     "iopub.status.busy": "2022-04-28T11:03:04.081462Z",
     "iopub.status.idle": "2022-04-28T11:03:04.089262Z",
     "shell.execute_reply": "2022-04-28T11:03:04.088335Z"
    },
    "papermill": {
     "duration": 0.090865,
     "end_time": "2022-04-28T11:03:04.091686",
     "exception": false,
     "start_time": "2022-04-28T11:03:04.000821",
     "status": "completed"
    },
    "tags": []
   },
   "outputs": [],
   "source": [
    "X = df.iloc[:,:-1].values\n",
    "y = df.iloc[:,-1].values"
   ]
  },
  {
   "cell_type": "code",
   "execution_count": 31,
   "id": "ae2a6f5c",
   "metadata": {
    "execution": {
     "iopub.execute_input": "2022-04-28T11:03:04.252275Z",
     "iopub.status.busy": "2022-04-28T11:03:04.252001Z",
     "iopub.status.idle": "2022-04-28T11:03:04.257797Z",
     "shell.execute_reply": "2022-04-28T11:03:04.256846Z"
    },
    "papermill": {
     "duration": 0.089273,
     "end_time": "2022-04-28T11:03:04.261015",
     "exception": false,
     "start_time": "2022-04-28T11:03:04.171742",
     "status": "completed"
    },
    "tags": []
   },
   "outputs": [
    {
     "name": "stdout",
     "output_type": "stream",
     "text": [
      "[[1.560e+02 9.300e+00 0.000e+00 ... 1.000e+00 0.000e+00 1.000e+00]\n",
      " [8.000e+00 5.920e+00 1.000e+00 ... 1.000e+00 2.000e+00 2.000e+00]\n",
      " [6.620e+02 1.750e+01 0.000e+00 ... 1.000e+00 0.000e+00 1.000e+00]\n",
      " ...\n",
      " [1.357e+03 1.060e+01 0.000e+00 ... 2.000e+00 1.000e+00 1.000e+00]\n",
      " [6.810e+02 7.210e+00 1.000e+00 ... 1.000e+00 2.000e+00 2.000e+00]\n",
      " [5.000e+01 1.480e+01 0.000e+00 ... 2.000e+00 0.000e+00 1.000e+00]]\n"
     ]
    }
   ],
   "source": [
    "print(X)"
   ]
  },
  {
   "cell_type": "code",
   "execution_count": 32,
   "id": "54eb7a7b",
   "metadata": {
    "execution": {
     "iopub.execute_input": "2022-04-28T11:03:04.423712Z",
     "iopub.status.busy": "2022-04-28T11:03:04.423442Z",
     "iopub.status.idle": "2022-04-28T11:03:04.428395Z",
     "shell.execute_reply": "2022-04-28T11:03:04.427465Z"
    },
    "papermill": {
     "duration": 0.088071,
     "end_time": "2022-04-28T11:03:04.430475",
     "exception": false,
     "start_time": "2022-04-28T11:03:04.342404",
     "status": "completed"
    },
    "tags": []
   },
   "outputs": [
    {
     "name": "stdout",
     "output_type": "stream",
     "text": [
      "[3735.138   443.4228 2097.27   ... 1193.1136 1845.5976  765.67  ]\n"
     ]
    }
   ],
   "source": [
    "print(y)"
   ]
  },
  {
   "cell_type": "markdown",
   "id": "0fc74ff2",
   "metadata": {
    "papermill": {
     "duration": 0.079155,
     "end_time": "2022-04-28T11:03:04.589407",
     "exception": false,
     "start_time": "2022-04-28T11:03:04.510252",
     "status": "completed"
    },
    "tags": []
   },
   "source": [
    "**Splitting into Train Test Split**"
   ]
  },
  {
   "cell_type": "code",
   "execution_count": 33,
   "id": "51c790db",
   "metadata": {
    "execution": {
     "iopub.execute_input": "2022-04-28T11:03:04.753841Z",
     "iopub.status.busy": "2022-04-28T11:03:04.753315Z",
     "iopub.status.idle": "2022-04-28T11:03:04.818599Z",
     "shell.execute_reply": "2022-04-28T11:03:04.817947Z"
    },
    "papermill": {
     "duration": 0.14942,
     "end_time": "2022-04-28T11:03:04.820866",
     "exception": false,
     "start_time": "2022-04-28T11:03:04.671446",
     "status": "completed"
    },
    "tags": []
   },
   "outputs": [],
   "source": [
    "from sklearn.model_selection import train_test_split\n",
    "X_train, X_test, y_train, y_test = train_test_split(X,y, test_size=0.2, random_state=0)"
   ]
  },
  {
   "cell_type": "code",
   "execution_count": 34,
   "id": "e259b98f",
   "metadata": {
    "execution": {
     "iopub.execute_input": "2022-04-28T11:03:04.985376Z",
     "iopub.status.busy": "2022-04-28T11:03:04.984812Z",
     "iopub.status.idle": "2022-04-28T11:03:04.989566Z",
     "shell.execute_reply": "2022-04-28T11:03:04.988942Z"
    },
    "papermill": {
     "duration": 0.090194,
     "end_time": "2022-04-28T11:03:04.991677",
     "exception": false,
     "start_time": "2022-04-28T11:03:04.901483",
     "status": "completed"
    },
    "tags": []
   },
   "outputs": [
    {
     "name": "stdout",
     "output_type": "stream",
     "text": [
      "(8523, 11) (6818, 11) (1705, 11)\n"
     ]
    }
   ],
   "source": [
    "print(X.shape, X_train.shape, X_test.shape)"
   ]
  },
  {
   "cell_type": "markdown",
   "id": "b0b77e1b",
   "metadata": {
    "papermill": {
     "duration": 0.079783,
     "end_time": "2022-04-28T11:03:05.152400",
     "exception": false,
     "start_time": "2022-04-28T11:03:05.072617",
     "status": "completed"
    },
    "tags": []
   },
   "source": [
    "**Training Algortihm**"
   ]
  },
  {
   "cell_type": "code",
   "execution_count": 35,
   "id": "2d661062",
   "metadata": {
    "execution": {
     "iopub.execute_input": "2022-04-28T11:03:05.315180Z",
     "iopub.status.busy": "2022-04-28T11:03:05.314487Z",
     "iopub.status.idle": "2022-04-28T11:03:11.648876Z",
     "shell.execute_reply": "2022-04-28T11:03:11.647649Z"
    },
    "papermill": {
     "duration": 6.418535,
     "end_time": "2022-04-28T11:03:11.651543",
     "exception": false,
     "start_time": "2022-04-28T11:03:05.233008",
     "status": "completed"
    },
    "tags": []
   },
   "outputs": [],
   "source": [
    "from tensorflow.keras.models import Sequential\n",
    "from tensorflow.keras.layers import Dense"
   ]
  },
  {
   "cell_type": "code",
   "execution_count": 36,
   "id": "9c7e79a8",
   "metadata": {
    "execution": {
     "iopub.execute_input": "2022-04-28T11:03:11.816497Z",
     "iopub.status.busy": "2022-04-28T11:03:11.816195Z",
     "iopub.status.idle": "2022-04-28T11:03:11.905477Z",
     "shell.execute_reply": "2022-04-28T11:03:11.904766Z"
    },
    "papermill": {
     "duration": 0.173482,
     "end_time": "2022-04-28T11:03:11.907573",
     "exception": false,
     "start_time": "2022-04-28T11:03:11.734091",
     "status": "completed"
    },
    "tags": []
   },
   "outputs": [
    {
     "name": "stderr",
     "output_type": "stream",
     "text": [
      "2022-04-28 11:03:11.854496: I tensorflow/core/common_runtime/process_util.cc:146] Creating new thread pool with default inter op setting: 2. Tune using inter_op_parallelism_threads for best performance.\n"
     ]
    }
   ],
   "source": [
    "model = Sequential()\n",
    "\n",
    "model.add(Dense(20, activation='relu'))\n",
    "model.add(Dense(10, activation='relu'))\n",
    "model.add(Dense(5, activation='relu'))\n",
    "\n",
    "model.add(Dense(1)) # output layer\n",
    "\n",
    "model.compile(optimizer='rmsprop', loss='mse')"
   ]
  },
  {
   "cell_type": "code",
   "execution_count": 37,
   "id": "64f85945",
   "metadata": {
    "execution": {
     "iopub.execute_input": "2022-04-28T11:03:12.071955Z",
     "iopub.status.busy": "2022-04-28T11:03:12.071423Z",
     "iopub.status.idle": "2022-04-28T11:03:32.008694Z",
     "shell.execute_reply": "2022-04-28T11:03:32.008095Z"
    },
    "papermill": {
     "duration": 20.021568,
     "end_time": "2022-04-28T11:03:32.010862",
     "exception": false,
     "start_time": "2022-04-28T11:03:11.989294",
     "status": "completed"
    },
    "tags": []
   },
   "outputs": [
    {
     "name": "stderr",
     "output_type": "stream",
     "text": [
      "2022-04-28 11:03:12.164429: I tensorflow/compiler/mlir/mlir_graph_optimization_pass.cc:185] None of the MLIR Optimization Passes are enabled (registered 2)\n"
     ]
    },
    {
     "name": "stdout",
     "output_type": "stream",
     "text": [
      "Epoch 1/50\n",
      "214/214 [==============================] - 1s 2ms/step - loss: 4268256.0000\n",
      "Epoch 2/50\n",
      "214/214 [==============================] - 0s 2ms/step - loss: 2831244.2500\n",
      "Epoch 3/50\n",
      "214/214 [==============================] - 0s 2ms/step - loss: 2694904.0000\n",
      "Epoch 4/50\n",
      "214/214 [==============================] - 0s 2ms/step - loss: 2503776.5000\n",
      "Epoch 5/50\n",
      "214/214 [==============================] - 0s 2ms/step - loss: 2236713.2500\n",
      "Epoch 6/50\n",
      "214/214 [==============================] - 0s 2ms/step - loss: 2025817.8750\n",
      "Epoch 7/50\n",
      "214/214 [==============================] - 0s 2ms/step - loss: 1954203.3750\n",
      "Epoch 8/50\n",
      "214/214 [==============================] - 0s 2ms/step - loss: 1931962.6250\n",
      "Epoch 9/50\n",
      "214/214 [==============================] - 0s 2ms/step - loss: 1920372.3750\n",
      "Epoch 10/50\n",
      "214/214 [==============================] - 0s 2ms/step - loss: 1915666.0000\n",
      "Epoch 11/50\n",
      "214/214 [==============================] - 0s 2ms/step - loss: 1908297.0000\n",
      "Epoch 12/50\n",
      "214/214 [==============================] - 0s 2ms/step - loss: 1899772.8750\n",
      "Epoch 13/50\n",
      "214/214 [==============================] - 0s 2ms/step - loss: 1892520.3750\n",
      "Epoch 14/50\n",
      "214/214 [==============================] - 0s 2ms/step - loss: 1886509.2500\n",
      "Epoch 15/50\n",
      "214/214 [==============================] - 0s 2ms/step - loss: 1872219.1250\n",
      "Epoch 16/50\n",
      "214/214 [==============================] - 0s 2ms/step - loss: 1866578.1250\n",
      "Epoch 17/50\n",
      "214/214 [==============================] - 0s 2ms/step - loss: 1854913.2500\n",
      "Epoch 18/50\n",
      "214/214 [==============================] - 0s 2ms/step - loss: 1850407.2500\n",
      "Epoch 19/50\n",
      "214/214 [==============================] - 0s 2ms/step - loss: 1845362.5000\n",
      "Epoch 20/50\n",
      "214/214 [==============================] - 0s 2ms/step - loss: 1834059.0000\n",
      "Epoch 21/50\n",
      "214/214 [==============================] - 0s 2ms/step - loss: 1823256.8750\n",
      "Epoch 22/50\n",
      "214/214 [==============================] - 0s 2ms/step - loss: 1816951.8750\n",
      "Epoch 23/50\n",
      "214/214 [==============================] - 0s 2ms/step - loss: 1808490.1250\n",
      "Epoch 24/50\n",
      "214/214 [==============================] - 0s 2ms/step - loss: 1795709.2500\n",
      "Epoch 25/50\n",
      "214/214 [==============================] - 0s 2ms/step - loss: 1789378.2500\n",
      "Epoch 26/50\n",
      "214/214 [==============================] - 0s 2ms/step - loss: 1780248.3750\n",
      "Epoch 27/50\n",
      "214/214 [==============================] - 0s 2ms/step - loss: 1767700.0000\n",
      "Epoch 28/50\n",
      "214/214 [==============================] - 0s 2ms/step - loss: 1760603.1250\n",
      "Epoch 29/50\n",
      "214/214 [==============================] - 0s 2ms/step - loss: 1747077.3750\n",
      "Epoch 30/50\n",
      "214/214 [==============================] - 0s 2ms/step - loss: 1737308.1250\n",
      "Epoch 31/50\n",
      "214/214 [==============================] - 0s 2ms/step - loss: 1723613.1250\n",
      "Epoch 32/50\n",
      "214/214 [==============================] - 0s 2ms/step - loss: 1712422.1250\n",
      "Epoch 33/50\n",
      "214/214 [==============================] - 0s 2ms/step - loss: 1697963.6250\n",
      "Epoch 34/50\n",
      "214/214 [==============================] - 0s 2ms/step - loss: 1685910.8750\n",
      "Epoch 35/50\n",
      "214/214 [==============================] - 1s 3ms/step - loss: 1676270.7500\n",
      "Epoch 36/50\n",
      "214/214 [==============================] - 0s 2ms/step - loss: 1666296.8750\n",
      "Epoch 37/50\n",
      "214/214 [==============================] - 0s 2ms/step - loss: 1649897.1250\n",
      "Epoch 38/50\n",
      "214/214 [==============================] - 0s 2ms/step - loss: 1637592.0000\n",
      "Epoch 39/50\n",
      "214/214 [==============================] - 0s 2ms/step - loss: 1626532.6250\n",
      "Epoch 40/50\n",
      "214/214 [==============================] - 0s 2ms/step - loss: 1614986.8750\n",
      "Epoch 41/50\n",
      "214/214 [==============================] - 0s 2ms/step - loss: 1593371.8750\n",
      "Epoch 42/50\n",
      "214/214 [==============================] - 0s 2ms/step - loss: 1590746.5000\n",
      "Epoch 43/50\n",
      "214/214 [==============================] - 0s 2ms/step - loss: 1578398.6250\n",
      "Epoch 44/50\n",
      "214/214 [==============================] - 0s 2ms/step - loss: 1567665.7500\n",
      "Epoch 45/50\n",
      "214/214 [==============================] - 0s 2ms/step - loss: 1557454.6250\n",
      "Epoch 46/50\n",
      "214/214 [==============================] - 0s 2ms/step - loss: 1543758.3750\n",
      "Epoch 47/50\n",
      "214/214 [==============================] - 0s 2ms/step - loss: 1542925.1250\n",
      "Epoch 48/50\n",
      "214/214 [==============================] - 0s 2ms/step - loss: 1537381.6250\n",
      "Epoch 49/50\n",
      "214/214 [==============================] - 0s 2ms/step - loss: 1533512.1250\n",
      "Epoch 50/50\n",
      "214/214 [==============================] - 0s 2ms/step - loss: 1528625.6250\n"
     ]
    },
    {
     "data": {
      "text/plain": [
       "<keras.callbacks.History at 0x7fddc8d51d50>"
      ]
     },
     "execution_count": 37,
     "metadata": {},
     "output_type": "execute_result"
    }
   ],
   "source": [
    "model.fit(x = X_train, y = y_train, epochs=50)"
   ]
  },
  {
   "cell_type": "code",
   "execution_count": 38,
   "id": "e20aeb9a",
   "metadata": {
    "execution": {
     "iopub.execute_input": "2022-04-28T11:03:32.507563Z",
     "iopub.status.busy": "2022-04-28T11:03:32.507059Z",
     "iopub.status.idle": "2022-04-28T11:03:32.514039Z",
     "shell.execute_reply": "2022-04-28T11:03:32.513123Z"
    },
    "papermill": {
     "duration": 0.256597,
     "end_time": "2022-04-28T11:03:32.515856",
     "exception": false,
     "start_time": "2022-04-28T11:03:32.259259",
     "status": "completed"
    },
    "tags": []
   },
   "outputs": [
    {
     "name": "stdout",
     "output_type": "stream",
     "text": [
      "Model: \"sequential\"\n",
      "_________________________________________________________________\n",
      "Layer (type)                 Output Shape              Param #   \n",
      "=================================================================\n",
      "dense (Dense)                (None, 20)                240       \n",
      "_________________________________________________________________\n",
      "dense_1 (Dense)              (None, 10)                210       \n",
      "_________________________________________________________________\n",
      "dense_2 (Dense)              (None, 5)                 55        \n",
      "_________________________________________________________________\n",
      "dense_3 (Dense)              (None, 1)                 6         \n",
      "=================================================================\n",
      "Total params: 511\n",
      "Trainable params: 511\n",
      "Non-trainable params: 0\n",
      "_________________________________________________________________\n"
     ]
    }
   ],
   "source": [
    "model.summary()"
   ]
  },
  {
   "cell_type": "code",
   "execution_count": 39,
   "id": "11479454",
   "metadata": {
    "execution": {
     "iopub.execute_input": "2022-04-28T11:03:33.010135Z",
     "iopub.status.busy": "2022-04-28T11:03:33.009554Z",
     "iopub.status.idle": "2022-04-28T11:03:33.014282Z",
     "shell.execute_reply": "2022-04-28T11:03:33.013326Z"
    },
    "papermill": {
     "duration": 0.255397,
     "end_time": "2022-04-28T11:03:33.016512",
     "exception": false,
     "start_time": "2022-04-28T11:03:32.761115",
     "status": "completed"
    },
    "tags": []
   },
   "outputs": [],
   "source": [
    "loss_df = pd.DataFrame(model.history.history)"
   ]
  },
  {
   "cell_type": "code",
   "execution_count": 40,
   "id": "f6d56651",
   "metadata": {
    "execution": {
     "iopub.execute_input": "2022-04-28T11:03:33.515399Z",
     "iopub.status.busy": "2022-04-28T11:03:33.514862Z",
     "iopub.status.idle": "2022-04-28T11:03:33.527412Z",
     "shell.execute_reply": "2022-04-28T11:03:33.526805Z"
    },
    "papermill": {
     "duration": 0.264669,
     "end_time": "2022-04-28T11:03:33.529452",
     "exception": false,
     "start_time": "2022-04-28T11:03:33.264783",
     "status": "completed"
    },
    "tags": []
   },
   "outputs": [
    {
     "data": {
      "text/html": [
       "<div>\n",
       "<style scoped>\n",
       "    .dataframe tbody tr th:only-of-type {\n",
       "        vertical-align: middle;\n",
       "    }\n",
       "\n",
       "    .dataframe tbody tr th {\n",
       "        vertical-align: top;\n",
       "    }\n",
       "\n",
       "    .dataframe thead th {\n",
       "        text-align: right;\n",
       "    }\n",
       "</style>\n",
       "<table border=\"1\" class=\"dataframe\">\n",
       "  <thead>\n",
       "    <tr style=\"text-align: right;\">\n",
       "      <th></th>\n",
       "      <th>loss</th>\n",
       "    </tr>\n",
       "  </thead>\n",
       "  <tbody>\n",
       "    <tr>\n",
       "      <th>0</th>\n",
       "      <td>4268256.000</td>\n",
       "    </tr>\n",
       "    <tr>\n",
       "      <th>1</th>\n",
       "      <td>2831244.250</td>\n",
       "    </tr>\n",
       "    <tr>\n",
       "      <th>2</th>\n",
       "      <td>2694904.000</td>\n",
       "    </tr>\n",
       "    <tr>\n",
       "      <th>3</th>\n",
       "      <td>2503776.500</td>\n",
       "    </tr>\n",
       "    <tr>\n",
       "      <th>4</th>\n",
       "      <td>2236713.250</td>\n",
       "    </tr>\n",
       "    <tr>\n",
       "      <th>5</th>\n",
       "      <td>2025817.875</td>\n",
       "    </tr>\n",
       "    <tr>\n",
       "      <th>6</th>\n",
       "      <td>1954203.375</td>\n",
       "    </tr>\n",
       "    <tr>\n",
       "      <th>7</th>\n",
       "      <td>1931962.625</td>\n",
       "    </tr>\n",
       "    <tr>\n",
       "      <th>8</th>\n",
       "      <td>1920372.375</td>\n",
       "    </tr>\n",
       "    <tr>\n",
       "      <th>9</th>\n",
       "      <td>1915666.000</td>\n",
       "    </tr>\n",
       "    <tr>\n",
       "      <th>10</th>\n",
       "      <td>1908297.000</td>\n",
       "    </tr>\n",
       "    <tr>\n",
       "      <th>11</th>\n",
       "      <td>1899772.875</td>\n",
       "    </tr>\n",
       "    <tr>\n",
       "      <th>12</th>\n",
       "      <td>1892520.375</td>\n",
       "    </tr>\n",
       "    <tr>\n",
       "      <th>13</th>\n",
       "      <td>1886509.250</td>\n",
       "    </tr>\n",
       "    <tr>\n",
       "      <th>14</th>\n",
       "      <td>1872219.125</td>\n",
       "    </tr>\n",
       "    <tr>\n",
       "      <th>15</th>\n",
       "      <td>1866578.125</td>\n",
       "    </tr>\n",
       "    <tr>\n",
       "      <th>16</th>\n",
       "      <td>1854913.250</td>\n",
       "    </tr>\n",
       "    <tr>\n",
       "      <th>17</th>\n",
       "      <td>1850407.250</td>\n",
       "    </tr>\n",
       "    <tr>\n",
       "      <th>18</th>\n",
       "      <td>1845362.500</td>\n",
       "    </tr>\n",
       "    <tr>\n",
       "      <th>19</th>\n",
       "      <td>1834059.000</td>\n",
       "    </tr>\n",
       "    <tr>\n",
       "      <th>20</th>\n",
       "      <td>1823256.875</td>\n",
       "    </tr>\n",
       "    <tr>\n",
       "      <th>21</th>\n",
       "      <td>1816951.875</td>\n",
       "    </tr>\n",
       "    <tr>\n",
       "      <th>22</th>\n",
       "      <td>1808490.125</td>\n",
       "    </tr>\n",
       "    <tr>\n",
       "      <th>23</th>\n",
       "      <td>1795709.250</td>\n",
       "    </tr>\n",
       "    <tr>\n",
       "      <th>24</th>\n",
       "      <td>1789378.250</td>\n",
       "    </tr>\n",
       "    <tr>\n",
       "      <th>25</th>\n",
       "      <td>1780248.375</td>\n",
       "    </tr>\n",
       "    <tr>\n",
       "      <th>26</th>\n",
       "      <td>1767700.000</td>\n",
       "    </tr>\n",
       "    <tr>\n",
       "      <th>27</th>\n",
       "      <td>1760603.125</td>\n",
       "    </tr>\n",
       "    <tr>\n",
       "      <th>28</th>\n",
       "      <td>1747077.375</td>\n",
       "    </tr>\n",
       "    <tr>\n",
       "      <th>29</th>\n",
       "      <td>1737308.125</td>\n",
       "    </tr>\n",
       "    <tr>\n",
       "      <th>30</th>\n",
       "      <td>1723613.125</td>\n",
       "    </tr>\n",
       "    <tr>\n",
       "      <th>31</th>\n",
       "      <td>1712422.125</td>\n",
       "    </tr>\n",
       "    <tr>\n",
       "      <th>32</th>\n",
       "      <td>1697963.625</td>\n",
       "    </tr>\n",
       "    <tr>\n",
       "      <th>33</th>\n",
       "      <td>1685910.875</td>\n",
       "    </tr>\n",
       "    <tr>\n",
       "      <th>34</th>\n",
       "      <td>1676270.750</td>\n",
       "    </tr>\n",
       "    <tr>\n",
       "      <th>35</th>\n",
       "      <td>1666296.875</td>\n",
       "    </tr>\n",
       "    <tr>\n",
       "      <th>36</th>\n",
       "      <td>1649897.125</td>\n",
       "    </tr>\n",
       "    <tr>\n",
       "      <th>37</th>\n",
       "      <td>1637592.000</td>\n",
       "    </tr>\n",
       "    <tr>\n",
       "      <th>38</th>\n",
       "      <td>1626532.625</td>\n",
       "    </tr>\n",
       "    <tr>\n",
       "      <th>39</th>\n",
       "      <td>1614986.875</td>\n",
       "    </tr>\n",
       "    <tr>\n",
       "      <th>40</th>\n",
       "      <td>1593371.875</td>\n",
       "    </tr>\n",
       "    <tr>\n",
       "      <th>41</th>\n",
       "      <td>1590746.500</td>\n",
       "    </tr>\n",
       "    <tr>\n",
       "      <th>42</th>\n",
       "      <td>1578398.625</td>\n",
       "    </tr>\n",
       "    <tr>\n",
       "      <th>43</th>\n",
       "      <td>1567665.750</td>\n",
       "    </tr>\n",
       "    <tr>\n",
       "      <th>44</th>\n",
       "      <td>1557454.625</td>\n",
       "    </tr>\n",
       "    <tr>\n",
       "      <th>45</th>\n",
       "      <td>1543758.375</td>\n",
       "    </tr>\n",
       "    <tr>\n",
       "      <th>46</th>\n",
       "      <td>1542925.125</td>\n",
       "    </tr>\n",
       "    <tr>\n",
       "      <th>47</th>\n",
       "      <td>1537381.625</td>\n",
       "    </tr>\n",
       "    <tr>\n",
       "      <th>48</th>\n",
       "      <td>1533512.125</td>\n",
       "    </tr>\n",
       "    <tr>\n",
       "      <th>49</th>\n",
       "      <td>1528625.625</td>\n",
       "    </tr>\n",
       "  </tbody>\n",
       "</table>\n",
       "</div>"
      ],
      "text/plain": [
       "           loss\n",
       "0   4268256.000\n",
       "1   2831244.250\n",
       "2   2694904.000\n",
       "3   2503776.500\n",
       "4   2236713.250\n",
       "5   2025817.875\n",
       "6   1954203.375\n",
       "7   1931962.625\n",
       "8   1920372.375\n",
       "9   1915666.000\n",
       "10  1908297.000\n",
       "11  1899772.875\n",
       "12  1892520.375\n",
       "13  1886509.250\n",
       "14  1872219.125\n",
       "15  1866578.125\n",
       "16  1854913.250\n",
       "17  1850407.250\n",
       "18  1845362.500\n",
       "19  1834059.000\n",
       "20  1823256.875\n",
       "21  1816951.875\n",
       "22  1808490.125\n",
       "23  1795709.250\n",
       "24  1789378.250\n",
       "25  1780248.375\n",
       "26  1767700.000\n",
       "27  1760603.125\n",
       "28  1747077.375\n",
       "29  1737308.125\n",
       "30  1723613.125\n",
       "31  1712422.125\n",
       "32  1697963.625\n",
       "33  1685910.875\n",
       "34  1676270.750\n",
       "35  1666296.875\n",
       "36  1649897.125\n",
       "37  1637592.000\n",
       "38  1626532.625\n",
       "39  1614986.875\n",
       "40  1593371.875\n",
       "41  1590746.500\n",
       "42  1578398.625\n",
       "43  1567665.750\n",
       "44  1557454.625\n",
       "45  1543758.375\n",
       "46  1542925.125\n",
       "47  1537381.625\n",
       "48  1533512.125\n",
       "49  1528625.625"
      ]
     },
     "execution_count": 40,
     "metadata": {},
     "output_type": "execute_result"
    }
   ],
   "source": [
    "loss_df"
   ]
  },
  {
   "cell_type": "code",
   "execution_count": 41,
   "id": "924f9e34",
   "metadata": {
    "execution": {
     "iopub.execute_input": "2022-04-28T11:03:34.032040Z",
     "iopub.status.busy": "2022-04-28T11:03:34.031369Z",
     "iopub.status.idle": "2022-04-28T11:03:34.329735Z",
     "shell.execute_reply": "2022-04-28T11:03:34.328682Z"
    },
    "papermill": {
     "duration": 0.550751,
     "end_time": "2022-04-28T11:03:34.332169",
     "exception": false,
     "start_time": "2022-04-28T11:03:33.781418",
     "status": "completed"
    },
    "tags": []
   },
   "outputs": [
    {
     "data": {
      "text/plain": [
       "<AxesSubplot:>"
      ]
     },
     "execution_count": 41,
     "metadata": {},
     "output_type": "execute_result"
    },
    {
     "data": {
      "image/png": "[encoded data removed]",
      "text/plain": [
       "<Figure size 432x288 with 1 Axes>"
      ]
     },
     "metadata": {},
     "output_type": "display_data"
    }
   ],
   "source": [
    "loss_df.plot()"
   ]
  },
  {
   "cell_type": "markdown",
   "id": "0c427670",
   "metadata": {
    "papermill": {
     "duration": 0.248542,
     "end_time": "2022-04-28T11:03:34.831535",
     "exception": false,
     "start_time": "2022-04-28T11:03:34.582993",
     "status": "completed"
    },
    "tags": []
   },
   "source": [
    "**Model Evaluation**"
   ]
  },
  {
   "cell_type": "code",
   "execution_count": 42,
   "id": "50028c60",
   "metadata": {
    "execution": {
     "iopub.execute_input": "2022-04-28T11:03:35.336765Z",
     "iopub.status.busy": "2022-04-28T11:03:35.336187Z",
     "iopub.status.idle": "2022-04-28T11:03:35.590759Z",
     "shell.execute_reply": "2022-04-28T11:03:35.590087Z"
    },
    "papermill": {
     "duration": 0.507854,
     "end_time": "2022-04-28T11:03:35.593063",
     "exception": false,
     "start_time": "2022-04-28T11:03:35.085209",
     "status": "completed"
    },
    "tags": []
   },
   "outputs": [
    {
     "name": "stdout",
     "output_type": "stream",
     "text": [
      "1591096.25\n"
     ]
    }
   ],
   "source": [
    "\n",
    "test_eval = model.evaluate(X_test, y_test, verbose=0)\n",
    "print(test_eval)"
   ]
  },
  {
   "cell_type": "markdown",
   "id": "68b4583f",
   "metadata": {
    "papermill": {
     "duration": 0.283209,
     "end_time": "2022-04-28T11:03:36.126532",
     "exception": false,
     "start_time": "2022-04-28T11:03:35.843323",
     "status": "completed"
    },
    "tags": []
   },
   "source": [
    "**# model evaluation on train set**"
   ]
  },
  {
   "cell_type": "code",
   "execution_count": 43,
   "id": "f82d517c",
   "metadata": {
    "execution": {
     "iopub.execute_input": "2022-04-28T11:03:36.625682Z",
     "iopub.status.busy": "2022-04-28T11:03:36.624776Z",
     "iopub.status.idle": "2022-04-28T11:03:36.915098Z",
     "shell.execute_reply": "2022-04-28T11:03:36.914270Z"
    },
    "papermill": {
     "duration": 0.5418,
     "end_time": "2022-04-28T11:03:36.917301",
     "exception": false,
     "start_time": "2022-04-28T11:03:36.375501",
     "status": "completed"
    },
    "tags": []
   },
   "outputs": [
    {
     "name": "stdout",
     "output_type": "stream",
     "text": [
      "1596897.75\n"
     ]
    }
   ],
   "source": [
    "train_eval = model.evaluate(X_train, y_train, verbose=0)\n",
    "print(train_eval)"
   ]
  },
  {
   "cell_type": "markdown",
   "id": "06ab4dd5",
   "metadata": {
    "papermill": {
     "duration": 0.248062,
     "end_time": "2022-04-28T11:03:37.420122",
     "exception": false,
     "start_time": "2022-04-28T11:03:37.172060",
     "status": "completed"
    },
    "tags": []
   },
   "source": [
    "**# Checking difference between train_eval and test_eval**"
   ]
  },
  {
   "cell_type": "code",
   "execution_count": 44,
   "id": "35dc15aa",
   "metadata": {
    "execution": {
     "iopub.execute_input": "2022-04-28T11:03:37.922410Z",
     "iopub.status.busy": "2022-04-28T11:03:37.921833Z",
     "iopub.status.idle": "2022-04-28T11:03:37.926824Z",
     "shell.execute_reply": "2022-04-28T11:03:37.925753Z"
    },
    "papermill": {
     "duration": 0.259041,
     "end_time": "2022-04-28T11:03:37.928922",
     "exception": false,
     "start_time": "2022-04-28T11:03:37.669881",
     "status": "completed"
    },
    "tags": []
   },
   "outputs": [
    {
     "name": "stdout",
     "output_type": "stream",
     "text": [
      "5801.5\n"
     ]
    }
   ],
   "source": [
    "model_diff = train_eval - test_eval\n",
    "print(model_diff)"
   ]
  },
  {
   "cell_type": "markdown",
   "id": "188fff1c",
   "metadata": {
    "papermill": {
     "duration": 0.249092,
     "end_time": "2022-04-28T11:03:38.431486",
     "exception": false,
     "start_time": "2022-04-28T11:03:38.182394",
     "status": "completed"
    },
    "tags": []
   },
   "source": [
    "**# Train prediction on test data**"
   ]
  },
  {
   "cell_type": "code",
   "execution_count": 45,
   "id": "3e12b24a",
   "metadata": {
    "execution": {
     "iopub.execute_input": "2022-04-28T11:03:38.930930Z",
     "iopub.status.busy": "2022-04-28T11:03:38.930616Z",
     "iopub.status.idle": "2022-04-28T11:03:39.276333Z",
     "shell.execute_reply": "2022-04-28T11:03:39.275651Z"
    },
    "papermill": {
     "duration": 0.598426,
     "end_time": "2022-04-28T11:03:39.278814",
     "exception": false,
     "start_time": "2022-04-28T11:03:38.680388",
     "status": "completed"
    },
    "tags": []
   },
   "outputs": [],
   "source": [
    "train_prediction = model.predict(X_train)"
   ]
  },
  {
   "cell_type": "markdown",
   "id": "fdac30da",
   "metadata": {
    "papermill": {
     "duration": 0.251525,
     "end_time": "2022-04-28T11:03:39.780787",
     "exception": false,
     "start_time": "2022-04-28T11:03:39.529262",
     "status": "completed"
    },
    "tags": []
   },
   "source": [
    "**# Test prediction on test data**"
   ]
  },
  {
   "cell_type": "code",
   "execution_count": 46,
   "id": "dc051c37",
   "metadata": {
    "execution": {
     "iopub.execute_input": "2022-04-28T11:03:40.287137Z",
     "iopub.status.busy": "2022-04-28T11:03:40.286512Z",
     "iopub.status.idle": "2022-04-28T11:03:40.398914Z",
     "shell.execute_reply": "2022-04-28T11:03:40.397949Z"
    },
    "papermill": {
     "duration": 0.365268,
     "end_time": "2022-04-28T11:03:40.401560",
     "exception": false,
     "start_time": "2022-04-28T11:03:40.036292",
     "status": "completed"
    },
    "tags": []
   },
   "outputs": [],
   "source": [
    "test_prediction = model.predict(X_test)"
   ]
  },
  {
   "cell_type": "code",
   "execution_count": 47,
   "id": "b34afcc1",
   "metadata": {
    "execution": {
     "iopub.execute_input": "2022-04-28T11:03:40.902482Z",
     "iopub.status.busy": "2022-04-28T11:03:40.902185Z",
     "iopub.status.idle": "2022-04-28T11:03:40.906976Z",
     "shell.execute_reply": "2022-04-28T11:03:40.906359Z"
    },
    "papermill": {
     "duration": 0.2587,
     "end_time": "2022-04-28T11:03:40.909169",
     "exception": false,
     "start_time": "2022-04-28T11:03:40.650469",
     "status": "completed"
    },
    "tags": []
   },
   "outputs": [
    {
     "name": "stdout",
     "output_type": "stream",
     "text": [
      "[[2647.918  ]\n",
      " [ 673.0176 ]\n",
      " [ 670.96826]\n",
      " ...\n",
      " [ 805.0281 ]\n",
      " [1562.1196 ]\n",
      " [2929.8635 ]]\n"
     ]
    }
   ],
   "source": [
    "print(train_prediction)"
   ]
  },
  {
   "cell_type": "code",
   "execution_count": 48,
   "id": "77b34ea1",
   "metadata": {
    "execution": {
     "iopub.execute_input": "2022-04-28T11:03:41.416421Z",
     "iopub.status.busy": "2022-04-28T11:03:41.415800Z",
     "iopub.status.idle": "2022-04-28T11:03:41.420644Z",
     "shell.execute_reply": "2022-04-28T11:03:41.419795Z"
    },
    "papermill": {
     "duration": 0.259698,
     "end_time": "2022-04-28T11:03:41.422432",
     "exception": false,
     "start_time": "2022-04-28T11:03:41.162734",
     "status": "completed"
    },
    "tags": []
   },
   "outputs": [
    {
     "name": "stdout",
     "output_type": "stream",
     "text": [
      "[[2104.4558 ]\n",
      " [1590.8557 ]\n",
      " [1024.7468 ]\n",
      " ...\n",
      " [3670.7898 ]\n",
      " [ 195.01709]\n",
      " [4680.941  ]]\n"
     ]
    }
   ],
   "source": [
    "print(test_prediction)"
   ]
  },
  {
   "cell_type": "markdown",
   "id": "a21eeee7",
   "metadata": {
    "papermill": {
     "duration": 0.254218,
     "end_time": "2022-04-28T11:03:41.929019",
     "exception": false,
     "start_time": "2022-04-28T11:03:41.674801",
     "status": "completed"
    },
    "tags": []
   },
   "source": [
    "**# R Squared : R-squared measures the strength of the relationship between your model and the dependent variable on a convenient 0 –**"
   ]
  },
  {
   "cell_type": "code",
   "execution_count": 49,
   "id": "ac6ea459",
   "metadata": {
    "execution": {
     "iopub.execute_input": "2022-04-28T11:03:42.430508Z",
     "iopub.status.busy": "2022-04-28T11:03:42.429918Z",
     "iopub.status.idle": "2022-04-28T11:03:42.434537Z",
     "shell.execute_reply": "2022-04-28T11:03:42.433797Z"
    },
    "papermill": {
     "duration": 0.257117,
     "end_time": "2022-04-28T11:03:42.436782",
     "exception": false,
     "start_time": "2022-04-28T11:03:42.179665",
     "status": "completed"
    },
    "tags": []
   },
   "outputs": [],
   "source": [
    "from sklearn.metrics import r2_score\n",
    "r2_train = r2_score(y_train, train_prediction)"
   ]
  },
  {
   "cell_type": "code",
   "execution_count": 50,
   "id": "d84dccac",
   "metadata": {
    "execution": {
     "iopub.execute_input": "2022-04-28T11:03:42.943175Z",
     "iopub.status.busy": "2022-04-28T11:03:42.942827Z",
     "iopub.status.idle": "2022-04-28T11:03:42.947580Z",
     "shell.execute_reply": "2022-04-28T11:03:42.946665Z"
    },
    "papermill": {
     "duration": 0.259685,
     "end_time": "2022-04-28T11:03:42.950694",
     "exception": false,
     "start_time": "2022-04-28T11:03:42.691009",
     "status": "completed"
    },
    "tags": []
   },
   "outputs": [
    {
     "name": "stdout",
     "output_type": "stream",
     "text": [
      "R squared value of train data: 0.45086162528405027\n"
     ]
    }
   ],
   "source": [
    "print('R squared value of train data:', r2_train)"
   ]
  },
  {
   "cell_type": "code",
   "execution_count": 51,
   "id": "f82c2278",
   "metadata": {
    "execution": {
     "iopub.execute_input": "2022-04-28T11:03:43.455696Z",
     "iopub.status.busy": "2022-04-28T11:03:43.455210Z",
     "iopub.status.idle": "2022-04-28T11:03:43.459827Z",
     "shell.execute_reply": "2022-04-28T11:03:43.459180Z"
    },
    "papermill": {
     "duration": 0.258027,
     "end_time": "2022-04-28T11:03:43.462016",
     "exception": false,
     "start_time": "2022-04-28T11:03:43.203989",
     "status": "completed"
    },
    "tags": []
   },
   "outputs": [],
   "source": [
    "r2_test = r2_score(y_test, test_prediction)"
   ]
  },
  {
   "cell_type": "code",
   "execution_count": 52,
   "id": "d1d303be",
   "metadata": {
    "execution": {
     "iopub.execute_input": "2022-04-28T11:03:43.972384Z",
     "iopub.status.busy": "2022-04-28T11:03:43.971850Z",
     "iopub.status.idle": "2022-04-28T11:03:43.977377Z",
     "shell.execute_reply": "2022-04-28T11:03:43.976310Z"
    },
    "papermill": {
     "duration": 0.262214,
     "end_time": "2022-04-28T11:03:43.979433",
     "exception": false,
     "start_time": "2022-04-28T11:03:43.717219",
     "status": "completed"
    },
    "tags": []
   },
   "outputs": [
    {
     "name": "stdout",
     "output_type": "stream",
     "text": [
      "R squared value of test data: 0.4563809007260504\n"
     ]
    }
   ],
   "source": [
    "print('R squared value of test data:',r2_test)"
   ]
  }
 ],
 "metadata": {
  "kernelspec": {
   "display_name": "Python 3",
   "language": "python",
   "name": "python3"
  },
  "language_info": {
   "codemirror_mode": {
    "name": "ipython",
    "version": 3
   },
   "file_extension": ".py",
   "mimetype": "text/x-python",
   "name": "python",
   "nbconvert_exporter": "python",
   "pygments_lexer": "ipython3",
   "version": "3.7.12"
  },
  "papermill": {
   "default_parameters": {},
   "duration": 63.881258,
   "end_time": "2022-04-28T11:03:46.947105",
   "environment_variables": {},
   "exception": null,
   "input_path": "__notebook__.ipynb",
   "output_path": "__notebook__.ipynb",
   "parameters": {},
   "start_time": "2022-04-28T11:02:43.065847",
   "version": "2.3.4"
  }
 },
 "nbformat": 4,
 "nbformat_minor": 5
}
